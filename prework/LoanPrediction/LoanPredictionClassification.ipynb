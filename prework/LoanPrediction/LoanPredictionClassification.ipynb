{
 "cells": [
  {
   "cell_type": "markdown",
   "id": "7db2407b-4c21-4f58-9624-2438cbe1baba",
   "metadata": {},
   "source": [
    "# Loan Prediction - Classification Solution"
   ]
  },
  {
   "cell_type": "markdown",
   "id": "583d9d9f-b53e-4d92-bafc-c668ec8f1b1a",
   "metadata": {},
   "source": [
    "Bir finans kurumu, kredi ödemelerini geciktirme olasılığı daha düşük olan müşterileri belirlememize yardımcı olmamızı istiyor.\n",
    "Şirket yönetimi, veri bilimi ekibinden iyi bir müşteri olabilecek kişileri belirlemek için bir tahmin modeli oluşturmasını istedi. Ayrıca, ekipten, müşterilerin kredi başvurusu yaparken modele dayalı olarak sorulacak sorular hazırlamasını istiyorlar."
   ]
  },
  {
   "cell_type": "code",
   "execution_count": 1,
   "id": "94985a09-dfe4-477a-8d58-6842a1e527a6",
   "metadata": {},
   "outputs": [],
   "source": [
    "import pandas as pd\n",
    "import numpy as np\n",
    "import matplotlib.pyplot as plt\n",
    "import seaborn as sns\n",
    "from sklearn.model_selection import train_test_split\n",
    "from sklearn.preprocessing import StandardScaler, LabelEncoder\n",
    "from sklearn.impute import SimpleImputer, KNNImputer\n",
    "from sklearn.linear_model import LogisticRegression\n",
    "from sklearn.tree import DecisionTreeClassifier\n",
    "from sklearn.ensemble import RandomForestClassifier\n",
    "from sklearn.metrics import accuracy_score, classification_report, confusion_matrix, roc_auc_score, roc_curve, confusion_matrix\n",
    "from sklearn.decomposition import PCA\n",
    "import warnings\n",
    "warnings.filterwarnings('ignore')\n",
    "from tensorflow.keras.models import Sequential\n",
    "from tensorflow.keras.layers import Dense, Dropout\n",
    "from tensorflow.keras.callbacks import EarlyStopping"
   ]
  },
  {
   "cell_type": "code",
   "execution_count": 2,
   "id": "e8600708-e8a6-4a4c-b476-eb1d1b27407c",
   "metadata": {},
   "outputs": [],
   "source": [
    "data = pd.read_csv('LoansTrainingSet.csv')"
   ]
  },
  {
   "cell_type": "code",
   "execution_count": 3,
   "id": "11adca69-df57-46e5-8ef8-926880ac3f10",
   "metadata": {},
   "outputs": [
    {
     "data": {
      "text/html": [
       "<div>\n",
       "<style scoped>\n",
       "    .dataframe tbody tr th:only-of-type {\n",
       "        vertical-align: middle;\n",
       "    }\n",
       "\n",
       "    .dataframe tbody tr th {\n",
       "        vertical-align: top;\n",
       "    }\n",
       "\n",
       "    .dataframe thead th {\n",
       "        text-align: right;\n",
       "    }\n",
       "</style>\n",
       "<table border=\"1\" class=\"dataframe\">\n",
       "  <thead>\n",
       "    <tr style=\"text-align: right;\">\n",
       "      <th></th>\n",
       "      <th>Loan ID</th>\n",
       "      <th>Customer ID</th>\n",
       "      <th>Loan Status</th>\n",
       "      <th>Current Loan Amount</th>\n",
       "      <th>Term</th>\n",
       "      <th>Credit Score</th>\n",
       "      <th>Years in current job</th>\n",
       "      <th>Home Ownership</th>\n",
       "      <th>Annual Income</th>\n",
       "      <th>Purpose</th>\n",
       "      <th>Monthly Debt</th>\n",
       "      <th>Years of Credit History</th>\n",
       "      <th>Months since last delinquent</th>\n",
       "      <th>Number of Open Accounts</th>\n",
       "      <th>Number of Credit Problems</th>\n",
       "      <th>Current Credit Balance</th>\n",
       "      <th>Maximum Open Credit</th>\n",
       "      <th>Bankruptcies</th>\n",
       "      <th>Tax Liens</th>\n",
       "    </tr>\n",
       "  </thead>\n",
       "  <tbody>\n",
       "    <tr>\n",
       "      <th>0</th>\n",
       "      <td>000025bb-5694-4cff-b17d-192b1a98ba44</td>\n",
       "      <td>5ebc8bb1-5eb9-4404-b11b-a6eebc401a19</td>\n",
       "      <td>Fully Paid</td>\n",
       "      <td>11520</td>\n",
       "      <td>Short Term</td>\n",
       "      <td>741.0</td>\n",
       "      <td>10+ years</td>\n",
       "      <td>Home Mortgage</td>\n",
       "      <td>33694.0</td>\n",
       "      <td>Debt Consolidation</td>\n",
       "      <td>$584.03</td>\n",
       "      <td>12.3</td>\n",
       "      <td>41.0</td>\n",
       "      <td>10</td>\n",
       "      <td>0</td>\n",
       "      <td>6760</td>\n",
       "      <td>16056</td>\n",
       "      <td>0.0</td>\n",
       "      <td>0.0</td>\n",
       "    </tr>\n",
       "    <tr>\n",
       "      <th>1</th>\n",
       "      <td>00002c49-3a29-4bd4-8f67-c8f8fbc1048c</td>\n",
       "      <td>927b388d-2e01-423f-a8dc-f7e42d668f46</td>\n",
       "      <td>Fully Paid</td>\n",
       "      <td>3441</td>\n",
       "      <td>Short Term</td>\n",
       "      <td>734.0</td>\n",
       "      <td>4 years</td>\n",
       "      <td>Home Mortgage</td>\n",
       "      <td>42269.0</td>\n",
       "      <td>other</td>\n",
       "      <td>$1,106.04</td>\n",
       "      <td>26.3</td>\n",
       "      <td>NaN</td>\n",
       "      <td>17</td>\n",
       "      <td>0</td>\n",
       "      <td>6262</td>\n",
       "      <td>19149</td>\n",
       "      <td>0.0</td>\n",
       "      <td>0.0</td>\n",
       "    </tr>\n",
       "    <tr>\n",
       "      <th>2</th>\n",
       "      <td>00002d89-27f3-409b-aa76-90834f359a65</td>\n",
       "      <td>defce609-c631-447d-aad6-1270615e89c4</td>\n",
       "      <td>Fully Paid</td>\n",
       "      <td>21029</td>\n",
       "      <td>Short Term</td>\n",
       "      <td>747.0</td>\n",
       "      <td>10+ years</td>\n",
       "      <td>Home Mortgage</td>\n",
       "      <td>90126.0</td>\n",
       "      <td>Debt Consolidation</td>\n",
       "      <td>$1,321.85</td>\n",
       "      <td>28.8</td>\n",
       "      <td>NaN</td>\n",
       "      <td>5</td>\n",
       "      <td>0</td>\n",
       "      <td>20967</td>\n",
       "      <td>28335</td>\n",
       "      <td>0.0</td>\n",
       "      <td>0.0</td>\n",
       "    </tr>\n",
       "    <tr>\n",
       "      <th>3</th>\n",
       "      <td>00005222-b4d8-45a4-ad8c-186057e24233</td>\n",
       "      <td>070bcecb-aae7-4485-a26a-e0403e7bb6c5</td>\n",
       "      <td>Fully Paid</td>\n",
       "      <td>18743</td>\n",
       "      <td>Short Term</td>\n",
       "      <td>747.0</td>\n",
       "      <td>10+ years</td>\n",
       "      <td>Own Home</td>\n",
       "      <td>38072.0</td>\n",
       "      <td>Debt Consolidation</td>\n",
       "      <td>$751.92</td>\n",
       "      <td>26.2</td>\n",
       "      <td>NaN</td>\n",
       "      <td>9</td>\n",
       "      <td>0</td>\n",
       "      <td>22529</td>\n",
       "      <td>43915</td>\n",
       "      <td>0.0</td>\n",
       "      <td>0.0</td>\n",
       "    </tr>\n",
       "    <tr>\n",
       "      <th>4</th>\n",
       "      <td>0000757f-a121-41ed-b17b-162e76647c1f</td>\n",
       "      <td>dde79588-12f0-4811-bab0-e2b07f633fcd</td>\n",
       "      <td>Fully Paid</td>\n",
       "      <td>11731</td>\n",
       "      <td>Short Term</td>\n",
       "      <td>746.0</td>\n",
       "      <td>4 years</td>\n",
       "      <td>Rent</td>\n",
       "      <td>50025.0</td>\n",
       "      <td>Debt Consolidation</td>\n",
       "      <td>$355.18</td>\n",
       "      <td>11.5</td>\n",
       "      <td>NaN</td>\n",
       "      <td>12</td>\n",
       "      <td>0</td>\n",
       "      <td>17391</td>\n",
       "      <td>37081</td>\n",
       "      <td>0.0</td>\n",
       "      <td>0.0</td>\n",
       "    </tr>\n",
       "  </tbody>\n",
       "</table>\n",
       "</div>"
      ],
      "text/plain": [
       "                                Loan ID                           Customer ID  \\\n",
       "0  000025bb-5694-4cff-b17d-192b1a98ba44  5ebc8bb1-5eb9-4404-b11b-a6eebc401a19   \n",
       "1  00002c49-3a29-4bd4-8f67-c8f8fbc1048c  927b388d-2e01-423f-a8dc-f7e42d668f46   \n",
       "2  00002d89-27f3-409b-aa76-90834f359a65  defce609-c631-447d-aad6-1270615e89c4   \n",
       "3  00005222-b4d8-45a4-ad8c-186057e24233  070bcecb-aae7-4485-a26a-e0403e7bb6c5   \n",
       "4  0000757f-a121-41ed-b17b-162e76647c1f  dde79588-12f0-4811-bab0-e2b07f633fcd   \n",
       "\n",
       "  Loan Status  Current Loan Amount        Term  Credit Score  \\\n",
       "0  Fully Paid                11520  Short Term         741.0   \n",
       "1  Fully Paid                 3441  Short Term         734.0   \n",
       "2  Fully Paid                21029  Short Term         747.0   \n",
       "3  Fully Paid                18743  Short Term         747.0   \n",
       "4  Fully Paid                11731  Short Term         746.0   \n",
       "\n",
       "  Years in current job Home Ownership  Annual Income             Purpose  \\\n",
       "0            10+ years  Home Mortgage        33694.0  Debt Consolidation   \n",
       "1              4 years  Home Mortgage        42269.0               other   \n",
       "2            10+ years  Home Mortgage        90126.0  Debt Consolidation   \n",
       "3            10+ years       Own Home        38072.0  Debt Consolidation   \n",
       "4              4 years           Rent        50025.0  Debt Consolidation   \n",
       "\n",
       "  Monthly Debt  Years of Credit History  Months since last delinquent  \\\n",
       "0      $584.03                     12.3                          41.0   \n",
       "1   $1,106.04                      26.3                           NaN   \n",
       "2   $1,321.85                      28.8                           NaN   \n",
       "3      $751.92                     26.2                           NaN   \n",
       "4      $355.18                     11.5                           NaN   \n",
       "\n",
       "   Number of Open Accounts  Number of Credit Problems  Current Credit Balance  \\\n",
       "0                       10                          0                    6760   \n",
       "1                       17                          0                    6262   \n",
       "2                        5                          0                   20967   \n",
       "3                        9                          0                   22529   \n",
       "4                       12                          0                   17391   \n",
       "\n",
       "  Maximum Open Credit  Bankruptcies  Tax Liens  \n",
       "0               16056           0.0        0.0  \n",
       "1               19149           0.0        0.0  \n",
       "2               28335           0.0        0.0  \n",
       "3               43915           0.0        0.0  \n",
       "4               37081           0.0        0.0  "
      ]
     },
     "execution_count": 3,
     "metadata": {},
     "output_type": "execute_result"
    }
   ],
   "source": [
    "data.head()"
   ]
  },
  {
   "cell_type": "code",
   "execution_count": 4,
   "id": "5b979a00-b727-4eb1-afa7-488b03fbffda",
   "metadata": {},
   "outputs": [
    {
     "name": "stdout",
     "output_type": "stream",
     "text": [
      "<class 'pandas.core.frame.DataFrame'>\n",
      "RangeIndex: 256984 entries, 0 to 256983\n",
      "Data columns (total 19 columns):\n",
      " #   Column                        Non-Null Count   Dtype  \n",
      "---  ------                        --------------   -----  \n",
      " 0   Loan ID                       256984 non-null  object \n",
      " 1   Customer ID                   256984 non-null  object \n",
      " 2   Loan Status                   256984 non-null  object \n",
      " 3   Current Loan Amount           256984 non-null  int64  \n",
      " 4   Term                          256984 non-null  object \n",
      " 5   Credit Score                  195308 non-null  float64\n",
      " 6   Years in current job          245508 non-null  object \n",
      " 7   Home Ownership                256984 non-null  object \n",
      " 8   Annual Income                 195308 non-null  float64\n",
      " 9   Purpose                       256984 non-null  object \n",
      " 10  Monthly Debt                  256984 non-null  object \n",
      " 11  Years of Credit History       256984 non-null  float64\n",
      " 12  Months since last delinquent  116601 non-null  float64\n",
      " 13  Number of Open Accounts       256984 non-null  int64  \n",
      " 14  Number of Credit Problems     256984 non-null  int64  \n",
      " 15  Current Credit Balance        256984 non-null  int64  \n",
      " 16  Maximum Open Credit           256984 non-null  object \n",
      " 17  Bankruptcies                  256455 non-null  float64\n",
      " 18  Tax Liens                     256961 non-null  float64\n",
      "dtypes: float64(6), int64(4), object(9)\n",
      "memory usage: 37.3+ MB\n"
     ]
    }
   ],
   "source": [
    "data.info()"
   ]
  },
  {
   "cell_type": "code",
   "execution_count": 5,
   "id": "cdbcd2a8-246c-4e73-8767-0d37056135e6",
   "metadata": {},
   "outputs": [
    {
     "data": {
      "text/plain": [
       "Loan ID                              0\n",
       "Customer ID                          0\n",
       "Loan Status                          0\n",
       "Current Loan Amount                  0\n",
       "Term                                 0\n",
       "Credit Score                     61676\n",
       "Years in current job             11476\n",
       "Home Ownership                       0\n",
       "Annual Income                    61676\n",
       "Purpose                              0\n",
       "Monthly Debt                         0\n",
       "Years of Credit History              0\n",
       "Months since last delinquent    140383\n",
       "Number of Open Accounts              0\n",
       "Number of Credit Problems            0\n",
       "Current Credit Balance               0\n",
       "Maximum Open Credit                  0\n",
       "Bankruptcies                       529\n",
       "Tax Liens                           23\n",
       "dtype: int64"
      ]
     },
     "execution_count": 5,
     "metadata": {},
     "output_type": "execute_result"
    }
   ],
   "source": [
    "data.isnull().sum()"
   ]
  },
  {
   "cell_type": "code",
   "execution_count": 7,
   "id": "efe1bba6-6049-490d-9714-06360eb8ea9c",
   "metadata": {},
   "outputs": [],
   "source": [
    "# Months since last delinquent cok fazla bos deger oldugu icin silmek daha faydali\n",
    "del data['Months since last delinquent']"
   ]
  },
  {
   "cell_type": "code",
   "execution_count": 8,
   "id": "fe571c78-2edd-4d34-ae2d-09bde57ec473",
   "metadata": {},
   "outputs": [],
   "source": [
    "# Sayısal sütunlar\n",
    "num_cols = data.select_dtypes(include=['float64', 'int64']).columns"
   ]
  },
  {
   "cell_type": "code",
   "execution_count": 9,
   "id": "a2d3873f-1847-4db0-a2bc-df2ea875b0c6",
   "metadata": {},
   "outputs": [],
   "source": [
    "# Ortalama ile dolduralım\n",
    "imputer_mean = SimpleImputer(strategy='mean')\n",
    "data[num_cols] = imputer_mean.fit_transform(data[num_cols])"
   ]
  },
  {
   "cell_type": "code",
   "execution_count": 10,
   "id": "78a7e2c1-47d2-492f-aa15-18188f9c4302",
   "metadata": {},
   "outputs": [],
   "source": [
    "# Kategorik sütunlar\n",
    "cat_cols = data.select_dtypes(include=['object']).columns"
   ]
  },
  {
   "cell_type": "code",
   "execution_count": 11,
   "id": "58abeca8-e6f0-49bd-959f-a1d68f0b8696",
   "metadata": {},
   "outputs": [],
   "source": [
    "# En sık görülen değer ile dolduralım\n",
    "imputer_freq = SimpleImputer(strategy='most_frequent')\n",
    "data[cat_cols] = imputer_freq.fit_transform(data[cat_cols])"
   ]
  },
  {
   "cell_type": "code",
   "execution_count": 12,
   "id": "e1b2006c-f198-443b-8752-721611413cd3",
   "metadata": {},
   "outputs": [
    {
     "data": {
      "text/plain": [
       "Loan ID                      0\n",
       "Customer ID                  0\n",
       "Loan Status                  0\n",
       "Current Loan Amount          0\n",
       "Term                         0\n",
       "Credit Score                 0\n",
       "Years in current job         0\n",
       "Home Ownership               0\n",
       "Annual Income                0\n",
       "Purpose                      0\n",
       "Monthly Debt                 0\n",
       "Years of Credit History      0\n",
       "Number of Open Accounts      0\n",
       "Number of Credit Problems    0\n",
       "Current Credit Balance       0\n",
       "Maximum Open Credit          0\n",
       "Bankruptcies                 0\n",
       "Tax Liens                    0\n",
       "dtype: int64"
      ]
     },
     "execution_count": 12,
     "metadata": {},
     "output_type": "execute_result"
    }
   ],
   "source": [
    "data.isnull().sum()"
   ]
  },
  {
   "cell_type": "code",
   "execution_count": 13,
   "id": "d83381b9-5f62-4fc9-ae4f-8094016a7a52",
   "metadata": {},
   "outputs": [],
   "source": [
    "le = LabelEncoder()\n",
    "data['Loan Status'] = le.fit_transform(data['Loan Status'])"
   ]
  },
  {
   "cell_type": "code",
   "execution_count": 14,
   "id": "f4e7b3c3-5103-46cb-bc89-4a34cb9e20f0",
   "metadata": {},
   "outputs": [],
   "source": [
    "# Binary kolonları encode et\n",
    "for col in ['Term', 'Home Ownership', 'Purpose', 'Years in current job']:\n",
    "    data[col] = le.fit_transform(data[col])"
   ]
  },
  {
   "cell_type": "code",
   "execution_count": 15,
   "id": "90344167-74a1-4e75-8144-23dfb12fa010",
   "metadata": {},
   "outputs": [],
   "source": [
    "# Gereksiz ID sütunlarını çıkar\n",
    "data = data.drop(['Loan ID', 'Customer ID'], axis=1)"
   ]
  },
  {
   "cell_type": "code",
   "execution_count": 16,
   "id": "8d4f2323-e609-434b-93ec-c6413cc4a0a6",
   "metadata": {},
   "outputs": [],
   "source": [
    "# Feature ve target ayırma\n",
    "X = data.drop('Loan Status', axis=1)\n",
    "y = data['Loan Status']"
   ]
  },
  {
   "cell_type": "code",
   "execution_count": 17,
   "id": "fdfdcdb3-4bde-49ff-b3fb-9710cc5c4a3f",
   "metadata": {},
   "outputs": [
    {
     "data": {
      "text/html": [
       "<div>\n",
       "<style scoped>\n",
       "    .dataframe tbody tr th:only-of-type {\n",
       "        vertical-align: middle;\n",
       "    }\n",
       "\n",
       "    .dataframe tbody tr th {\n",
       "        vertical-align: top;\n",
       "    }\n",
       "\n",
       "    .dataframe thead th {\n",
       "        text-align: right;\n",
       "    }\n",
       "</style>\n",
       "<table border=\"1\" class=\"dataframe\">\n",
       "  <thead>\n",
       "    <tr style=\"text-align: right;\">\n",
       "      <th></th>\n",
       "      <th>Current Loan Amount</th>\n",
       "      <th>Term</th>\n",
       "      <th>Credit Score</th>\n",
       "      <th>Years in current job</th>\n",
       "      <th>Home Ownership</th>\n",
       "      <th>Annual Income</th>\n",
       "      <th>Purpose</th>\n",
       "      <th>Monthly Debt</th>\n",
       "      <th>Years of Credit History</th>\n",
       "      <th>Number of Open Accounts</th>\n",
       "      <th>Number of Credit Problems</th>\n",
       "      <th>Current Credit Balance</th>\n",
       "      <th>Maximum Open Credit</th>\n",
       "      <th>Bankruptcies</th>\n",
       "      <th>Tax Liens</th>\n",
       "    </tr>\n",
       "  </thead>\n",
       "  <tbody>\n",
       "    <tr>\n",
       "      <th>0</th>\n",
       "      <td>11520.0</td>\n",
       "      <td>1</td>\n",
       "      <td>741.000000</td>\n",
       "      <td>1</td>\n",
       "      <td>1</td>\n",
       "      <td>33694.000000</td>\n",
       "      <td>3</td>\n",
       "      <td>$584.03</td>\n",
       "      <td>12.3</td>\n",
       "      <td>10.0</td>\n",
       "      <td>0.0</td>\n",
       "      <td>6760.0</td>\n",
       "      <td>16056</td>\n",
       "      <td>0.0</td>\n",
       "      <td>0.0</td>\n",
       "    </tr>\n",
       "    <tr>\n",
       "      <th>1</th>\n",
       "      <td>3441.0</td>\n",
       "      <td>1</td>\n",
       "      <td>734.000000</td>\n",
       "      <td>4</td>\n",
       "      <td>1</td>\n",
       "      <td>42269.000000</td>\n",
       "      <td>9</td>\n",
       "      <td>$1,106.04</td>\n",
       "      <td>26.3</td>\n",
       "      <td>17.0</td>\n",
       "      <td>0.0</td>\n",
       "      <td>6262.0</td>\n",
       "      <td>19149</td>\n",
       "      <td>0.0</td>\n",
       "      <td>0.0</td>\n",
       "    </tr>\n",
       "    <tr>\n",
       "      <th>2</th>\n",
       "      <td>21029.0</td>\n",
       "      <td>1</td>\n",
       "      <td>747.000000</td>\n",
       "      <td>1</td>\n",
       "      <td>1</td>\n",
       "      <td>90126.000000</td>\n",
       "      <td>3</td>\n",
       "      <td>$1,321.85</td>\n",
       "      <td>28.8</td>\n",
       "      <td>5.0</td>\n",
       "      <td>0.0</td>\n",
       "      <td>20967.0</td>\n",
       "      <td>28335</td>\n",
       "      <td>0.0</td>\n",
       "      <td>0.0</td>\n",
       "    </tr>\n",
       "    <tr>\n",
       "      <th>3</th>\n",
       "      <td>18743.0</td>\n",
       "      <td>1</td>\n",
       "      <td>747.000000</td>\n",
       "      <td>1</td>\n",
       "      <td>2</td>\n",
       "      <td>38072.000000</td>\n",
       "      <td>3</td>\n",
       "      <td>$751.92</td>\n",
       "      <td>26.2</td>\n",
       "      <td>9.0</td>\n",
       "      <td>0.0</td>\n",
       "      <td>22529.0</td>\n",
       "      <td>43915</td>\n",
       "      <td>0.0</td>\n",
       "      <td>0.0</td>\n",
       "    </tr>\n",
       "    <tr>\n",
       "      <th>4</th>\n",
       "      <td>11731.0</td>\n",
       "      <td>1</td>\n",
       "      <td>746.000000</td>\n",
       "      <td>4</td>\n",
       "      <td>3</td>\n",
       "      <td>50025.000000</td>\n",
       "      <td>3</td>\n",
       "      <td>$355.18</td>\n",
       "      <td>11.5</td>\n",
       "      <td>12.0</td>\n",
       "      <td>0.0</td>\n",
       "      <td>17391.0</td>\n",
       "      <td>37081</td>\n",
       "      <td>0.0</td>\n",
       "      <td>0.0</td>\n",
       "    </tr>\n",
       "    <tr>\n",
       "      <th>...</th>\n",
       "      <td>...</td>\n",
       "      <td>...</td>\n",
       "      <td>...</td>\n",
       "      <td>...</td>\n",
       "      <td>...</td>\n",
       "      <td>...</td>\n",
       "      <td>...</td>\n",
       "      <td>...</td>\n",
       "      <td>...</td>\n",
       "      <td>...</td>\n",
       "      <td>...</td>\n",
       "      <td>...</td>\n",
       "      <td>...</td>\n",
       "      <td>...</td>\n",
       "      <td>...</td>\n",
       "    </tr>\n",
       "    <tr>\n",
       "      <th>256979</th>\n",
       "      <td>3911.0</td>\n",
       "      <td>1</td>\n",
       "      <td>1251.116099</td>\n",
       "      <td>2</td>\n",
       "      <td>3</td>\n",
       "      <td>71952.716187</td>\n",
       "      <td>3</td>\n",
       "      <td>$1,706.58</td>\n",
       "      <td>19.9</td>\n",
       "      <td>16.0</td>\n",
       "      <td>0.0</td>\n",
       "      <td>43992.0</td>\n",
       "      <td>44080</td>\n",
       "      <td>0.0</td>\n",
       "      <td>0.0</td>\n",
       "    </tr>\n",
       "    <tr>\n",
       "      <th>256980</th>\n",
       "      <td>5078.0</td>\n",
       "      <td>1</td>\n",
       "      <td>737.000000</td>\n",
       "      <td>1</td>\n",
       "      <td>2</td>\n",
       "      <td>77186.000000</td>\n",
       "      <td>3</td>\n",
       "      <td>$1,376.47</td>\n",
       "      <td>19.1</td>\n",
       "      <td>9.0</td>\n",
       "      <td>0.0</td>\n",
       "      <td>1717.0</td>\n",
       "      <td>9758</td>\n",
       "      <td>0.0</td>\n",
       "      <td>0.0</td>\n",
       "    </tr>\n",
       "    <tr>\n",
       "      <th>256981</th>\n",
       "      <td>12116.0</td>\n",
       "      <td>1</td>\n",
       "      <td>7460.000000</td>\n",
       "      <td>9</td>\n",
       "      <td>1</td>\n",
       "      <td>52504.000000</td>\n",
       "      <td>3</td>\n",
       "      <td>$297.96</td>\n",
       "      <td>15.1</td>\n",
       "      <td>8.0</td>\n",
       "      <td>0.0</td>\n",
       "      <td>3315.0</td>\n",
       "      <td>20090</td>\n",
       "      <td>0.0</td>\n",
       "      <td>0.0</td>\n",
       "    </tr>\n",
       "    <tr>\n",
       "      <th>256982</th>\n",
       "      <td>12116.0</td>\n",
       "      <td>1</td>\n",
       "      <td>746.000000</td>\n",
       "      <td>9</td>\n",
       "      <td>1</td>\n",
       "      <td>52504.000000</td>\n",
       "      <td>3</td>\n",
       "      <td>$297.96</td>\n",
       "      <td>15.1</td>\n",
       "      <td>8.0</td>\n",
       "      <td>0.0</td>\n",
       "      <td>3315.0</td>\n",
       "      <td>20090</td>\n",
       "      <td>0.0</td>\n",
       "      <td>0.0</td>\n",
       "    </tr>\n",
       "    <tr>\n",
       "      <th>256983</th>\n",
       "      <td>27902.0</td>\n",
       "      <td>0</td>\n",
       "      <td>678.000000</td>\n",
       "      <td>1</td>\n",
       "      <td>1</td>\n",
       "      <td>117480.000000</td>\n",
       "      <td>3</td>\n",
       "      <td>$2,525.82</td>\n",
       "      <td>18.0</td>\n",
       "      <td>10.0</td>\n",
       "      <td>0.0</td>\n",
       "      <td>28317.0</td>\n",
       "      <td>62371</td>\n",
       "      <td>0.0</td>\n",
       "      <td>0.0</td>\n",
       "    </tr>\n",
       "  </tbody>\n",
       "</table>\n",
       "<p>256984 rows × 15 columns</p>\n",
       "</div>"
      ],
      "text/plain": [
       "        Current Loan Amount  Term  Credit Score  Years in current job  \\\n",
       "0                   11520.0     1    741.000000                     1   \n",
       "1                    3441.0     1    734.000000                     4   \n",
       "2                   21029.0     1    747.000000                     1   \n",
       "3                   18743.0     1    747.000000                     1   \n",
       "4                   11731.0     1    746.000000                     4   \n",
       "...                     ...   ...           ...                   ...   \n",
       "256979               3911.0     1   1251.116099                     2   \n",
       "256980               5078.0     1    737.000000                     1   \n",
       "256981              12116.0     1   7460.000000                     9   \n",
       "256982              12116.0     1    746.000000                     9   \n",
       "256983              27902.0     0    678.000000                     1   \n",
       "\n",
       "        Home Ownership  Annual Income  Purpose Monthly Debt  \\\n",
       "0                    1   33694.000000        3      $584.03   \n",
       "1                    1   42269.000000        9   $1,106.04    \n",
       "2                    1   90126.000000        3   $1,321.85    \n",
       "3                    2   38072.000000        3      $751.92   \n",
       "4                    3   50025.000000        3      $355.18   \n",
       "...                ...            ...      ...          ...   \n",
       "256979               3   71952.716187        3   $1,706.58    \n",
       "256980               2   77186.000000        3   $1,376.47    \n",
       "256981               1   52504.000000        3      $297.96   \n",
       "256982               1   52504.000000        3      $297.96   \n",
       "256983               1  117480.000000        3   $2,525.82    \n",
       "\n",
       "        Years of Credit History  Number of Open Accounts  \\\n",
       "0                          12.3                     10.0   \n",
       "1                          26.3                     17.0   \n",
       "2                          28.8                      5.0   \n",
       "3                          26.2                      9.0   \n",
       "4                          11.5                     12.0   \n",
       "...                         ...                      ...   \n",
       "256979                     19.9                     16.0   \n",
       "256980                     19.1                      9.0   \n",
       "256981                     15.1                      8.0   \n",
       "256982                     15.1                      8.0   \n",
       "256983                     18.0                     10.0   \n",
       "\n",
       "        Number of Credit Problems  Current Credit Balance Maximum Open Credit  \\\n",
       "0                             0.0                  6760.0               16056   \n",
       "1                             0.0                  6262.0               19149   \n",
       "2                             0.0                 20967.0               28335   \n",
       "3                             0.0                 22529.0               43915   \n",
       "4                             0.0                 17391.0               37081   \n",
       "...                           ...                     ...                 ...   \n",
       "256979                        0.0                 43992.0               44080   \n",
       "256980                        0.0                  1717.0                9758   \n",
       "256981                        0.0                  3315.0               20090   \n",
       "256982                        0.0                  3315.0               20090   \n",
       "256983                        0.0                 28317.0               62371   \n",
       "\n",
       "        Bankruptcies  Tax Liens  \n",
       "0                0.0        0.0  \n",
       "1                0.0        0.0  \n",
       "2                0.0        0.0  \n",
       "3                0.0        0.0  \n",
       "4                0.0        0.0  \n",
       "...              ...        ...  \n",
       "256979           0.0        0.0  \n",
       "256980           0.0        0.0  \n",
       "256981           0.0        0.0  \n",
       "256982           0.0        0.0  \n",
       "256983           0.0        0.0  \n",
       "\n",
       "[256984 rows x 15 columns]"
      ]
     },
     "execution_count": 17,
     "metadata": {},
     "output_type": "execute_result"
    }
   ],
   "source": [
    "X"
   ]
  },
  {
   "cell_type": "code",
   "execution_count": 18,
   "id": "52a9199e-6c51-476e-bb63-3536ee1c3099",
   "metadata": {},
   "outputs": [
    {
     "data": {
      "text/plain": [
       "0         1\n",
       "1         1\n",
       "2         1\n",
       "3         1\n",
       "4         1\n",
       "         ..\n",
       "256979    1\n",
       "256980    1\n",
       "256981    0\n",
       "256982    0\n",
       "256983    1\n",
       "Name: Loan Status, Length: 256984, dtype: int64"
      ]
     },
     "execution_count": 18,
     "metadata": {},
     "output_type": "execute_result"
    }
   ],
   "source": [
    "y"
   ]
  },
  {
   "cell_type": "code",
   "execution_count": 19,
   "id": "5f6732d4-bfbe-4640-b5c6-f3b4ab7e2eb6",
   "metadata": {},
   "outputs": [
    {
     "name": "stdout",
     "output_type": "stream",
     "text": [
      "Column 'Current Loan Amount' has non-numeric values:\n",
      "Series([], Name: Current Loan Amount, dtype: float64)\n",
      "\n",
      "Column 'Credit Score' has non-numeric values:\n",
      "Series([], Name: Credit Score, dtype: float64)\n",
      "\n",
      "Column 'Annual Income' has non-numeric values:\n",
      "Series([], Name: Annual Income, dtype: float64)\n",
      "\n",
      "Column 'Years of Credit History' has non-numeric values:\n",
      "Series([], Name: Years of Credit History, dtype: float64)\n",
      "\n",
      "Column 'Number of Open Accounts' has non-numeric values:\n",
      "Series([], Name: Number of Open Accounts, dtype: float64)\n",
      "\n",
      "Column 'Number of Credit Problems' has non-numeric values:\n",
      "Series([], Name: Number of Credit Problems, dtype: float64)\n",
      "\n",
      "Column 'Current Credit Balance' has non-numeric values:\n",
      "Series([], Name: Current Credit Balance, dtype: float64)\n",
      "\n",
      "Column 'Bankruptcies' has non-numeric values:\n",
      "Series([], Name: Bankruptcies, dtype: float64)\n",
      "\n",
      "Column 'Tax Liens' has non-numeric values:\n",
      "Series([], Name: Tax Liens, dtype: float64)\n",
      "\n"
     ]
    }
   ],
   "source": [
    "# Sayısal sütunlarda sayısal olmayan değerleri kontrol et\n",
    "for col in num_cols:\n",
    "    non_numeric = data[col][pd.to_numeric(data[col], errors='coerce').isna()]\n",
    "    print(f\"Column '{col}' has non-numeric values:\\n{non_numeric}\\n\")"
   ]
  },
  {
   "cell_type": "code",
   "execution_count": 22,
   "id": "6ad555b6-4251-417e-b926-eafb9557a3a7",
   "metadata": {},
   "outputs": [],
   "source": [
    "num_cols = [\n",
    "    'Current Loan Amount', 'Credit Score', 'Annual Income', \n",
    "    'Years of Credit History',\n",
    "    'Number of Open Accounts', 'Number of Credit Problems', \n",
    "    'Current Credit Balance', 'Maximum Open Credit', \n",
    "    'Bankruptcies', 'Tax Liens'\n",
    "]\n",
    "\n",
    "for col in num_cols:\n",
    "    data[col] = pd.to_numeric(data[col].replace({'\\\\$': '', ',': ''}, regex=True), errors='coerce')"
   ]
  },
  {
   "cell_type": "code",
   "execution_count": 23,
   "id": "88e50ba3-e030-4a4c-9041-e1afa84bb40c",
   "metadata": {},
   "outputs": [
    {
     "data": {
      "text/plain": [
       "Loan Status                  0\n",
       "Current Loan Amount          0\n",
       "Term                         0\n",
       "Credit Score                 0\n",
       "Years in current job         0\n",
       "Home Ownership               0\n",
       "Annual Income                0\n",
       "Purpose                      0\n",
       "Monthly Debt                 0\n",
       "Years of Credit History      0\n",
       "Number of Open Accounts      0\n",
       "Number of Credit Problems    0\n",
       "Current Credit Balance       0\n",
       "Maximum Open Credit          4\n",
       "Bankruptcies                 0\n",
       "Tax Liens                    0\n",
       "dtype: int64"
      ]
     },
     "execution_count": 23,
     "metadata": {},
     "output_type": "execute_result"
    }
   ],
   "source": [
    "data.isnull().sum()"
   ]
  },
  {
   "cell_type": "code",
   "execution_count": 24,
   "id": "07e2545e-69c1-45e9-904b-618098c9c7e6",
   "metadata": {},
   "outputs": [
    {
     "data": {
      "text/plain": [
       "array(['$584.03', '$1,106.04 ', '$1,321.85 ', ..., '$707.08', '$47.11',\n",
       "       '$2,525.82 '], dtype=object)"
      ]
     },
     "execution_count": 24,
     "metadata": {},
     "output_type": "execute_result"
    }
   ],
   "source": [
    "data['Monthly Debt'].unique()"
   ]
  },
  {
   "cell_type": "code",
   "execution_count": 25,
   "id": "4a805820-cc8b-42c3-ad42-b4e4e2f152f6",
   "metadata": {},
   "outputs": [
    {
     "data": {
      "text/plain": [
       "array([33694., 42269., 90126., ..., 38649., 34749., 30854.])"
      ]
     },
     "execution_count": 25,
     "metadata": {},
     "output_type": "execute_result"
    }
   ],
   "source": [
    "data['Annual Income'].unique()"
   ]
  },
  {
   "cell_type": "code",
   "execution_count": 26,
   "id": "ace91ea8-4f1c-4441-8603-379469b910a8",
   "metadata": {},
   "outputs": [],
   "source": [
    "data['Monthly Debt'] = data['Monthly Debt'].replace({'\\\\$': '', ',': ''}, regex=True).astype(float)"
   ]
  },
  {
   "cell_type": "code",
   "execution_count": 27,
   "id": "c27622cb-b654-4cbe-9bb3-3b5201232982",
   "metadata": {},
   "outputs": [],
   "source": [
    "data['Annual Income'] = data['Annual Income'].replace({'\\\\$': '', ',': ''}, regex=True).astype(float)"
   ]
  },
  {
   "cell_type": "code",
   "execution_count": 28,
   "id": "1abaa035-8f3e-4322-b307-bf6a19d9700b",
   "metadata": {},
   "outputs": [],
   "source": [
    "for col in num_cols:\n",
    "    data[col] = pd.to_numeric(data[col].replace({'\\\\$': '', ',': ''}, regex=True), errors='coerce')"
   ]
  },
  {
   "cell_type": "code",
   "execution_count": 29,
   "id": "7bfa5c41-c5da-443a-8552-aab0b1e05a35",
   "metadata": {},
   "outputs": [
    {
     "data": {
      "text/plain": [
       "Loan Status                  0\n",
       "Current Loan Amount          0\n",
       "Term                         0\n",
       "Credit Score                 0\n",
       "Years in current job         0\n",
       "Home Ownership               0\n",
       "Annual Income                0\n",
       "Purpose                      0\n",
       "Monthly Debt                 0\n",
       "Years of Credit History      0\n",
       "Number of Open Accounts      0\n",
       "Number of Credit Problems    0\n",
       "Current Credit Balance       0\n",
       "Maximum Open Credit          4\n",
       "Bankruptcies                 0\n",
       "Tax Liens                    0\n",
       "dtype: int64"
      ]
     },
     "execution_count": 29,
     "metadata": {},
     "output_type": "execute_result"
    }
   ],
   "source": [
    "data.isnull().sum()"
   ]
  },
  {
   "cell_type": "code",
   "execution_count": 30,
   "id": "6774aa38-2612-4716-a9fa-41361fbd7624",
   "metadata": {},
   "outputs": [],
   "source": [
    "data.fillna(data.mean(), inplace=True)"
   ]
  },
  {
   "cell_type": "code",
   "execution_count": 31,
   "id": "92c6ade2-2cc3-486e-ac1c-46db07a0fe9c",
   "metadata": {},
   "outputs": [
    {
     "data": {
      "text/plain": [
       "Loan Status                  0\n",
       "Current Loan Amount          0\n",
       "Term                         0\n",
       "Credit Score                 0\n",
       "Years in current job         0\n",
       "Home Ownership               0\n",
       "Annual Income                0\n",
       "Purpose                      0\n",
       "Monthly Debt                 0\n",
       "Years of Credit History      0\n",
       "Number of Open Accounts      0\n",
       "Number of Credit Problems    0\n",
       "Current Credit Balance       0\n",
       "Maximum Open Credit          0\n",
       "Bankruptcies                 0\n",
       "Tax Liens                    0\n",
       "dtype: int64"
      ]
     },
     "execution_count": 31,
     "metadata": {},
     "output_type": "execute_result"
    }
   ],
   "source": [
    "data.isnull().sum()"
   ]
  },
  {
   "cell_type": "code",
   "execution_count": 32,
   "id": "2165a01b-01c1-454b-8a1a-d2e372e860f2",
   "metadata": {},
   "outputs": [
    {
     "data": {
      "text/html": [
       "<div>\n",
       "<style scoped>\n",
       "    .dataframe tbody tr th:only-of-type {\n",
       "        vertical-align: middle;\n",
       "    }\n",
       "\n",
       "    .dataframe tbody tr th {\n",
       "        vertical-align: top;\n",
       "    }\n",
       "\n",
       "    .dataframe thead th {\n",
       "        text-align: right;\n",
       "    }\n",
       "</style>\n",
       "<table border=\"1\" class=\"dataframe\">\n",
       "  <thead>\n",
       "    <tr style=\"text-align: right;\">\n",
       "      <th></th>\n",
       "      <th>Current Loan Amount</th>\n",
       "      <th>Term</th>\n",
       "      <th>Credit Score</th>\n",
       "      <th>Years in current job</th>\n",
       "      <th>Home Ownership</th>\n",
       "      <th>Annual Income</th>\n",
       "      <th>Purpose</th>\n",
       "      <th>Monthly Debt</th>\n",
       "      <th>Years of Credit History</th>\n",
       "      <th>Number of Open Accounts</th>\n",
       "      <th>Number of Credit Problems</th>\n",
       "      <th>Current Credit Balance</th>\n",
       "      <th>Maximum Open Credit</th>\n",
       "      <th>Bankruptcies</th>\n",
       "      <th>Tax Liens</th>\n",
       "    </tr>\n",
       "  </thead>\n",
       "  <tbody>\n",
       "    <tr>\n",
       "      <th>0</th>\n",
       "      <td>11520.0</td>\n",
       "      <td>1</td>\n",
       "      <td>741.000000</td>\n",
       "      <td>1</td>\n",
       "      <td>1</td>\n",
       "      <td>33694.000000</td>\n",
       "      <td>3</td>\n",
       "      <td>$584.03</td>\n",
       "      <td>12.3</td>\n",
       "      <td>10.0</td>\n",
       "      <td>0.0</td>\n",
       "      <td>6760.0</td>\n",
       "      <td>16056</td>\n",
       "      <td>0.0</td>\n",
       "      <td>0.0</td>\n",
       "    </tr>\n",
       "    <tr>\n",
       "      <th>1</th>\n",
       "      <td>3441.0</td>\n",
       "      <td>1</td>\n",
       "      <td>734.000000</td>\n",
       "      <td>4</td>\n",
       "      <td>1</td>\n",
       "      <td>42269.000000</td>\n",
       "      <td>9</td>\n",
       "      <td>$1,106.04</td>\n",
       "      <td>26.3</td>\n",
       "      <td>17.0</td>\n",
       "      <td>0.0</td>\n",
       "      <td>6262.0</td>\n",
       "      <td>19149</td>\n",
       "      <td>0.0</td>\n",
       "      <td>0.0</td>\n",
       "    </tr>\n",
       "    <tr>\n",
       "      <th>2</th>\n",
       "      <td>21029.0</td>\n",
       "      <td>1</td>\n",
       "      <td>747.000000</td>\n",
       "      <td>1</td>\n",
       "      <td>1</td>\n",
       "      <td>90126.000000</td>\n",
       "      <td>3</td>\n",
       "      <td>$1,321.85</td>\n",
       "      <td>28.8</td>\n",
       "      <td>5.0</td>\n",
       "      <td>0.0</td>\n",
       "      <td>20967.0</td>\n",
       "      <td>28335</td>\n",
       "      <td>0.0</td>\n",
       "      <td>0.0</td>\n",
       "    </tr>\n",
       "    <tr>\n",
       "      <th>3</th>\n",
       "      <td>18743.0</td>\n",
       "      <td>1</td>\n",
       "      <td>747.000000</td>\n",
       "      <td>1</td>\n",
       "      <td>2</td>\n",
       "      <td>38072.000000</td>\n",
       "      <td>3</td>\n",
       "      <td>$751.92</td>\n",
       "      <td>26.2</td>\n",
       "      <td>9.0</td>\n",
       "      <td>0.0</td>\n",
       "      <td>22529.0</td>\n",
       "      <td>43915</td>\n",
       "      <td>0.0</td>\n",
       "      <td>0.0</td>\n",
       "    </tr>\n",
       "    <tr>\n",
       "      <th>4</th>\n",
       "      <td>11731.0</td>\n",
       "      <td>1</td>\n",
       "      <td>746.000000</td>\n",
       "      <td>4</td>\n",
       "      <td>3</td>\n",
       "      <td>50025.000000</td>\n",
       "      <td>3</td>\n",
       "      <td>$355.18</td>\n",
       "      <td>11.5</td>\n",
       "      <td>12.0</td>\n",
       "      <td>0.0</td>\n",
       "      <td>17391.0</td>\n",
       "      <td>37081</td>\n",
       "      <td>0.0</td>\n",
       "      <td>0.0</td>\n",
       "    </tr>\n",
       "    <tr>\n",
       "      <th>...</th>\n",
       "      <td>...</td>\n",
       "      <td>...</td>\n",
       "      <td>...</td>\n",
       "      <td>...</td>\n",
       "      <td>...</td>\n",
       "      <td>...</td>\n",
       "      <td>...</td>\n",
       "      <td>...</td>\n",
       "      <td>...</td>\n",
       "      <td>...</td>\n",
       "      <td>...</td>\n",
       "      <td>...</td>\n",
       "      <td>...</td>\n",
       "      <td>...</td>\n",
       "      <td>...</td>\n",
       "    </tr>\n",
       "    <tr>\n",
       "      <th>256979</th>\n",
       "      <td>3911.0</td>\n",
       "      <td>1</td>\n",
       "      <td>1251.116099</td>\n",
       "      <td>2</td>\n",
       "      <td>3</td>\n",
       "      <td>71952.716187</td>\n",
       "      <td>3</td>\n",
       "      <td>$1,706.58</td>\n",
       "      <td>19.9</td>\n",
       "      <td>16.0</td>\n",
       "      <td>0.0</td>\n",
       "      <td>43992.0</td>\n",
       "      <td>44080</td>\n",
       "      <td>0.0</td>\n",
       "      <td>0.0</td>\n",
       "    </tr>\n",
       "    <tr>\n",
       "      <th>256980</th>\n",
       "      <td>5078.0</td>\n",
       "      <td>1</td>\n",
       "      <td>737.000000</td>\n",
       "      <td>1</td>\n",
       "      <td>2</td>\n",
       "      <td>77186.000000</td>\n",
       "      <td>3</td>\n",
       "      <td>$1,376.47</td>\n",
       "      <td>19.1</td>\n",
       "      <td>9.0</td>\n",
       "      <td>0.0</td>\n",
       "      <td>1717.0</td>\n",
       "      <td>9758</td>\n",
       "      <td>0.0</td>\n",
       "      <td>0.0</td>\n",
       "    </tr>\n",
       "    <tr>\n",
       "      <th>256981</th>\n",
       "      <td>12116.0</td>\n",
       "      <td>1</td>\n",
       "      <td>7460.000000</td>\n",
       "      <td>9</td>\n",
       "      <td>1</td>\n",
       "      <td>52504.000000</td>\n",
       "      <td>3</td>\n",
       "      <td>$297.96</td>\n",
       "      <td>15.1</td>\n",
       "      <td>8.0</td>\n",
       "      <td>0.0</td>\n",
       "      <td>3315.0</td>\n",
       "      <td>20090</td>\n",
       "      <td>0.0</td>\n",
       "      <td>0.0</td>\n",
       "    </tr>\n",
       "    <tr>\n",
       "      <th>256982</th>\n",
       "      <td>12116.0</td>\n",
       "      <td>1</td>\n",
       "      <td>746.000000</td>\n",
       "      <td>9</td>\n",
       "      <td>1</td>\n",
       "      <td>52504.000000</td>\n",
       "      <td>3</td>\n",
       "      <td>$297.96</td>\n",
       "      <td>15.1</td>\n",
       "      <td>8.0</td>\n",
       "      <td>0.0</td>\n",
       "      <td>3315.0</td>\n",
       "      <td>20090</td>\n",
       "      <td>0.0</td>\n",
       "      <td>0.0</td>\n",
       "    </tr>\n",
       "    <tr>\n",
       "      <th>256983</th>\n",
       "      <td>27902.0</td>\n",
       "      <td>0</td>\n",
       "      <td>678.000000</td>\n",
       "      <td>1</td>\n",
       "      <td>1</td>\n",
       "      <td>117480.000000</td>\n",
       "      <td>3</td>\n",
       "      <td>$2,525.82</td>\n",
       "      <td>18.0</td>\n",
       "      <td>10.0</td>\n",
       "      <td>0.0</td>\n",
       "      <td>28317.0</td>\n",
       "      <td>62371</td>\n",
       "      <td>0.0</td>\n",
       "      <td>0.0</td>\n",
       "    </tr>\n",
       "  </tbody>\n",
       "</table>\n",
       "<p>256984 rows × 15 columns</p>\n",
       "</div>"
      ],
      "text/plain": [
       "        Current Loan Amount  Term  Credit Score  Years in current job  \\\n",
       "0                   11520.0     1    741.000000                     1   \n",
       "1                    3441.0     1    734.000000                     4   \n",
       "2                   21029.0     1    747.000000                     1   \n",
       "3                   18743.0     1    747.000000                     1   \n",
       "4                   11731.0     1    746.000000                     4   \n",
       "...                     ...   ...           ...                   ...   \n",
       "256979               3911.0     1   1251.116099                     2   \n",
       "256980               5078.0     1    737.000000                     1   \n",
       "256981              12116.0     1   7460.000000                     9   \n",
       "256982              12116.0     1    746.000000                     9   \n",
       "256983              27902.0     0    678.000000                     1   \n",
       "\n",
       "        Home Ownership  Annual Income  Purpose Monthly Debt  \\\n",
       "0                    1   33694.000000        3      $584.03   \n",
       "1                    1   42269.000000        9   $1,106.04    \n",
       "2                    1   90126.000000        3   $1,321.85    \n",
       "3                    2   38072.000000        3      $751.92   \n",
       "4                    3   50025.000000        3      $355.18   \n",
       "...                ...            ...      ...          ...   \n",
       "256979               3   71952.716187        3   $1,706.58    \n",
       "256980               2   77186.000000        3   $1,376.47    \n",
       "256981               1   52504.000000        3      $297.96   \n",
       "256982               1   52504.000000        3      $297.96   \n",
       "256983               1  117480.000000        3   $2,525.82    \n",
       "\n",
       "        Years of Credit History  Number of Open Accounts  \\\n",
       "0                          12.3                     10.0   \n",
       "1                          26.3                     17.0   \n",
       "2                          28.8                      5.0   \n",
       "3                          26.2                      9.0   \n",
       "4                          11.5                     12.0   \n",
       "...                         ...                      ...   \n",
       "256979                     19.9                     16.0   \n",
       "256980                     19.1                      9.0   \n",
       "256981                     15.1                      8.0   \n",
       "256982                     15.1                      8.0   \n",
       "256983                     18.0                     10.0   \n",
       "\n",
       "        Number of Credit Problems  Current Credit Balance Maximum Open Credit  \\\n",
       "0                             0.0                  6760.0               16056   \n",
       "1                             0.0                  6262.0               19149   \n",
       "2                             0.0                 20967.0               28335   \n",
       "3                             0.0                 22529.0               43915   \n",
       "4                             0.0                 17391.0               37081   \n",
       "...                           ...                     ...                 ...   \n",
       "256979                        0.0                 43992.0               44080   \n",
       "256980                        0.0                  1717.0                9758   \n",
       "256981                        0.0                  3315.0               20090   \n",
       "256982                        0.0                  3315.0               20090   \n",
       "256983                        0.0                 28317.0               62371   \n",
       "\n",
       "        Bankruptcies  Tax Liens  \n",
       "0                0.0        0.0  \n",
       "1                0.0        0.0  \n",
       "2                0.0        0.0  \n",
       "3                0.0        0.0  \n",
       "4                0.0        0.0  \n",
       "...              ...        ...  \n",
       "256979           0.0        0.0  \n",
       "256980           0.0        0.0  \n",
       "256981           0.0        0.0  \n",
       "256982           0.0        0.0  \n",
       "256983           0.0        0.0  \n",
       "\n",
       "[256984 rows x 15 columns]"
      ]
     },
     "execution_count": 32,
     "metadata": {},
     "output_type": "execute_result"
    }
   ],
   "source": [
    "X"
   ]
  },
  {
   "cell_type": "code",
   "execution_count": 33,
   "id": "18821f5a-43e0-4be8-84e5-1928ddfa1d6f",
   "metadata": {},
   "outputs": [],
   "source": [
    "# Feature ve target ayırma\n",
    "X = data.drop('Loan Status', axis=1)\n",
    "y = data['Loan Status']"
   ]
  },
  {
   "cell_type": "code",
   "execution_count": 34,
   "id": "d2cdfb26-2e01-4d7a-a2ec-1e78a461bfac",
   "metadata": {},
   "outputs": [],
   "source": [
    "# Normalizasyon\n",
    "scaler = StandardScaler()\n",
    "X_scaled = scaler.fit_transform(X)"
   ]
  },
  {
   "cell_type": "code",
   "execution_count": 35,
   "id": "a37f6955-4ab9-43bb-962b-a3169eea6e14",
   "metadata": {},
   "outputs": [],
   "source": [
    "# PCA\n",
    "pca = PCA(n_components=0.95)  # varyansın %95'ini koru\n",
    "X_pca = pca.fit_transform(X_scaled)"
   ]
  },
  {
   "cell_type": "code",
   "execution_count": 36,
   "id": "e41ee085-b0fa-4278-a02c-30c6235d4ef9",
   "metadata": {},
   "outputs": [
    {
     "name": "stdout",
     "output_type": "stream",
     "text": [
      "PCA sonrası boyut sayısı: 13\n"
     ]
    }
   ],
   "source": [
    "print(f\"PCA sonrası boyut sayısı: {X_pca.shape[1]}\")"
   ]
  },
  {
   "cell_type": "code",
   "execution_count": 37,
   "id": "85b7db5c-ae61-4fc1-b395-2798cbe2d917",
   "metadata": {},
   "outputs": [],
   "source": [
    "# Veri setini ayır\n",
    "X_train, X_test, y_train, y_test = train_test_split(X_pca, y, test_size=0.2, random_state=42)"
   ]
  },
  {
   "cell_type": "code",
   "execution_count": 38,
   "id": "f0cda0f4-729a-4404-a81b-d4a8c5905425",
   "metadata": {},
   "outputs": [],
   "source": [
    "# Model mimarisi\n",
    "model = Sequential([\n",
    "    Dense(64, input_dim=X_pca.shape[1], activation='relu'),\n",
    "    Dropout(0.3),\n",
    "    Dense(32, activation='relu'),\n",
    "    Dropout(0.2),\n",
    "    Dense(1, activation='sigmoid')\n",
    "])"
   ]
  },
  {
   "cell_type": "code",
   "execution_count": 39,
   "id": "7399514b-d2de-4317-bf1b-dbb76381b885",
   "metadata": {},
   "outputs": [],
   "source": [
    "# Derleme\n",
    "model.compile(optimizer='adam', loss='binary_crossentropy', metrics=['accuracy'])"
   ]
  },
  {
   "cell_type": "code",
   "execution_count": 40,
   "id": "2a43bda3-9d3b-400b-801d-fc7ae8d33871",
   "metadata": {},
   "outputs": [],
   "source": [
    "# Erken durdurma\n",
    "early_stop = EarlyStopping(monitor='val_loss', patience=5, restore_best_weights=True)"
   ]
  },
  {
   "cell_type": "code",
   "execution_count": 41,
   "id": "7609e5ef-d9ef-4198-a1d3-f627496cdf6c",
   "metadata": {},
   "outputs": [
    {
     "name": "stdout",
     "output_type": "stream",
     "text": [
      "Epoch 1/50\n",
      "\u001b[1m804/804\u001b[0m \u001b[32m━━━━━━━━━━━━━━━━━━━━\u001b[0m\u001b[37m\u001b[0m \u001b[1m2s\u001b[0m 2ms/step - accuracy: 0.7424 - loss: 0.5021 - val_accuracy: 0.7533 - val_loss: 0.4805\n",
      "Epoch 2/50\n",
      "\u001b[1m804/804\u001b[0m \u001b[32m━━━━━━━━━━━━━━━━━━━━\u001b[0m\u001b[37m\u001b[0m \u001b[1m1s\u001b[0m 2ms/step - accuracy: 0.7515 - loss: 0.4821 - val_accuracy: 0.7543 - val_loss: 0.4781\n",
      "Epoch 3/50\n",
      "\u001b[1m804/804\u001b[0m \u001b[32m━━━━━━━━━━━━━━━━━━━━\u001b[0m\u001b[37m\u001b[0m \u001b[1m1s\u001b[0m 2ms/step - accuracy: 0.7525 - loss: 0.4794 - val_accuracy: 0.7530 - val_loss: 0.4762\n",
      "Epoch 4/50\n",
      "\u001b[1m804/804\u001b[0m \u001b[32m━━━━━━━━━━━━━━━━━━━━\u001b[0m\u001b[37m\u001b[0m \u001b[1m1s\u001b[0m 2ms/step - accuracy: 0.7524 - loss: 0.4780 - val_accuracy: 0.7556 - val_loss: 0.4751\n",
      "Epoch 5/50\n",
      "\u001b[1m804/804\u001b[0m \u001b[32m━━━━━━━━━━━━━━━━━━━━\u001b[0m\u001b[37m\u001b[0m \u001b[1m1s\u001b[0m 2ms/step - accuracy: 0.7535 - loss: 0.4771 - val_accuracy: 0.7551 - val_loss: 0.4746\n",
      "Epoch 6/50\n",
      "\u001b[1m804/804\u001b[0m \u001b[32m━━━━━━━━━━━━━━━━━━━━\u001b[0m\u001b[37m\u001b[0m \u001b[1m1s\u001b[0m 2ms/step - accuracy: 0.7533 - loss: 0.4764 - val_accuracy: 0.7542 - val_loss: 0.4748\n",
      "Epoch 7/50\n",
      "\u001b[1m804/804\u001b[0m \u001b[32m━━━━━━━━━━━━━━━━━━━━\u001b[0m\u001b[37m\u001b[0m \u001b[1m1s\u001b[0m 2ms/step - accuracy: 0.7536 - loss: 0.4759 - val_accuracy: 0.7543 - val_loss: 0.4742\n",
      "Epoch 8/50\n",
      "\u001b[1m804/804\u001b[0m \u001b[32m━━━━━━━━━━━━━━━━━━━━\u001b[0m\u001b[37m\u001b[0m \u001b[1m1s\u001b[0m 2ms/step - accuracy: 0.7544 - loss: 0.4760 - val_accuracy: 0.7557 - val_loss: 0.4733\n",
      "Epoch 9/50\n",
      "\u001b[1m804/804\u001b[0m \u001b[32m━━━━━━━━━━━━━━━━━━━━\u001b[0m\u001b[37m\u001b[0m \u001b[1m1s\u001b[0m 2ms/step - accuracy: 0.7544 - loss: 0.4752 - val_accuracy: 0.7559 - val_loss: 0.4732\n",
      "Epoch 10/50\n",
      "\u001b[1m804/804\u001b[0m \u001b[32m━━━━━━━━━━━━━━━━━━━━\u001b[0m\u001b[37m\u001b[0m \u001b[1m1s\u001b[0m 2ms/step - accuracy: 0.7537 - loss: 0.4746 - val_accuracy: 0.7568 - val_loss: 0.4724\n",
      "Epoch 11/50\n",
      "\u001b[1m804/804\u001b[0m \u001b[32m━━━━━━━━━━━━━━━━━━━━\u001b[0m\u001b[37m\u001b[0m \u001b[1m1s\u001b[0m 2ms/step - accuracy: 0.7548 - loss: 0.4741 - val_accuracy: 0.7558 - val_loss: 0.4724\n",
      "Epoch 12/50\n",
      "\u001b[1m804/804\u001b[0m \u001b[32m━━━━━━━━━━━━━━━━━━━━\u001b[0m\u001b[37m\u001b[0m \u001b[1m1s\u001b[0m 2ms/step - accuracy: 0.7544 - loss: 0.4739 - val_accuracy: 0.7561 - val_loss: 0.4721\n",
      "Epoch 13/50\n",
      "\u001b[1m804/804\u001b[0m \u001b[32m━━━━━━━━━━━━━━━━━━━━\u001b[0m\u001b[37m\u001b[0m \u001b[1m1s\u001b[0m 2ms/step - accuracy: 0.7552 - loss: 0.4739 - val_accuracy: 0.7558 - val_loss: 0.4717\n",
      "Epoch 14/50\n",
      "\u001b[1m804/804\u001b[0m \u001b[32m━━━━━━━━━━━━━━━━━━━━\u001b[0m\u001b[37m\u001b[0m \u001b[1m1s\u001b[0m 2ms/step - accuracy: 0.7553 - loss: 0.4731 - val_accuracy: 0.7572 - val_loss: 0.4708\n",
      "Epoch 15/50\n",
      "\u001b[1m804/804\u001b[0m \u001b[32m━━━━━━━━━━━━━━━━━━━━\u001b[0m\u001b[37m\u001b[0m \u001b[1m1s\u001b[0m 2ms/step - accuracy: 0.7556 - loss: 0.4723 - val_accuracy: 0.7570 - val_loss: 0.4713\n",
      "Epoch 16/50\n",
      "\u001b[1m804/804\u001b[0m \u001b[32m━━━━━━━━━━━━━━━━━━━━\u001b[0m\u001b[37m\u001b[0m \u001b[1m1s\u001b[0m 2ms/step - accuracy: 0.7555 - loss: 0.4722 - val_accuracy: 0.7575 - val_loss: 0.4700\n",
      "Epoch 17/50\n",
      "\u001b[1m804/804\u001b[0m \u001b[32m━━━━━━━━━━━━━━━━━━━━\u001b[0m\u001b[37m\u001b[0m \u001b[1m1s\u001b[0m 2ms/step - accuracy: 0.7560 - loss: 0.4717 - val_accuracy: 0.7584 - val_loss: 0.4691\n",
      "Epoch 18/50\n",
      "\u001b[1m804/804\u001b[0m \u001b[32m━━━━━━━━━━━━━━━━━━━━\u001b[0m\u001b[37m\u001b[0m \u001b[1m1s\u001b[0m 2ms/step - accuracy: 0.7565 - loss: 0.4714 - val_accuracy: 0.7591 - val_loss: 0.4691\n",
      "Epoch 19/50\n",
      "\u001b[1m804/804\u001b[0m \u001b[32m━━━━━━━━━━━━━━━━━━━━\u001b[0m\u001b[37m\u001b[0m \u001b[1m1s\u001b[0m 2ms/step - accuracy: 0.7578 - loss: 0.4707 - val_accuracy: 0.7591 - val_loss: 0.4689\n",
      "Epoch 20/50\n",
      "\u001b[1m804/804\u001b[0m \u001b[32m━━━━━━━━━━━━━━━━━━━━\u001b[0m\u001b[37m\u001b[0m \u001b[1m1s\u001b[0m 2ms/step - accuracy: 0.7573 - loss: 0.4704 - val_accuracy: 0.7596 - val_loss: 0.4679\n",
      "Epoch 21/50\n",
      "\u001b[1m804/804\u001b[0m \u001b[32m━━━━━━━━━━━━━━━━━━━━\u001b[0m\u001b[37m\u001b[0m \u001b[1m1s\u001b[0m 2ms/step - accuracy: 0.7575 - loss: 0.4700 - val_accuracy: 0.7605 - val_loss: 0.4677\n",
      "Epoch 22/50\n",
      "\u001b[1m804/804\u001b[0m \u001b[32m━━━━━━━━━━━━━━━━━━━━\u001b[0m\u001b[37m\u001b[0m \u001b[1m1s\u001b[0m 2ms/step - accuracy: 0.7574 - loss: 0.4702 - val_accuracy: 0.7591 - val_loss: 0.4677\n",
      "Epoch 23/50\n",
      "\u001b[1m804/804\u001b[0m \u001b[32m━━━━━━━━━━━━━━━━━━━━\u001b[0m\u001b[37m\u001b[0m \u001b[1m1s\u001b[0m 2ms/step - accuracy: 0.7581 - loss: 0.4693 - val_accuracy: 0.7590 - val_loss: 0.4679\n",
      "Epoch 24/50\n",
      "\u001b[1m804/804\u001b[0m \u001b[32m━━━━━━━━━━━━━━━━━━━━\u001b[0m\u001b[37m\u001b[0m \u001b[1m1s\u001b[0m 2ms/step - accuracy: 0.7576 - loss: 0.4696 - val_accuracy: 0.7601 - val_loss: 0.4671\n",
      "Epoch 25/50\n",
      "\u001b[1m804/804\u001b[0m \u001b[32m━━━━━━━━━━━━━━━━━━━━\u001b[0m\u001b[37m\u001b[0m \u001b[1m1s\u001b[0m 2ms/step - accuracy: 0.7583 - loss: 0.4688 - val_accuracy: 0.7605 - val_loss: 0.4662\n",
      "Epoch 26/50\n",
      "\u001b[1m804/804\u001b[0m \u001b[32m━━━━━━━━━━━━━━━━━━━━\u001b[0m\u001b[37m\u001b[0m \u001b[1m1s\u001b[0m 2ms/step - accuracy: 0.7584 - loss: 0.4686 - val_accuracy: 0.7607 - val_loss: 0.4664\n",
      "Epoch 27/50\n",
      "\u001b[1m804/804\u001b[0m \u001b[32m━━━━━━━━━━━━━━━━━━━━\u001b[0m\u001b[37m\u001b[0m \u001b[1m1s\u001b[0m 2ms/step - accuracy: 0.7585 - loss: 0.4686 - val_accuracy: 0.7592 - val_loss: 0.4659\n",
      "Epoch 28/50\n",
      "\u001b[1m804/804\u001b[0m \u001b[32m━━━━━━━━━━━━━━━━━━━━\u001b[0m\u001b[37m\u001b[0m \u001b[1m1s\u001b[0m 2ms/step - accuracy: 0.7579 - loss: 0.4685 - val_accuracy: 0.7603 - val_loss: 0.4663\n",
      "Epoch 29/50\n",
      "\u001b[1m804/804\u001b[0m \u001b[32m━━━━━━━━━━━━━━━━━━━━\u001b[0m\u001b[37m\u001b[0m \u001b[1m1s\u001b[0m 2ms/step - accuracy: 0.7586 - loss: 0.4685 - val_accuracy: 0.7591 - val_loss: 0.4665\n",
      "Epoch 30/50\n",
      "\u001b[1m804/804\u001b[0m \u001b[32m━━━━━━━━━━━━━━━━━━━━\u001b[0m\u001b[37m\u001b[0m \u001b[1m1s\u001b[0m 2ms/step - accuracy: 0.7587 - loss: 0.4681 - val_accuracy: 0.7606 - val_loss: 0.4659\n",
      "Epoch 31/50\n",
      "\u001b[1m804/804\u001b[0m \u001b[32m━━━━━━━━━━━━━━━━━━━━\u001b[0m\u001b[37m\u001b[0m \u001b[1m1s\u001b[0m 2ms/step - accuracy: 0.7587 - loss: 0.4685 - val_accuracy: 0.7601 - val_loss: 0.4661\n",
      "Epoch 32/50\n",
      "\u001b[1m804/804\u001b[0m \u001b[32m━━━━━━━━━━━━━━━━━━━━\u001b[0m\u001b[37m\u001b[0m \u001b[1m1s\u001b[0m 2ms/step - accuracy: 0.7583 - loss: 0.4677 - val_accuracy: 0.7609 - val_loss: 0.4653\n",
      "Epoch 33/50\n",
      "\u001b[1m804/804\u001b[0m \u001b[32m━━━━━━━━━━━━━━━━━━━━\u001b[0m\u001b[37m\u001b[0m \u001b[1m1s\u001b[0m 2ms/step - accuracy: 0.7586 - loss: 0.4677 - val_accuracy: 0.7613 - val_loss: 0.4651\n",
      "Epoch 34/50\n",
      "\u001b[1m804/804\u001b[0m \u001b[32m━━━━━━━━━━━━━━━━━━━━\u001b[0m\u001b[37m\u001b[0m \u001b[1m1s\u001b[0m 2ms/step - accuracy: 0.7595 - loss: 0.4673 - val_accuracy: 0.7609 - val_loss: 0.4656\n",
      "Epoch 35/50\n",
      "\u001b[1m804/804\u001b[0m \u001b[32m━━━━━━━━━━━━━━━━━━━━\u001b[0m\u001b[37m\u001b[0m \u001b[1m1s\u001b[0m 2ms/step - accuracy: 0.7587 - loss: 0.4674 - val_accuracy: 0.7612 - val_loss: 0.4642\n",
      "Epoch 36/50\n",
      "\u001b[1m804/804\u001b[0m \u001b[32m━━━━━━━━━━━━━━━━━━━━\u001b[0m\u001b[37m\u001b[0m \u001b[1m1s\u001b[0m 2ms/step - accuracy: 0.7588 - loss: 0.4672 - val_accuracy: 0.7624 - val_loss: 0.4655\n",
      "Epoch 37/50\n",
      "\u001b[1m804/804\u001b[0m \u001b[32m━━━━━━━━━━━━━━━━━━━━\u001b[0m\u001b[37m\u001b[0m \u001b[1m1s\u001b[0m 2ms/step - accuracy: 0.7591 - loss: 0.4674 - val_accuracy: 0.7617 - val_loss: 0.4648\n",
      "Epoch 38/50\n",
      "\u001b[1m804/804\u001b[0m \u001b[32m━━━━━━━━━━━━━━━━━━━━\u001b[0m\u001b[37m\u001b[0m \u001b[1m1s\u001b[0m 2ms/step - accuracy: 0.7587 - loss: 0.4669 - val_accuracy: 0.7610 - val_loss: 0.4643\n",
      "Epoch 39/50\n",
      "\u001b[1m804/804\u001b[0m \u001b[32m━━━━━━━━━━━━━━━━━━━━\u001b[0m\u001b[37m\u001b[0m \u001b[1m1s\u001b[0m 2ms/step - accuracy: 0.7591 - loss: 0.4670 - val_accuracy: 0.7614 - val_loss: 0.4644\n",
      "Epoch 40/50\n",
      "\u001b[1m804/804\u001b[0m \u001b[32m━━━━━━━━━━━━━━━━━━━━\u001b[0m\u001b[37m\u001b[0m \u001b[1m1s\u001b[0m 2ms/step - accuracy: 0.7591 - loss: 0.4669 - val_accuracy: 0.7609 - val_loss: 0.4646\n"
     ]
    }
   ],
   "source": [
    "# Eğitme\n",
    "history = model.fit(X_train, y_train, epochs=50, batch_size=256,validation_data=(X_test, y_test), callbacks=[early_stop], verbose=1)"
   ]
  },
  {
   "cell_type": "code",
   "execution_count": 42,
   "id": "4be11914-7abc-43b9-8873-be6449f070b7",
   "metadata": {},
   "outputs": [
    {
     "name": "stdout",
     "output_type": "stream",
     "text": [
      "\u001b[1m1607/1607\u001b[0m \u001b[32m━━━━━━━━━━━━━━━━━━━━\u001b[0m\u001b[37m\u001b[0m \u001b[1m1s\u001b[0m 547us/step\n"
     ]
    }
   ],
   "source": [
    "# Tahmin\n",
    "y_pred = (model.predict(X_test) > 0.5).astype(int)"
   ]
  },
  {
   "cell_type": "code",
   "execution_count": 43,
   "id": "c4ab273d-4a8a-4e7a-82ed-98f6030a099a",
   "metadata": {},
   "outputs": [
    {
     "name": "stdout",
     "output_type": "stream",
     "text": [
      "Confusion Matrix:\n",
      " [[ 5515 10646]\n",
      " [ 1628 33608]]\n",
      "\n",
      "Classification Report:\n",
      "               precision    recall  f1-score   support\n",
      "\n",
      "           0       0.77      0.34      0.47     16161\n",
      "           1       0.76      0.95      0.85     35236\n",
      "\n",
      "    accuracy                           0.76     51397\n",
      "   macro avg       0.77      0.65      0.66     51397\n",
      "weighted avg       0.76      0.76      0.73     51397\n",
      "\n",
      "\n",
      "ROC-AUC Score: 0.6475254440522361\n"
     ]
    }
   ],
   "source": [
    "print(\"Confusion Matrix:\\n\", confusion_matrix(y_test, y_pred))\n",
    "print(\"\\nClassification Report:\\n\", classification_report(y_test, y_pred))\n",
    "print(\"\\nROC-AUC Score:\", roc_auc_score(y_test, y_pred))"
   ]
  },
  {
   "cell_type": "code",
   "execution_count": 44,
   "id": "87c1ccf2-b909-49fb-b881-351d8d69545f",
   "metadata": {},
   "outputs": [],
   "source": [
    "# pip install shap"
   ]
  },
  {
   "cell_type": "code",
   "execution_count": 45,
   "id": "d3446087-7492-49cb-ba2f-cda163bc84a8",
   "metadata": {},
   "outputs": [],
   "source": [
    "import shap"
   ]
  },
  {
   "cell_type": "code",
   "execution_count": 46,
   "id": "74db27cc-cc3e-4048-9c91-fff354a52d42",
   "metadata": {},
   "outputs": [
    {
     "name": "stderr",
     "output_type": "stream",
     "text": [
      "PermutationExplainer explainer: 201it [00:22,  6.65it/s]                         \n"
     ]
    }
   ],
   "source": [
    "# SHAP analizi\n",
    "explainer = shap.Explainer(model, X_pca)\n",
    "shap_values = explainer(X_pca[:200])"
   ]
  },
  {
   "cell_type": "code",
   "execution_count": 47,
   "id": "2fa3cf26-7544-49e1-81af-80bf224db68e",
   "metadata": {},
   "outputs": [
    {
     "name": "stdout",
     "output_type": "stream",
     "text": [
      "(200, 13)\n",
      "(256984, 15)\n"
     ]
    }
   ],
   "source": [
    "print(shap_values.shape)\n",
    "print(X.shape)"
   ]
  },
  {
   "cell_type": "code",
   "execution_count": 49,
   "id": "a122d4a5-b473-4852-abfe-695c535a3cd3",
   "metadata": {},
   "outputs": [],
   "source": [
    "# Yalnızca ilk 13 özelliği kullan\n",
    "X_subset = X.iloc[:200, :13]"
   ]
  },
  {
   "cell_type": "code",
   "execution_count": 50,
   "id": "bd0dc0db-eb56-4273-b18c-91f742d576c9",
   "metadata": {},
   "outputs": [
    {
     "data": {
      "image/png": "[encoded data removed]",
      "text/plain": [
       "<Figure size 800x670 with 1 Axes>"
      ]
     },
     "metadata": {},
     "output_type": "display_data"
    }
   ],
   "source": [
    "# X'in düzeltilmiş alt kümesiyle özet grafiği oluştur\n",
    "shap.summary_plot(shap_values, X_subset, plot_type=\"bar\")"
   ]
  },
  {
   "cell_type": "code",
   "execution_count": 51,
   "id": "ef795889-2880-4a0d-850a-03c913b0dfad",
   "metadata": {},
   "outputs": [
    {
     "name": "stdout",
     "output_type": "stream",
     "text": [
      "<class 'pandas.core.frame.DataFrame'>\n",
      "RangeIndex: 256984 entries, 0 to 256983\n",
      "Data columns (total 15 columns):\n",
      " #   Column                     Non-Null Count   Dtype  \n",
      "---  ------                     --------------   -----  \n",
      " 0   Current Loan Amount        256984 non-null  float64\n",
      " 1   Term                       256984 non-null  int64  \n",
      " 2   Credit Score               256984 non-null  float64\n",
      " 3   Years in current job       256984 non-null  int64  \n",
      " 4   Home Ownership             256984 non-null  int64  \n",
      " 5   Annual Income              256984 non-null  float64\n",
      " 6   Purpose                    256984 non-null  int64  \n",
      " 7   Monthly Debt               256984 non-null  float64\n",
      " 8   Years of Credit History    256984 non-null  float64\n",
      " 9   Number of Open Accounts    256984 non-null  float64\n",
      " 10  Number of Credit Problems  256984 non-null  float64\n",
      " 11  Current Credit Balance     256984 non-null  float64\n",
      " 12  Maximum Open Credit        256984 non-null  float64\n",
      " 13  Bankruptcies               256984 non-null  float64\n",
      " 14  Tax Liens                  256984 non-null  float64\n",
      "dtypes: float64(11), int64(4)\n",
      "memory usage: 29.4 MB\n",
      "None\n"
     ]
    }
   ],
   "source": [
    "# Özellik isimlerini ve türlerini görüntüleme\n",
    "print(X.info())"
   ]
  },
  {
   "cell_type": "code",
   "execution_count": 52,
   "id": "9d99fa42-341b-4bce-b67a-e05855099c59",
   "metadata": {},
   "outputs": [],
   "source": [
    "# Özellik isimlerini al\n",
    "feature_names = X.columns.tolist()"
   ]
  },
  {
   "cell_type": "code",
   "execution_count": 53,
   "id": "1ea1e777-1938-44eb-a03d-8f9fda1c162a",
   "metadata": {},
   "outputs": [
    {
     "name": "stdout",
     "output_type": "stream",
     "text": [
      "SHAP values shape: (200, 13)\n"
     ]
    }
   ],
   "source": [
    "# SHAP değerlerinin boyutunu kontrol et\n",
    "print(\"SHAP values shape:\", shap_values.shape)"
   ]
  },
  {
   "cell_type": "code",
   "execution_count": 56,
   "id": "b8057700-171c-4a7a-8248-e515d53fe4ae",
   "metadata": {},
   "outputs": [],
   "source": [
    "shap_values_corrected = shap_values[:, :-1]"
   ]
  },
  {
   "cell_type": "code",
   "execution_count": 57,
   "id": "0553f424-0479-40d3-9e95-acaf9183d18e",
   "metadata": {},
   "outputs": [],
   "source": [
    "# Özellik isimlerini al\n",
    "feature_names = X.columns[:shap_values_corrected.shape[1]].tolist()"
   ]
  },
  {
   "cell_type": "code",
   "execution_count": 58,
   "id": "1e01dd94-f907-44af-ab7d-064ac728d68a",
   "metadata": {},
   "outputs": [
    {
     "data": {
      "image/png": "[encoded data removed]",
      "text/plain": [
       "<Figure size 800x630 with 1 Axes>"
      ]
     },
     "metadata": {},
     "output_type": "display_data"
    }
   ],
   "source": [
    "# Özet grafiği oluştur\n",
    "shap.summary_plot(shap_values_corrected, X.iloc[:200, :shap_values_corrected.shape[1]], feature_names=feature_names, plot_type=\"bar\")"
   ]
  },
  {
   "cell_type": "raw",
   "id": "5d0019af-b906-486f-930e-03749514202b",
   "metadata": {},
   "source": [
    "Musteriye onem sirasina gore asagidaki alanlarda sorular sorulabilir\n",
    "1- Yılların Kredi Geçmişi\n",
    "2- Ev Sahipliği\n",
    "3- Yıllık Gelir\n",
    "4- Açık Hesap Sayısı\n",
    "5- Number of Credit Problems\n",
    "6- Mevcut Kredi Bakiyesi\n",
    "7- Amaç\n",
    "8- Mevcut Kredi Tutarı\n",
    "9- Mevcut işte geçirilen yıllar\n",
    "10- Aylık Borç"
   ]
  },
  {
   "cell_type": "code",
   "execution_count": null,
   "id": "81c1e4d4-4977-44a3-bdc2-22252b7599fc",
   "metadata": {},
   "outputs": [],
   "source": []
  }
 ],
 "metadata": {
  "kernelspec": {
   "display_name": "Python 3 (ipykernel)",
   "language": "python",
   "name": "python3"
  },
  "language_info": {
   "codemirror_mode": {
    "name": "ipython",
    "version": 3
   },
   "file_extension": ".py",
   "mimetype": "text/x-python",
   "name": "python",
   "nbconvert_exporter": "python",
   "pygments_lexer": "ipython3",
   "version": "3.13.5"
  }
 },
 "nbformat": 4,
 "nbformat_minor": 5
}
