{
 "cells": [
  {
   "cell_type": "markdown",
   "id": "2137815c-0b39-40e4-8635-d49318966029",
   "metadata": {},
   "source": [
    "# NLP Data Analysis"
   ]
  },
  {
   "cell_type": "markdown",
   "id": "d8d640ad-8b76-4213-8fa0-4cfcbc34cd89",
   "metadata": {},
   "source": [
    "Bu derste NLP'yi derinlemesine ogrenecegiz. Restaurant yorumlarinin negatif mi yoksa positif mi oldugunu tahmin eden classification model gelistirecegiz."
   ]
  },
  {
   "cell_type": "code",
   "execution_count": 3,
   "id": "910ed430-ed57-43a5-88ba-dedd850e95c1",
   "metadata": {},
   "outputs": [],
   "source": [
    "# pip install nltk"
   ]
  },
  {
   "cell_type": "code",
   "execution_count": 4,
   "id": "a929225f-5099-42c4-bb21-d6364cb364d2",
   "metadata": {},
   "outputs": [],
   "source": [
    "import nltk"
   ]
  },
  {
   "cell_type": "code",
   "execution_count": 6,
   "id": "5269b547-d8f2-4f79-a160-fe06747a47e2",
   "metadata": {},
   "outputs": [
    {
     "name": "stderr",
     "output_type": "stream",
     "text": [
      "[nltk_data] Downloading package punkt to\n",
      "[nltk_data]     C:\\Users\\kosey\\AppData\\Roaming\\nltk_data...\n",
      "[nltk_data]   Package punkt is already up-to-date!\n"
     ]
    },
    {
     "data": {
      "text/plain": [
       "True"
      ]
     },
     "execution_count": 6,
     "metadata": {},
     "output_type": "execute_result"
    }
   ],
   "source": [
    "nltk.download('punkt') # ingilizce dil modulu icin gerekli paketler"
   ]
  },
  {
   "cell_type": "code",
   "execution_count": 7,
   "id": "696bd3c3-3628-454a-9623-bc3de25bd179",
   "metadata": {},
   "outputs": [],
   "source": [
    "text=\"Kamyonlar kavun tasir ve ben boyuna onu dusunurdum. Bu sehir bir baskadir. Herkes beni aldatti gitti. Fakat icimdeki sarki bitti. \""
   ]
  },
  {
   "cell_type": "code",
   "execution_count": 10,
   "id": "83aaebf9-f828-4d76-9a6c-d6e62333c30b",
   "metadata": {},
   "outputs": [
    {
     "data": {
      "text/plain": [
       "['Kamyonlar',\n",
       " 'kavun',\n",
       " 'tasir',\n",
       " 've',\n",
       " 'ben',\n",
       " 'boyuna',\n",
       " 'onu',\n",
       " 'dusunurdum.',\n",
       " 'Bu',\n",
       " 'sehir',\n",
       " 'bir',\n",
       " 'baskadir.',\n",
       " 'Herkes',\n",
       " 'beni',\n",
       " 'aldatti',\n",
       " 'gitti.',\n",
       " 'Fakat',\n",
       " 'icimdeki',\n",
       " 'sarki',\n",
       " 'bitti.']"
      ]
     },
     "execution_count": 10,
     "metadata": {},
     "output_type": "execute_result"
    }
   ],
   "source": [
    "text.split() # word tokenization bosluga gore parcaliyor"
   ]
  },
  {
   "cell_type": "code",
   "execution_count": 11,
   "id": "649106ce-b79a-467b-a52c-7a6269bd987f",
   "metadata": {},
   "outputs": [
    {
     "data": {
      "text/plain": [
       "['Kamyonlar kavun tasir ve ben boyuna onu dusunurdum',\n",
       " ' Bu sehir bir baskadir',\n",
       " ' Herkes beni aldatti gitti',\n",
       " ' Fakat icimdeki sarki bitti',\n",
       " ' ']"
      ]
     },
     "execution_count": 11,
     "metadata": {},
     "output_type": "execute_result"
    }
   ],
   "source": [
    "text.split('.') # sentence tokenization noktaya gore parcaliyor"
   ]
  },
  {
   "cell_type": "code",
   "execution_count": 12,
   "id": "c983085e-4ebc-4c79-9891-1f6b2076cce3",
   "metadata": {},
   "outputs": [
    {
     "data": {
      "text/plain": [
       "'KAMYONLAR KAVUN TASIR VE BEN BOYUNA ONU DUSUNURDUM. BU SEHIR BIR BASKADIR. HERKES BENI ALDATTI GITTI. FAKAT ICIMDEKI SARKI BITTI. '"
      ]
     },
     "execution_count": 12,
     "metadata": {},
     "output_type": "execute_result"
    }
   ],
   "source": [
    "text.upper()"
   ]
  },
  {
   "cell_type": "code",
   "execution_count": 13,
   "id": "358ff353-5ad0-4988-a984-216e2b9af986",
   "metadata": {},
   "outputs": [
    {
     "data": {
      "text/plain": [
       "'kamyonlar kavun tasir ve ben boyuna onu dusunurdum. bu sehir bir baskadir. herkes beni aldatti gitti. fakat icimdeki sarki bitti. '"
      ]
     },
     "execution_count": 13,
     "metadata": {},
     "output_type": "execute_result"
    }
   ],
   "source": [
    "text.lower()"
   ]
  },
  {
   "cell_type": "code",
   "execution_count": 14,
   "id": "217e3db5-1b43-4e16-822a-b87f232cb388",
   "metadata": {},
   "outputs": [],
   "source": [
    "from nltk.tokenize import word_tokenize,sent_tokenize"
   ]
  },
  {
   "cell_type": "code",
   "execution_count": 15,
   "id": "e6e27490-05d1-4cd3-97bd-49be62dc15f6",
   "metadata": {},
   "outputs": [
    {
     "name": "stderr",
     "output_type": "stream",
     "text": [
      "[nltk_data] Downloading package punkt_tab to\n",
      "[nltk_data]     C:\\Users\\kosey\\AppData\\Roaming\\nltk_data...\n",
      "[nltk_data]   Unzipping tokenizers\\punkt_tab.zip.\n"
     ]
    },
    {
     "data": {
      "text/plain": [
       "True"
      ]
     },
     "execution_count": 15,
     "metadata": {},
     "output_type": "execute_result"
    }
   ],
   "source": [
    "nltk.download('punkt_tab')"
   ]
  },
  {
   "cell_type": "code",
   "execution_count": 17,
   "id": "06a387d9-3d03-4615-9c1a-7ed1647334e4",
   "metadata": {},
   "outputs": [
    {
     "data": {
      "text/plain": [
       "['Kamyonlar',\n",
       " 'kavun',\n",
       " 'tasir',\n",
       " 've',\n",
       " 'ben',\n",
       " 'boyuna',\n",
       " 'onu',\n",
       " 'dusunurdum',\n",
       " '.',\n",
       " 'Bu',\n",
       " 'sehir',\n",
       " 'bir',\n",
       " 'baskadir',\n",
       " '.',\n",
       " 'Herkes',\n",
       " 'beni',\n",
       " 'aldatti',\n",
       " 'gitti',\n",
       " '.',\n",
       " 'Fakat',\n",
       " 'icimdeki',\n",
       " 'sarki',\n",
       " 'bitti',\n",
       " '.']"
      ]
     },
     "execution_count": 17,
     "metadata": {},
     "output_type": "execute_result"
    }
   ],
   "source": [
    "word_tokenize(text)"
   ]
  },
  {
   "cell_type": "code",
   "execution_count": 18,
   "id": "b780e9b3-9cde-45f8-96d6-ab6f8545e873",
   "metadata": {},
   "outputs": [
    {
     "data": {
      "text/plain": [
       "['Kamyonlar kavun tasir ve ben boyuna onu dusunurdum.',\n",
       " 'Bu sehir bir baskadir.',\n",
       " 'Herkes beni aldatti gitti.',\n",
       " 'Fakat icimdeki sarki bitti.']"
      ]
     },
     "execution_count": 18,
     "metadata": {},
     "output_type": "execute_result"
    }
   ],
   "source": [
    "sent_tokenize(text)"
   ]
  },
  {
   "cell_type": "code",
   "execution_count": 20,
   "id": "4b52d602-79a5-4bda-bc39-58b6d5d252a2",
   "metadata": {},
   "outputs": [],
   "source": [
    "# dir(nltk) # nltk paketinde kullanilabilecek butun metodlari gosterir"
   ]
  },
  {
   "cell_type": "code",
   "execution_count": 28,
   "id": "062d5a6d-481c-4ca0-88c0-ad351532e45a",
   "metadata": {},
   "outputs": [],
   "source": [
    "# stopwords = gereksiz kelimeler. and hm been"
   ]
  },
  {
   "cell_type": "code",
   "execution_count": 29,
   "id": "21d3883d-1555-4bed-9e19-b668aad411be",
   "metadata": {},
   "outputs": [
    {
     "name": "stderr",
     "output_type": "stream",
     "text": [
      "[nltk_data] Downloading package stopwords to\n",
      "[nltk_data]     C:\\Users\\kosey\\AppData\\Roaming\\nltk_data...\n",
      "[nltk_data]   Package stopwords is already up-to-date!\n"
     ]
    },
    {
     "data": {
      "text/plain": [
       "True"
      ]
     },
     "execution_count": 29,
     "metadata": {},
     "output_type": "execute_result"
    }
   ],
   "source": [
    "nltk.download('stopwords')"
   ]
  },
  {
   "cell_type": "code",
   "execution_count": 30,
   "id": "e5c33c18-d546-4d90-901d-c75ee69a7ef7",
   "metadata": {},
   "outputs": [
    {
     "name": "stdout",
     "output_type": "stream",
     "text": [
      "['a', 'about', 'above', 'after', 'again', 'against', 'ain', 'all', 'am', 'an', 'and', 'any', 'are', 'aren', \"aren't\", 'as', 'at', 'be', 'because', 'been', 'before', 'being', 'below', 'between', 'both', 'but', 'by', 'can', 'couldn', \"couldn't\", 'd', 'did', 'didn', \"didn't\", 'do', 'does', 'doesn', \"doesn't\", 'doing', 'don', \"don't\", 'down', 'during', 'each', 'few', 'for', 'from', 'further', 'had', 'hadn', \"hadn't\", 'has', 'hasn', \"hasn't\", 'have', 'haven', \"haven't\", 'having', 'he', \"he'd\", \"he'll\", 'her', 'here', 'hers', 'herself', \"he's\", 'him', 'himself', 'his', 'how', 'i', \"i'd\", 'if', \"i'll\", \"i'm\", 'in', 'into', 'is', 'isn', \"isn't\", 'it', \"it'd\", \"it'll\", \"it's\", 'its', 'itself', \"i've\", 'just', 'll', 'm', 'ma', 'me', 'mightn', \"mightn't\", 'more', 'most', 'mustn', \"mustn't\", 'my', 'myself', 'needn', \"needn't\", 'no', 'nor', 'not', 'now', 'o', 'of', 'off', 'on', 'once', 'only', 'or', 'other', 'our', 'ours', 'ourselves', 'out', 'over', 'own', 're', 's', 'same', 'shan', \"shan't\", 'she', \"she'd\", \"she'll\", \"she's\", 'should', 'shouldn', \"shouldn't\", \"should've\", 'so', 'some', 'such', 't', 'than', 'that', \"that'll\", 'the', 'their', 'theirs', 'them', 'themselves', 'then', 'there', 'these', 'they', \"they'd\", \"they'll\", \"they're\", \"they've\", 'this', 'those', 'through', 'to', 'too', 'under', 'until', 'up', 've', 'very', 'was', 'wasn', \"wasn't\", 'we', \"we'd\", \"we'll\", \"we're\", 'were', 'weren', \"weren't\", \"we've\", 'what', 'when', 'where', 'which', 'while', 'who', 'whom', 'why', 'will', 'with', 'won', \"won't\", 'wouldn', \"wouldn't\", 'y', 'you', \"you'd\", \"you'll\", 'your', \"you're\", 'yours', 'yourself', 'yourselves', \"you've\"]\n"
     ]
    }
   ],
   "source": [
    "print(nltk.corpus.stopwords.words('english'))"
   ]
  },
  {
   "cell_type": "code",
   "execution_count": 31,
   "id": "cc8e31c9-ce85-4e01-b556-cd9de663f9a6",
   "metadata": {},
   "outputs": [
    {
     "name": "stdout",
     "output_type": "stream",
     "text": [
      "['acaba', 'ama', 'aslında', 'az', 'bazı', 'belki', 'biri', 'birkaç', 'birşey', 'biz', 'bu', 'çok', 'çünkü', 'da', 'daha', 'de', 'defa', 'diye', 'eğer', 'en', 'gibi', 'hem', 'hep', 'hepsi', 'her', 'hiç', 'için', 'ile', 'ise', 'kez', 'ki', 'kim', 'mı', 'mu', 'mü', 'nasıl', 'ne', 'neden', 'nerde', 'nerede', 'nereye', 'niçin', 'niye', 'o', 'sanki', 'şey', 'siz', 'şu', 'tüm', 've', 'veya', 'ya', 'yani']\n"
     ]
    }
   ],
   "source": [
    "print(nltk.corpus.stopwords.words('turkish'))"
   ]
  },
  {
   "cell_type": "code",
   "execution_count": 32,
   "id": "4b669a69-bc7f-4069-b09c-794a04342d6e",
   "metadata": {},
   "outputs": [],
   "source": [
    "# lemma and Stema = ekleri kaldirip kokleri bulma"
   ]
  },
  {
   "cell_type": "code",
   "execution_count": 33,
   "id": "5a505846-f92d-4834-907e-319b8f38ec04",
   "metadata": {},
   "outputs": [],
   "source": [
    "from nltk.stem import PorterStemmer"
   ]
  },
  {
   "cell_type": "code",
   "execution_count": 34,
   "id": "2b35ccb3-c2b4-456f-91a8-329b862bed6b",
   "metadata": {},
   "outputs": [],
   "source": [
    "ps=PorterStemmer()"
   ]
  },
  {
   "cell_type": "code",
   "execution_count": 37,
   "id": "73d59d5c-80eb-448c-8b24-94c085c3a53b",
   "metadata": {},
   "outputs": [
    {
     "data": {
      "text/plain": [
       "'play'"
      ]
     },
     "execution_count": 37,
     "metadata": {},
     "output_type": "execute_result"
    }
   ],
   "source": [
    "ps.stem('played')"
   ]
  },
  {
   "cell_type": "code",
   "execution_count": 38,
   "id": "f9b05036-3d85-42c0-9170-2b66ab673b18",
   "metadata": {},
   "outputs": [],
   "source": [
    "liste=['plays','played','went','took','happiness']"
   ]
  },
  {
   "cell_type": "code",
   "execution_count": 40,
   "id": "cf75943d-b064-4600-9b0d-1d3491a9420f",
   "metadata": {},
   "outputs": [
    {
     "data": {
      "text/plain": [
       "['play', 'play', 'went', 'took', 'happi']"
      ]
     },
     "execution_count": 40,
     "metadata": {},
     "output_type": "execute_result"
    }
   ],
   "source": [
    "[ps.stem(word) for word in liste] # list copmrehension"
   ]
  },
  {
   "cell_type": "code",
   "execution_count": 43,
   "id": "4e08ce82-eaa4-4e25-aa73-9752240e410c",
   "metadata": {},
   "outputs": [
    {
     "name": "stderr",
     "output_type": "stream",
     "text": [
      "[nltk_data] Downloading package wordnet to\n",
      "[nltk_data]     C:\\Users\\kosey\\AppData\\Roaming\\nltk_data...\n"
     ]
    },
    {
     "data": {
      "text/plain": [
       "True"
      ]
     },
     "execution_count": 43,
     "metadata": {},
     "output_type": "execute_result"
    }
   ],
   "source": [
    "nltk.download('wordnet')"
   ]
  },
  {
   "cell_type": "code",
   "execution_count": 44,
   "id": "5c27d8af-9770-4b8b-bf32-c6cea7954a91",
   "metadata": {},
   "outputs": [],
   "source": [
    "from nltk.stem import WordNetLemmatizer"
   ]
  },
  {
   "cell_type": "code",
   "execution_count": 45,
   "id": "c2832abf-d92b-4263-b5a1-0da209348345",
   "metadata": {},
   "outputs": [],
   "source": [
    "wt=WordNetLemmatizer()"
   ]
  },
  {
   "cell_type": "code",
   "execution_count": 47,
   "id": "524adb8b-5c11-4c70-97d6-480319fd143b",
   "metadata": {},
   "outputs": [
    {
     "data": {
      "text/plain": [
       "['play', 'play', 'go', 'take', 'happiness']"
      ]
     },
     "execution_count": 47,
     "metadata": {},
     "output_type": "execute_result"
    }
   ],
   "source": [
    "[wt.lemmatize(word, 'v') for word in liste] # v-> verb"
   ]
  },
  {
   "cell_type": "code",
   "execution_count": 48,
   "id": "0eee32aa-42cc-4582-9f9b-b224fa8fd526",
   "metadata": {},
   "outputs": [],
   "source": [
    "from nltk.stem import LancasterStemmer"
   ]
  },
  {
   "cell_type": "code",
   "execution_count": 49,
   "id": "82b085aa-730f-4415-8cc1-fccd3c58013b",
   "metadata": {},
   "outputs": [],
   "source": [
    "ls=LancasterStemmer()"
   ]
  },
  {
   "cell_type": "code",
   "execution_count": 50,
   "id": "e98ee3b5-6894-4cb7-80bd-76567011196d",
   "metadata": {},
   "outputs": [
    {
     "data": {
      "text/plain": [
       "'happy'"
      ]
     },
     "execution_count": 50,
     "metadata": {},
     "output_type": "execute_result"
    }
   ],
   "source": [
    "ls.stem('happiness')"
   ]
  },
  {
   "cell_type": "code",
   "execution_count": 51,
   "id": "f1b10d8b-9c4d-401f-a8e7-b0fbe672fed8",
   "metadata": {},
   "outputs": [],
   "source": [
    "from nltk.stem import SnowballStemmer"
   ]
  },
  {
   "cell_type": "code",
   "execution_count": 52,
   "id": "3b102077-2cd5-4256-bdaf-33ed5b48dc9c",
   "metadata": {},
   "outputs": [],
   "source": [
    "ss=SnowballStemmer('spanish')"
   ]
  },
  {
   "cell_type": "code",
   "execution_count": 53,
   "id": "0de0f892-c63a-49f7-a05d-49223433f5f2",
   "metadata": {},
   "outputs": [
    {
     "data": {
      "text/plain": [
       "'teqier'"
      ]
     },
     "execution_count": 53,
     "metadata": {},
     "output_type": "execute_result"
    }
   ],
   "source": [
    "ss.stem('teqiero')"
   ]
  },
  {
   "cell_type": "code",
   "execution_count": 54,
   "id": "1cb78ff0-eb98-4b41-ba85-b112d0adc245",
   "metadata": {},
   "outputs": [],
   "source": [
    "# Part of speeh S+V+O I - love - hard work"
   ]
  },
  {
   "cell_type": "code",
   "execution_count": 55,
   "id": "f2b7359e-16d7-4841-8ff9-7cf157436a4a",
   "metadata": {},
   "outputs": [
    {
     "name": "stderr",
     "output_type": "stream",
     "text": [
      "[nltk_data] Downloading package averaged_perceptron_tagger to\n",
      "[nltk_data]     C:\\Users\\kosey\\AppData\\Roaming\\nltk_data...\n",
      "[nltk_data]   Unzipping taggers\\averaged_perceptron_tagger.zip.\n"
     ]
    },
    {
     "data": {
      "text/plain": [
       "True"
      ]
     },
     "execution_count": 55,
     "metadata": {},
     "output_type": "execute_result"
    }
   ],
   "source": [
    "nltk.download('averaged_perceptron_tagger')"
   ]
  },
  {
   "cell_type": "code",
   "execution_count": 56,
   "id": "703506aa-7441-4fec-8005-9e66f4fe2536",
   "metadata": {},
   "outputs": [
    {
     "name": "stderr",
     "output_type": "stream",
     "text": [
      "[nltk_data] Downloading package averaged_perceptron_tagger_eng to\n",
      "[nltk_data]     C:\\Users\\kosey\\AppData\\Roaming\\nltk_data...\n",
      "[nltk_data]   Unzipping taggers\\averaged_perceptron_tagger_eng.zip.\n"
     ]
    },
    {
     "data": {
      "text/plain": [
       "True"
      ]
     },
     "execution_count": 56,
     "metadata": {},
     "output_type": "execute_result"
    }
   ],
   "source": [
    "nltk.download('averaged_perceptron_tagger_eng')"
   ]
  },
  {
   "cell_type": "code",
   "execution_count": 57,
   "id": "6c3c1068-7ec7-4fac-9e50-6af8919027b3",
   "metadata": {},
   "outputs": [],
   "source": [
    "cumle='Work hard. Do not procrestinate, welcome home. It is interesting, please call me tonight'"
   ]
  },
  {
   "cell_type": "code",
   "execution_count": 58,
   "id": "93dee64d-816e-4166-8abd-c09b04f1d7ef",
   "metadata": {},
   "outputs": [],
   "source": [
    "cumle2=cumle.split() # tokenize et"
   ]
  },
  {
   "cell_type": "code",
   "execution_count": 60,
   "id": "5eb3d8e1-b266-4f8f-9a09-3154c18632d5",
   "metadata": {},
   "outputs": [
    {
     "data": {
      "text/plain": [
       "['Work',\n",
       " 'hard.',\n",
       " 'Do',\n",
       " 'not',\n",
       " 'procrestinate,',\n",
       " 'welcome',\n",
       " 'home.',\n",
       " 'It',\n",
       " 'is',\n",
       " 'interesting,',\n",
       " 'please',\n",
       " 'call',\n",
       " 'me',\n",
       " 'tonight']"
      ]
     },
     "execution_count": 60,
     "metadata": {},
     "output_type": "execute_result"
    }
   ],
   "source": [
    "cumle2"
   ]
  },
  {
   "cell_type": "code",
   "execution_count": 61,
   "id": "501f20ae-6306-4c7d-b838-44c835b6b6b8",
   "metadata": {},
   "outputs": [
    {
     "data": {
      "text/plain": [
       "[('Work', 'NN'),\n",
       " ('hard.', 'NNS'),\n",
       " ('Do', 'VBP'),\n",
       " ('not', 'RB'),\n",
       " ('procrestinate,', 'VB'),\n",
       " ('welcome', 'JJ'),\n",
       " ('home.', 'NN'),\n",
       " ('It', 'PRP'),\n",
       " ('is', 'VBZ'),\n",
       " ('interesting,', 'JJ'),\n",
       " ('please', 'NN'),\n",
       " ('call', 'VB'),\n",
       " ('me', 'PRP'),\n",
       " ('tonight', 'JJ')]"
      ]
     },
     "execution_count": 61,
     "metadata": {},
     "output_type": "execute_result"
    }
   ],
   "source": [
    "nltk.pos_tag(cumle2)"
   ]
  },
  {
   "cell_type": "raw",
   "id": "fecdcc4e-b49f-4acd-856e-892da934e492",
   "metadata": {},
   "source": [
    "nltk.pos_tag list all tags\n",
    "CC: Coordinating conjunction (e.g., and, but, or)\n",
    "CD: Cardinal digit (e.g., 1, 2, three)\n",
    "DT: Determiner (e.g., the, a, an, this, that)\n",
    "EX: Existential there (e.g., \"there is\")\n",
    "FW: Foreign word (e.g., dolce vita)\n",
    "IN: Preposition/subordinating conjunction (e.g., in, on, at, for, with)\n",
    "JJ: Adjective (e.g., big, happy, old)\n",
    "JJR: Adjective, comparative (e.g., bigger, happier, older)\n",
    "JJS: Adjective, superlative (e.g., biggest, happiest, oldest)\n",
    "LS: List marker (e.g., 1), A))\n",
    "MD: Modal (e.g., could, will, should)\n",
    "NN: Noun, singular or mass (e.g., desk, water, information)\n",
    "NNS: Noun, plural (e.g., desks, books, ideas)\n",
    "NNP: Proper noun, singular (e.g., Harrison, London)\n",
    "NNPS: Proper noun, plural (e.g., Americans, Europeans)\n",
    "PDT: Predeterminer (e.g., all the, both my)\n",
    "POS: Possessive ending (e.g., parent's, dog's)\n",
    "PRP: Personal pronoun (e.g., I, he, she, it, them)\n",
    "PRP$: Possessive pronoun (e.g., my, his, hers, its)\n",
    "RB: Adverb (e.g., very, quickly, silently)\n",
    "RBR: Adverb, comparative (e.g., better, faster)\n",
    "RBS: Adverb, superlative (e.g., best, fastest)\n",
    "RP: Particle (e.g., give up, pick out)\n",
    "TO: to (as in \"to go\")\n",
    "UH: Interjection (e.g., errr, uh-oh)\n",
    "VB: Verb, base form (e.g., take, eat, run)\n",
    "VBD: Verb, past tense (e.g., took, ate, ran)\n",
    "VBG: Verb, gerund/present participle (e.g., taking, eating, running)\n",
    "VBN: Verb, past participle (e.g., taken, eaten, run)\n",
    "VBP: Verb, non-3rd person singular present (e.g., take, eat, run)\n",
    "VBZ: Verb, 3rd person singular present (e.g., takes, eats, runs)\n",
    "WDT: Wh-determiner (e.g., which, what)\n",
    "WP: Wh-pronoun (e.g., who, what, whom)\n",
    "WP$: Possessive wh-pronoun (e.g., whose)\n",
    "WRB: Wh-adverb (e.g., where, when, why)"
   ]
  },
  {
   "cell_type": "code",
   "execution_count": 62,
   "id": "8d11f1b4-e759-488d-8704-07caadf12d0a",
   "metadata": {},
   "outputs": [
    {
     "name": "stdout",
     "output_type": "stream",
     "text": [
      "Defaulting to user installation because normal site-packages is not writeable\n",
      "Collecting textblob==0.17.1\n",
      "  Downloading textblob-0.17.1-py2.py3-none-any.whl.metadata (4.2 kB)\n",
      "Requirement already satisfied: nltk>=3.1 in c:\\programdata\\anaconda3\\lib\\site-packages (from textblob==0.17.1) (3.9.1)\n",
      "Requirement already satisfied: click in c:\\programdata\\anaconda3\\lib\\site-packages (from nltk>=3.1->textblob==0.17.1) (8.1.8)\n",
      "Requirement already satisfied: joblib in c:\\programdata\\anaconda3\\lib\\site-packages (from nltk>=3.1->textblob==0.17.1) (1.4.2)\n",
      "Requirement already satisfied: regex>=2021.8.3 in c:\\programdata\\anaconda3\\lib\\site-packages (from nltk>=3.1->textblob==0.17.1) (2024.11.6)\n",
      "Requirement already satisfied: tqdm in c:\\programdata\\anaconda3\\lib\\site-packages (from nltk>=3.1->textblob==0.17.1) (4.67.1)\n",
      "Requirement already satisfied: colorama in c:\\programdata\\anaconda3\\lib\\site-packages (from click->nltk>=3.1->textblob==0.17.1) (0.4.6)\n",
      "Downloading textblob-0.17.1-py2.py3-none-any.whl (636 kB)\n",
      "   ---------------------------------------- 0.0/636.8 kB ? eta -:--:--\n",
      "   ---------------------------------------- 636.8/636.8 kB 5.4 MB/s eta 0:00:00\n",
      "Installing collected packages: textblob\n",
      "Successfully installed textblob-0.17.1\n",
      "Note: you may need to restart the kernel to use updated packages.\n"
     ]
    }
   ],
   "source": [
    "pip install textblob==0.17.1"
   ]
  },
  {
   "cell_type": "code",
   "execution_count": 63,
   "id": "e7eeed0f-0c58-41c0-a356-36f27fd526c9",
   "metadata": {},
   "outputs": [],
   "source": [
    "from textblob import TextBlob # sentimen analizi(negatif pozitif), spellcheck"
   ]
  },
  {
   "cell_type": "code",
   "execution_count": 70,
   "id": "d73fe949-960e-406c-8116-b5d5d44cd3e2",
   "metadata": {},
   "outputs": [],
   "source": [
    "b=TextBlob('I havee goad spalling')"
   ]
  },
  {
   "cell_type": "code",
   "execution_count": 71,
   "id": "1323d595-281c-4421-9254-d1c3aa22239e",
   "metadata": {},
   "outputs": [
    {
     "data": {
      "text/plain": [
       "TextBlob(\"I have good spelling\")"
      ]
     },
     "execution_count": 71,
     "metadata": {},
     "output_type": "execute_result"
    }
   ],
   "source": [
    "b.correct()"
   ]
  },
  {
   "cell_type": "code",
   "execution_count": 80,
   "id": "b61b11e2-f5ca-4447-9001-594b02ed6daf",
   "metadata": {},
   "outputs": [],
   "source": [
    "text='I love python programing'\n",
    "blob=TextBlob(text)"
   ]
  },
  {
   "cell_type": "code",
   "execution_count": 81,
   "id": "79e89c29-5786-49e2-851e-3ac12facfd22",
   "metadata": {},
   "outputs": [
    {
     "data": {
      "text/plain": [
       "Sentiment(polarity=0.5, subjectivity=0.6)"
      ]
     },
     "execution_count": 81,
     "metadata": {},
     "output_type": "execute_result"
    }
   ],
   "source": [
    "blob.sentiment"
   ]
  },
  {
   "cell_type": "code",
   "execution_count": 77,
   "id": "51b998f4-fbed-4cbe-8d38-384eb4352e01",
   "metadata": {},
   "outputs": [],
   "source": [
    "# polority -1 asiri negatif, +1 asiri positif cumle ve 0 ise epsilon komsulugu notr cumle"
   ]
  },
  {
   "cell_type": "code",
   "execution_count": 83,
   "id": "a08c4282-0386-4500-846d-116c4fb5ffd5",
   "metadata": {},
   "outputs": [],
   "source": [
    "# pip install langdetect"
   ]
  },
  {
   "cell_type": "code",
   "execution_count": 84,
   "id": "4f49fdd6-930a-47c1-944b-d6c78dade461",
   "metadata": {},
   "outputs": [],
   "source": [
    "from langdetect import detect"
   ]
  },
  {
   "cell_type": "code",
   "execution_count": 95,
   "id": "109d9e3d-9b4b-4a16-8fd9-1fc28a78a0a0",
   "metadata": {},
   "outputs": [
    {
     "data": {
      "text/plain": [
       "'de'"
      ]
     },
     "execution_count": 95,
     "metadata": {},
     "output_type": "execute_result"
    }
   ],
   "source": [
    "detect('BUONGIORNO')"
   ]
  },
  {
   "cell_type": "code",
   "execution_count": 93,
   "id": "5854a49f-7305-4e1f-afea-907ecb5b18e1",
   "metadata": {},
   "outputs": [],
   "source": [
    "b=TextBlob('I am a free black man from dark Africa loved by French')"
   ]
  },
  {
   "cell_type": "code",
   "execution_count": 94,
   "id": "cc81a257-fe5c-458a-b5c2-eb9dfc7a7405",
   "metadata": {},
   "outputs": [
    {
     "data": {
      "text/plain": [
       "TextBlob(\"Ben Fransızlar tarafından sevilen karanlık Afrika'dan gelen özgür bir siyah adamım\")"
      ]
     },
     "execution_count": 94,
     "metadata": {},
     "output_type": "execute_result"
    }
   ],
   "source": [
    "b.translate(from_lang='en', to='tr')"
   ]
  },
  {
   "cell_type": "markdown",
   "id": "9dcb93c3-d4b9-4e51-8f12-9babeee497a7",
   "metadata": {},
   "source": [
    "## Introduction to NLP"
   ]
  },
  {
   "cell_type": "raw",
   "id": "d4305659-9198-42b7-ac62-03c414ff15fd",
   "metadata": {},
   "source": [
    "1- Veriyi oku\n",
    "2- Herseyi kucuk harfe cevir\n",
    "3- Noktalama isaretlerini kaldir\n",
    "4- Rakamlari kaldir\n",
    "5- Satir sonlarini kaldir\n",
    "6- Stopwords'leri kaldir\n",
    "7- Tokenize et\n",
    "8- Ekleri kaldirip kokleri bul\n",
    "9- Vektorize et\n",
    "10- TF/IDF Term frequency inverse document frequency"
   ]
  },
  {
   "cell_type": "code",
   "execution_count": 96,
   "id": "24323bd0-1ad2-4c11-be6c-0efa2c9e5af3",
   "metadata": {},
   "outputs": [],
   "source": [
    "text=['Call you tonight','Call me a cab','Please call me... PLEASE']"
   ]
  },
  {
   "cell_type": "code",
   "execution_count": 98,
   "id": "b8e9ea68-cac6-4a5e-9013-a8f5ef41fc66",
   "metadata": {},
   "outputs": [],
   "source": [
    "from sklearn.feature_extraction.text import CountVectorizer"
   ]
  },
  {
   "cell_type": "code",
   "execution_count": 101,
   "id": "32504190-25be-4ca5-8223-27953dba5f40",
   "metadata": {},
   "outputs": [],
   "source": [
    "vect=CountVectorizer()"
   ]
  },
  {
   "cell_type": "code",
   "execution_count": 103,
   "id": "91815338-1861-414f-afd5-2f3e18632559",
   "metadata": {},
   "outputs": [
    {
     "data": {
      "text/plain": [
       "array([[0, 1, 0, 0, 1, 1],\n",
       "       [1, 1, 1, 0, 0, 0],\n",
       "       [0, 1, 1, 2, 0, 0]])"
      ]
     },
     "execution_count": 103,
     "metadata": {},
     "output_type": "execute_result"
    }
   ],
   "source": [
    "vect.fit_transform(text).toarray()"
   ]
  },
  {
   "cell_type": "code",
   "execution_count": 104,
   "id": "32c23c0a-dabf-484c-bd03-7e114658bcec",
   "metadata": {},
   "outputs": [],
   "source": [
    "import pandas as pd"
   ]
  },
  {
   "cell_type": "code",
   "execution_count": 106,
   "id": "b349868e-f76c-4ba8-83e8-7bfa28a5d8fa",
   "metadata": {},
   "outputs": [],
   "source": [
    "tf=pd.DataFrame(vect.fit_transform(text).toarray(),columns=vect.get_feature_names_out())"
   ]
  },
  {
   "cell_type": "code",
   "execution_count": 107,
   "id": "81970b58-34d0-49db-9915-9299626e1855",
   "metadata": {},
   "outputs": [
    {
     "data": {
      "text/html": [
       "<div>\n",
       "<style scoped>\n",
       "    .dataframe tbody tr th:only-of-type {\n",
       "        vertical-align: middle;\n",
       "    }\n",
       "\n",
       "    .dataframe tbody tr th {\n",
       "        vertical-align: top;\n",
       "    }\n",
       "\n",
       "    .dataframe thead th {\n",
       "        text-align: right;\n",
       "    }\n",
       "</style>\n",
       "<table border=\"1\" class=\"dataframe\">\n",
       "  <thead>\n",
       "    <tr style=\"text-align: right;\">\n",
       "      <th></th>\n",
       "      <th>cab</th>\n",
       "      <th>call</th>\n",
       "      <th>me</th>\n",
       "      <th>please</th>\n",
       "      <th>tonight</th>\n",
       "      <th>you</th>\n",
       "    </tr>\n",
       "  </thead>\n",
       "  <tbody>\n",
       "    <tr>\n",
       "      <th>0</th>\n",
       "      <td>0</td>\n",
       "      <td>1</td>\n",
       "      <td>0</td>\n",
       "      <td>0</td>\n",
       "      <td>1</td>\n",
       "      <td>1</td>\n",
       "    </tr>\n",
       "    <tr>\n",
       "      <th>1</th>\n",
       "      <td>1</td>\n",
       "      <td>1</td>\n",
       "      <td>1</td>\n",
       "      <td>0</td>\n",
       "      <td>0</td>\n",
       "      <td>0</td>\n",
       "    </tr>\n",
       "    <tr>\n",
       "      <th>2</th>\n",
       "      <td>0</td>\n",
       "      <td>1</td>\n",
       "      <td>1</td>\n",
       "      <td>2</td>\n",
       "      <td>0</td>\n",
       "      <td>0</td>\n",
       "    </tr>\n",
       "  </tbody>\n",
       "</table>\n",
       "</div>"
      ],
      "text/plain": [
       "   cab  call  me  please  tonight  you\n",
       "0    0     1   0       0        1    1\n",
       "1    1     1   1       0        0    0\n",
       "2    0     1   1       2        0    0"
      ]
     },
     "execution_count": 107,
     "metadata": {},
     "output_type": "execute_result"
    }
   ],
   "source": [
    "tf"
   ]
  },
  {
   "cell_type": "code",
   "execution_count": 109,
   "id": "190a16d4-003d-4b64-8c97-e7ee46261c32",
   "metadata": {},
   "outputs": [],
   "source": [
    "df=vect.fit_transform(text).toarray().sum(axis=0)"
   ]
  },
  {
   "cell_type": "code",
   "execution_count": 110,
   "id": "b62d542e-7d41-4528-9daf-031fc13f8c8e",
   "metadata": {},
   "outputs": [
    {
     "data": {
      "text/html": [
       "<div>\n",
       "<style scoped>\n",
       "    .dataframe tbody tr th:only-of-type {\n",
       "        vertical-align: middle;\n",
       "    }\n",
       "\n",
       "    .dataframe tbody tr th {\n",
       "        vertical-align: top;\n",
       "    }\n",
       "\n",
       "    .dataframe thead th {\n",
       "        text-align: right;\n",
       "    }\n",
       "</style>\n",
       "<table border=\"1\" class=\"dataframe\">\n",
       "  <thead>\n",
       "    <tr style=\"text-align: right;\">\n",
       "      <th></th>\n",
       "      <th>cab</th>\n",
       "      <th>call</th>\n",
       "      <th>me</th>\n",
       "      <th>please</th>\n",
       "      <th>tonight</th>\n",
       "      <th>you</th>\n",
       "    </tr>\n",
       "  </thead>\n",
       "  <tbody>\n",
       "    <tr>\n",
       "      <th>0</th>\n",
       "      <td>0.0</td>\n",
       "      <td>0.333333</td>\n",
       "      <td>0.0</td>\n",
       "      <td>0.0</td>\n",
       "      <td>1.0</td>\n",
       "      <td>1.0</td>\n",
       "    </tr>\n",
       "    <tr>\n",
       "      <th>1</th>\n",
       "      <td>1.0</td>\n",
       "      <td>0.333333</td>\n",
       "      <td>0.5</td>\n",
       "      <td>0.0</td>\n",
       "      <td>0.0</td>\n",
       "      <td>0.0</td>\n",
       "    </tr>\n",
       "    <tr>\n",
       "      <th>2</th>\n",
       "      <td>0.0</td>\n",
       "      <td>0.333333</td>\n",
       "      <td>0.5</td>\n",
       "      <td>1.0</td>\n",
       "      <td>0.0</td>\n",
       "      <td>0.0</td>\n",
       "    </tr>\n",
       "  </tbody>\n",
       "</table>\n",
       "</div>"
      ],
      "text/plain": [
       "   cab      call   me  please  tonight  you\n",
       "0  0.0  0.333333  0.0     0.0      1.0  1.0\n",
       "1  1.0  0.333333  0.5     0.0      0.0  0.0\n",
       "2  0.0  0.333333  0.5     1.0      0.0  0.0"
      ]
     },
     "execution_count": 110,
     "metadata": {},
     "output_type": "execute_result"
    }
   ],
   "source": [
    "tf/df"
   ]
  },
  {
   "cell_type": "code",
   "execution_count": 113,
   "id": "6e1a50a3-4b81-41b7-9aad-681fa259ca00",
   "metadata": {},
   "outputs": [],
   "source": [
    "# yelp.csv de uygulama"
   ]
  },
  {
   "cell_type": "code",
   "execution_count": 114,
   "id": "4fa27ccd-bc96-4fc0-b7a0-22de97240b0c",
   "metadata": {},
   "outputs": [],
   "source": [
    "df=pd.read_csv('yelp.csv')"
   ]
  },
  {
   "cell_type": "code",
   "execution_count": 115,
   "id": "89fb5b05-bd2c-4cec-9bc9-3d40e4e44809",
   "metadata": {},
   "outputs": [
    {
     "data": {
      "text/html": [
       "<div>\n",
       "<style scoped>\n",
       "    .dataframe tbody tr th:only-of-type {\n",
       "        vertical-align: middle;\n",
       "    }\n",
       "\n",
       "    .dataframe tbody tr th {\n",
       "        vertical-align: top;\n",
       "    }\n",
       "\n",
       "    .dataframe thead th {\n",
       "        text-align: right;\n",
       "    }\n",
       "</style>\n",
       "<table border=\"1\" class=\"dataframe\">\n",
       "  <thead>\n",
       "    <tr style=\"text-align: right;\">\n",
       "      <th></th>\n",
       "      <th>business_id</th>\n",
       "      <th>date</th>\n",
       "      <th>review_id</th>\n",
       "      <th>stars</th>\n",
       "      <th>text</th>\n",
       "      <th>type</th>\n",
       "      <th>user_id</th>\n",
       "      <th>cool</th>\n",
       "      <th>useful</th>\n",
       "      <th>funny</th>\n",
       "    </tr>\n",
       "  </thead>\n",
       "  <tbody>\n",
       "    <tr>\n",
       "      <th>0</th>\n",
       "      <td>9yKzy9PApeiPPOUJEtnvkg</td>\n",
       "      <td>2011-01-26</td>\n",
       "      <td>fWKvX83p0-ka4JS3dc6E5A</td>\n",
       "      <td>5</td>\n",
       "      <td>My wife took me here on my birthday for breakf...</td>\n",
       "      <td>review</td>\n",
       "      <td>rLtl8ZkDX5vH5nAx9C3q5Q</td>\n",
       "      <td>2</td>\n",
       "      <td>5</td>\n",
       "      <td>0</td>\n",
       "    </tr>\n",
       "    <tr>\n",
       "      <th>1</th>\n",
       "      <td>ZRJwVLyzEJq1VAihDhYiow</td>\n",
       "      <td>2011-07-27</td>\n",
       "      <td>IjZ33sJrzXqU-0X6U8NwyA</td>\n",
       "      <td>5</td>\n",
       "      <td>I have no idea why some people give bad review...</td>\n",
       "      <td>review</td>\n",
       "      <td>0a2KyEL0d3Yb1V6aivbIuQ</td>\n",
       "      <td>0</td>\n",
       "      <td>0</td>\n",
       "      <td>0</td>\n",
       "    </tr>\n",
       "    <tr>\n",
       "      <th>2</th>\n",
       "      <td>6oRAC4uyJCsJl1X0WZpVSA</td>\n",
       "      <td>2012-06-14</td>\n",
       "      <td>IESLBzqUCLdSzSqm0eCSxQ</td>\n",
       "      <td>4</td>\n",
       "      <td>love the gyro plate. Rice is so good and I als...</td>\n",
       "      <td>review</td>\n",
       "      <td>0hT2KtfLiobPvh6cDC8JQg</td>\n",
       "      <td>0</td>\n",
       "      <td>1</td>\n",
       "      <td>0</td>\n",
       "    </tr>\n",
       "    <tr>\n",
       "      <th>3</th>\n",
       "      <td>_1QQZuf4zZOyFCvXc0o6Vg</td>\n",
       "      <td>2010-05-27</td>\n",
       "      <td>G-WvGaISbqqaMHlNnByodA</td>\n",
       "      <td>5</td>\n",
       "      <td>Rosie, Dakota, and I LOVE Chaparral Dog Park!!...</td>\n",
       "      <td>review</td>\n",
       "      <td>uZetl9T0NcROGOyFfughhg</td>\n",
       "      <td>1</td>\n",
       "      <td>2</td>\n",
       "      <td>0</td>\n",
       "    </tr>\n",
       "    <tr>\n",
       "      <th>4</th>\n",
       "      <td>6ozycU1RpktNG2-1BroVtw</td>\n",
       "      <td>2012-01-05</td>\n",
       "      <td>1uJFq2r5QfJG_6ExMRCaGw</td>\n",
       "      <td>5</td>\n",
       "      <td>General Manager Scott Petello is a good egg!!!...</td>\n",
       "      <td>review</td>\n",
       "      <td>vYmM4KTsC8ZfQBg-j5MWkw</td>\n",
       "      <td>0</td>\n",
       "      <td>0</td>\n",
       "      <td>0</td>\n",
       "    </tr>\n",
       "  </tbody>\n",
       "</table>\n",
       "</div>"
      ],
      "text/plain": [
       "              business_id        date               review_id  stars  \\\n",
       "0  9yKzy9PApeiPPOUJEtnvkg  2011-01-26  fWKvX83p0-ka4JS3dc6E5A      5   \n",
       "1  ZRJwVLyzEJq1VAihDhYiow  2011-07-27  IjZ33sJrzXqU-0X6U8NwyA      5   \n",
       "2  6oRAC4uyJCsJl1X0WZpVSA  2012-06-14  IESLBzqUCLdSzSqm0eCSxQ      4   \n",
       "3  _1QQZuf4zZOyFCvXc0o6Vg  2010-05-27  G-WvGaISbqqaMHlNnByodA      5   \n",
       "4  6ozycU1RpktNG2-1BroVtw  2012-01-05  1uJFq2r5QfJG_6ExMRCaGw      5   \n",
       "\n",
       "                                                text    type  \\\n",
       "0  My wife took me here on my birthday for breakf...  review   \n",
       "1  I have no idea why some people give bad review...  review   \n",
       "2  love the gyro plate. Rice is so good and I als...  review   \n",
       "3  Rosie, Dakota, and I LOVE Chaparral Dog Park!!...  review   \n",
       "4  General Manager Scott Petello is a good egg!!!...  review   \n",
       "\n",
       "                  user_id  cool  useful  funny  \n",
       "0  rLtl8ZkDX5vH5nAx9C3q5Q     2       5      0  \n",
       "1  0a2KyEL0d3Yb1V6aivbIuQ     0       0      0  \n",
       "2  0hT2KtfLiobPvh6cDC8JQg     0       1      0  \n",
       "3  uZetl9T0NcROGOyFfughhg     1       2      0  \n",
       "4  vYmM4KTsC8ZfQBg-j5MWkw     0       0      0  "
      ]
     },
     "execution_count": 115,
     "metadata": {},
     "output_type": "execute_result"
    }
   ],
   "source": [
    "df.head()"
   ]
  },
  {
   "cell_type": "code",
   "execution_count": 116,
   "id": "38f77109-0aa9-4f62-adca-dd183b52ffec",
   "metadata": {},
   "outputs": [
    {
     "data": {
      "text/plain": [
       "'My wife took me here on my birthday for breakfast and it was excellent.  The weather was perfect which made sitting outside overlooking their grounds an absolute pleasure.  Our waitress was excellent and our food arrived quickly on the semi-busy Saturday morning.  It looked like the place fills up pretty quickly so the earlier you get here the better.\\n\\nDo yourself a favor and get their Bloody Mary.  It was phenomenal and simply the best I\\'ve ever had.  I\\'m pretty sure they only use ingredients from their garden and blend them fresh when you order it.  It was amazing.\\n\\nWhile EVERYTHING on the menu looks excellent, I had the white truffle scrambled eggs vegetable skillet and it was tasty and delicious.  It came with 2 pieces of their griddled bread with was amazing and it absolutely made the meal complete.  It was the best \"toast\" I\\'ve ever had.\\n\\nAnyway, I can\\'t wait to go back!'"
      ]
     },
     "execution_count": 116,
     "metadata": {},
     "output_type": "execute_result"
    }
   ],
   "source": [
    "df['text'][0]"
   ]
  },
  {
   "cell_type": "code",
   "execution_count": 118,
   "id": "c18eb5a9-e4fe-4c20-b28d-7123e6fba0f9",
   "metadata": {},
   "outputs": [
    {
     "data": {
      "text/plain": [
       "(10000, 10)"
      ]
     },
     "execution_count": 118,
     "metadata": {},
     "output_type": "execute_result"
    }
   ],
   "source": [
    "df.shape"
   ]
  },
  {
   "cell_type": "code",
   "execution_count": 128,
   "id": "32e5b078-0f99-415a-93a1-20a6d5cda592",
   "metadata": {},
   "outputs": [],
   "source": [
    "df['text']=df['text'].str.lower() # kucuk harfe cevir\n",
    "df['text']=df['text'].str.replace('[^\\w\\s]','', regex=True) # noktolama isaretlerini kaldirir\n",
    "df['text']=df['text'].str.replace('\\d+','', regex=True) # rakamlari kaldirir\n",
    "df['text']=df['text'].str.replace('\\n','', regex=True) # satir sonlarini kaldirir\n",
    "df['text']=df['text'].str.replace('\\r','', regex=True) # enter lari kaldirir"
   ]
  },
  {
   "cell_type": "code",
   "execution_count": 129,
   "id": "1e03d6e4-48fe-438d-a4a6-d62ae9748ac1",
   "metadata": {},
   "outputs": [
    {
     "data": {
      "text/plain": [
       "'my wife took me here on my birthday for breakfast and it was excellent  the weather was perfect which made sitting outside overlooking their grounds an absolute pleasure  our waitress was excellent and our food arrived quickly on the semibusy saturday morning  it looked like the place fills up pretty quickly so the earlier you get here the betterdo yourself a favor and get their bloody mary  it was phenomenal and simply the best ive ever had  im pretty sure they only use ingredients from their garden and blend them fresh when you order it  it was amazingwhile everything on the menu looks excellent i had the white truffle scrambled eggs vegetable skillet and it was tasty and delicious  it came with  pieces of their griddled bread with was amazing and it absolutely made the meal complete  it was the best toast ive ever hadanyway i cant wait to go back'"
      ]
     },
     "execution_count": 129,
     "metadata": {},
     "output_type": "execute_result"
    }
   ],
   "source": [
    "df['text'][0]"
   ]
  },
  {
   "cell_type": "markdown",
   "id": "70d2b23e-71ea-46e4-93b6-c50f4e2b1d2f",
   "metadata": {},
   "source": [
    "### Sentiment Analysis"
   ]
  },
  {
   "cell_type": "code",
   "execution_count": 131,
   "id": "d9bd51fd-9246-4fcb-a423-d5fede5ee34b",
   "metadata": {},
   "outputs": [],
   "source": [
    "import seaborn as sns"
   ]
  },
  {
   "cell_type": "code",
   "execution_count": 132,
   "id": "5d22ef30-0efa-4391-aca1-9d0cb6372b0d",
   "metadata": {},
   "outputs": [
    {
     "data": {
      "text/plain": [
       "<Axes: xlabel='stars', ylabel='count'>"
      ]
     },
     "execution_count": 132,
     "metadata": {},
     "output_type": "execute_result"
    },
    {
     "data": {
      "image/png": "[encoded data removed]",
      "text/plain": [
       "<Figure size 640x480 with 1 Axes>"
      ]
     },
     "metadata": {},
     "output_type": "display_data"
    }
   ],
   "source": [
    "sns.countplot(x=df['stars'])"
   ]
  },
  {
   "cell_type": "code",
   "execution_count": 133,
   "id": "ae34a716-6391-4b15-b5ea-8f0aec483435",
   "metadata": {},
   "outputs": [],
   "source": [
    "ybw=df[(df.stars==1) | (df.stars==5)]"
   ]
  },
  {
   "cell_type": "code",
   "execution_count": 137,
   "id": "e25827be-5e40-449c-a8d6-9e55d8822159",
   "metadata": {},
   "outputs": [],
   "source": [
    "ybw.reset_index(drop=True,inplace=True) # index sayilarini duzeltiyoruz"
   ]
  },
  {
   "cell_type": "code",
   "execution_count": 138,
   "id": "7599de14-665e-424b-830c-58fa3690732d",
   "metadata": {},
   "outputs": [
    {
     "data": {
      "text/html": [
       "<div>\n",
       "<style scoped>\n",
       "    .dataframe tbody tr th:only-of-type {\n",
       "        vertical-align: middle;\n",
       "    }\n",
       "\n",
       "    .dataframe tbody tr th {\n",
       "        vertical-align: top;\n",
       "    }\n",
       "\n",
       "    .dataframe thead th {\n",
       "        text-align: right;\n",
       "    }\n",
       "</style>\n",
       "<table border=\"1\" class=\"dataframe\">\n",
       "  <thead>\n",
       "    <tr style=\"text-align: right;\">\n",
       "      <th></th>\n",
       "      <th>business_id</th>\n",
       "      <th>date</th>\n",
       "      <th>review_id</th>\n",
       "      <th>stars</th>\n",
       "      <th>text</th>\n",
       "      <th>type</th>\n",
       "      <th>user_id</th>\n",
       "      <th>cool</th>\n",
       "      <th>useful</th>\n",
       "      <th>funny</th>\n",
       "    </tr>\n",
       "  </thead>\n",
       "  <tbody>\n",
       "    <tr>\n",
       "      <th>0</th>\n",
       "      <td>9yKzy9PApeiPPOUJEtnvkg</td>\n",
       "      <td>2011-01-26</td>\n",
       "      <td>fWKvX83p0-ka4JS3dc6E5A</td>\n",
       "      <td>5</td>\n",
       "      <td>my wife took me here on my birthday for breakf...</td>\n",
       "      <td>review</td>\n",
       "      <td>rLtl8ZkDX5vH5nAx9C3q5Q</td>\n",
       "      <td>2</td>\n",
       "      <td>5</td>\n",
       "      <td>0</td>\n",
       "    </tr>\n",
       "    <tr>\n",
       "      <th>1</th>\n",
       "      <td>ZRJwVLyzEJq1VAihDhYiow</td>\n",
       "      <td>2011-07-27</td>\n",
       "      <td>IjZ33sJrzXqU-0X6U8NwyA</td>\n",
       "      <td>5</td>\n",
       "      <td>i have no idea why some people give bad review...</td>\n",
       "      <td>review</td>\n",
       "      <td>0a2KyEL0d3Yb1V6aivbIuQ</td>\n",
       "      <td>0</td>\n",
       "      <td>0</td>\n",
       "      <td>0</td>\n",
       "    </tr>\n",
       "    <tr>\n",
       "      <th>2</th>\n",
       "      <td>_1QQZuf4zZOyFCvXc0o6Vg</td>\n",
       "      <td>2010-05-27</td>\n",
       "      <td>G-WvGaISbqqaMHlNnByodA</td>\n",
       "      <td>5</td>\n",
       "      <td>rosie dakota and i love chaparral dog park its...</td>\n",
       "      <td>review</td>\n",
       "      <td>uZetl9T0NcROGOyFfughhg</td>\n",
       "      <td>1</td>\n",
       "      <td>2</td>\n",
       "      <td>0</td>\n",
       "    </tr>\n",
       "    <tr>\n",
       "      <th>3</th>\n",
       "      <td>6ozycU1RpktNG2-1BroVtw</td>\n",
       "      <td>2012-01-05</td>\n",
       "      <td>1uJFq2r5QfJG_6ExMRCaGw</td>\n",
       "      <td>5</td>\n",
       "      <td>general manager scott petello is a good egg no...</td>\n",
       "      <td>review</td>\n",
       "      <td>vYmM4KTsC8ZfQBg-j5MWkw</td>\n",
       "      <td>0</td>\n",
       "      <td>0</td>\n",
       "      <td>0</td>\n",
       "    </tr>\n",
       "    <tr>\n",
       "      <th>4</th>\n",
       "      <td>zp713qNhx8d9KCJJnrw1xA</td>\n",
       "      <td>2010-02-12</td>\n",
       "      <td>riFQ3vxNpP4rWLk_CSri2A</td>\n",
       "      <td>5</td>\n",
       "      <td>drop what youre doing and drive here after i a...</td>\n",
       "      <td>review</td>\n",
       "      <td>wFweIWhv2fREZV_dYkz_1g</td>\n",
       "      <td>7</td>\n",
       "      <td>7</td>\n",
       "      <td>4</td>\n",
       "    </tr>\n",
       "    <tr>\n",
       "      <th>...</th>\n",
       "      <td>...</td>\n",
       "      <td>...</td>\n",
       "      <td>...</td>\n",
       "      <td>...</td>\n",
       "      <td>...</td>\n",
       "      <td>...</td>\n",
       "      <td>...</td>\n",
       "      <td>...</td>\n",
       "      <td>...</td>\n",
       "      <td>...</td>\n",
       "    </tr>\n",
       "    <tr>\n",
       "      <th>4081</th>\n",
       "      <td>R8VwdLyvsp9iybNqRvm94g</td>\n",
       "      <td>2011-10-03</td>\n",
       "      <td>pcEeHdAJPoFNF23es0kKWg</td>\n",
       "      <td>5</td>\n",
       "      <td>yes i do rock the hipster joints  i dig this p...</td>\n",
       "      <td>review</td>\n",
       "      <td>b92Y3tyWTQQZ5FLifex62Q</td>\n",
       "      <td>1</td>\n",
       "      <td>1</td>\n",
       "      <td>1</td>\n",
       "    </tr>\n",
       "    <tr>\n",
       "      <th>4082</th>\n",
       "      <td>WJ5mq4EiWYAA4Vif0xDfdg</td>\n",
       "      <td>2011-12-05</td>\n",
       "      <td>EuHX-39FR7tyyG1ElvN1Jw</td>\n",
       "      <td>5</td>\n",
       "      <td>only  stars a few notes the folks that rated t...</td>\n",
       "      <td>review</td>\n",
       "      <td>hTau-iNZFwoNsPCaiIUTEA</td>\n",
       "      <td>1</td>\n",
       "      <td>1</td>\n",
       "      <td>0</td>\n",
       "    </tr>\n",
       "    <tr>\n",
       "      <th>4083</th>\n",
       "      <td>f96lWMIAUhYIYy9gOktivQ</td>\n",
       "      <td>2009-03-10</td>\n",
       "      <td>YF17z7HWlMj6aezZc-pVEw</td>\n",
       "      <td>5</td>\n",
       "      <td>im not normally one to jump at reviewing a cha...</td>\n",
       "      <td>review</td>\n",
       "      <td>W_QXYA7A0IhMrvbckz7eVg</td>\n",
       "      <td>2</td>\n",
       "      <td>3</td>\n",
       "      <td>2</td>\n",
       "    </tr>\n",
       "    <tr>\n",
       "      <th>4084</th>\n",
       "      <td>L3BSpFvxcNf3T_teitgt6A</td>\n",
       "      <td>2012-03-19</td>\n",
       "      <td>0nxb1gIGFgk3WbC5zwhKZg</td>\n",
       "      <td>5</td>\n",
       "      <td>lets seewhat is there not to like about surpri...</td>\n",
       "      <td>review</td>\n",
       "      <td>OzOZv-Knlw3oz9K5Kh5S6A</td>\n",
       "      <td>1</td>\n",
       "      <td>2</td>\n",
       "      <td>1</td>\n",
       "    </tr>\n",
       "    <tr>\n",
       "      <th>4085</th>\n",
       "      <td>pF7uRzygyZsltbmVpjIyvw</td>\n",
       "      <td>2010-10-16</td>\n",
       "      <td>vWSmOhg2ID1MNZHaWapGbA</td>\n",
       "      <td>5</td>\n",
       "      <td>locations all  star average i think arizona r...</td>\n",
       "      <td>review</td>\n",
       "      <td>KSBFytcdjPKZgXKQnYQdkA</td>\n",
       "      <td>0</td>\n",
       "      <td>0</td>\n",
       "      <td>0</td>\n",
       "    </tr>\n",
       "  </tbody>\n",
       "</table>\n",
       "<p>4086 rows × 10 columns</p>\n",
       "</div>"
      ],
      "text/plain": [
       "                 business_id        date               review_id  stars  \\\n",
       "0     9yKzy9PApeiPPOUJEtnvkg  2011-01-26  fWKvX83p0-ka4JS3dc6E5A      5   \n",
       "1     ZRJwVLyzEJq1VAihDhYiow  2011-07-27  IjZ33sJrzXqU-0X6U8NwyA      5   \n",
       "2     _1QQZuf4zZOyFCvXc0o6Vg  2010-05-27  G-WvGaISbqqaMHlNnByodA      5   \n",
       "3     6ozycU1RpktNG2-1BroVtw  2012-01-05  1uJFq2r5QfJG_6ExMRCaGw      5   \n",
       "4     zp713qNhx8d9KCJJnrw1xA  2010-02-12  riFQ3vxNpP4rWLk_CSri2A      5   \n",
       "...                      ...         ...                     ...    ...   \n",
       "4081  R8VwdLyvsp9iybNqRvm94g  2011-10-03  pcEeHdAJPoFNF23es0kKWg      5   \n",
       "4082  WJ5mq4EiWYAA4Vif0xDfdg  2011-12-05  EuHX-39FR7tyyG1ElvN1Jw      5   \n",
       "4083  f96lWMIAUhYIYy9gOktivQ  2009-03-10  YF17z7HWlMj6aezZc-pVEw      5   \n",
       "4084  L3BSpFvxcNf3T_teitgt6A  2012-03-19  0nxb1gIGFgk3WbC5zwhKZg      5   \n",
       "4085  pF7uRzygyZsltbmVpjIyvw  2010-10-16  vWSmOhg2ID1MNZHaWapGbA      5   \n",
       "\n",
       "                                                   text    type  \\\n",
       "0     my wife took me here on my birthday for breakf...  review   \n",
       "1     i have no idea why some people give bad review...  review   \n",
       "2     rosie dakota and i love chaparral dog park its...  review   \n",
       "3     general manager scott petello is a good egg no...  review   \n",
       "4     drop what youre doing and drive here after i a...  review   \n",
       "...                                                 ...     ...   \n",
       "4081  yes i do rock the hipster joints  i dig this p...  review   \n",
       "4082  only  stars a few notes the folks that rated t...  review   \n",
       "4083  im not normally one to jump at reviewing a cha...  review   \n",
       "4084  lets seewhat is there not to like about surpri...  review   \n",
       "4085   locations all  star average i think arizona r...  review   \n",
       "\n",
       "                     user_id  cool  useful  funny  \n",
       "0     rLtl8ZkDX5vH5nAx9C3q5Q     2       5      0  \n",
       "1     0a2KyEL0d3Yb1V6aivbIuQ     0       0      0  \n",
       "2     uZetl9T0NcROGOyFfughhg     1       2      0  \n",
       "3     vYmM4KTsC8ZfQBg-j5MWkw     0       0      0  \n",
       "4     wFweIWhv2fREZV_dYkz_1g     7       7      4  \n",
       "...                      ...   ...     ...    ...  \n",
       "4081  b92Y3tyWTQQZ5FLifex62Q     1       1      1  \n",
       "4082  hTau-iNZFwoNsPCaiIUTEA     1       1      0  \n",
       "4083  W_QXYA7A0IhMrvbckz7eVg     2       3      2  \n",
       "4084  OzOZv-Knlw3oz9K5Kh5S6A     1       2      1  \n",
       "4085  KSBFytcdjPKZgXKQnYQdkA     0       0      0  \n",
       "\n",
       "[4086 rows x 10 columns]"
      ]
     },
     "execution_count": 138,
     "metadata": {},
     "output_type": "execute_result"
    }
   ],
   "source": [
    "ybw"
   ]
  },
  {
   "cell_type": "code",
   "execution_count": 141,
   "id": "788934ea-bf0f-4537-a708-943866935adc",
   "metadata": {},
   "outputs": [],
   "source": [
    "x=ybw[['text']]\n",
    "y=ybw[['stars']]"
   ]
  },
  {
   "cell_type": "code",
   "execution_count": 142,
   "id": "7badb5c3-33ec-46cc-a9d1-198506aa8f47",
   "metadata": {},
   "outputs": [
    {
     "data": {
      "text/html": [
       "<div>\n",
       "<style scoped>\n",
       "    .dataframe tbody tr th:only-of-type {\n",
       "        vertical-align: middle;\n",
       "    }\n",
       "\n",
       "    .dataframe tbody tr th {\n",
       "        vertical-align: top;\n",
       "    }\n",
       "\n",
       "    .dataframe thead th {\n",
       "        text-align: right;\n",
       "    }\n",
       "</style>\n",
       "<table border=\"1\" class=\"dataframe\">\n",
       "  <thead>\n",
       "    <tr style=\"text-align: right;\">\n",
       "      <th></th>\n",
       "      <th>text</th>\n",
       "    </tr>\n",
       "  </thead>\n",
       "  <tbody>\n",
       "    <tr>\n",
       "      <th>0</th>\n",
       "      <td>my wife took me here on my birthday for breakf...</td>\n",
       "    </tr>\n",
       "    <tr>\n",
       "      <th>1</th>\n",
       "      <td>i have no idea why some people give bad review...</td>\n",
       "    </tr>\n",
       "    <tr>\n",
       "      <th>2</th>\n",
       "      <td>rosie dakota and i love chaparral dog park its...</td>\n",
       "    </tr>\n",
       "    <tr>\n",
       "      <th>3</th>\n",
       "      <td>general manager scott petello is a good egg no...</td>\n",
       "    </tr>\n",
       "    <tr>\n",
       "      <th>4</th>\n",
       "      <td>drop what youre doing and drive here after i a...</td>\n",
       "    </tr>\n",
       "  </tbody>\n",
       "</table>\n",
       "</div>"
      ],
      "text/plain": [
       "                                                text\n",
       "0  my wife took me here on my birthday for breakf...\n",
       "1  i have no idea why some people give bad review...\n",
       "2  rosie dakota and i love chaparral dog park its...\n",
       "3  general manager scott petello is a good egg no...\n",
       "4  drop what youre doing and drive here after i a..."
      ]
     },
     "execution_count": 142,
     "metadata": {},
     "output_type": "execute_result"
    }
   ],
   "source": [
    "x.head()"
   ]
  },
  {
   "cell_type": "code",
   "execution_count": 143,
   "id": "527c5955-a999-4bb6-92de-38663b91e8f3",
   "metadata": {},
   "outputs": [
    {
     "data": {
      "text/html": [
       "<div>\n",
       "<style scoped>\n",
       "    .dataframe tbody tr th:only-of-type {\n",
       "        vertical-align: middle;\n",
       "    }\n",
       "\n",
       "    .dataframe tbody tr th {\n",
       "        vertical-align: top;\n",
       "    }\n",
       "\n",
       "    .dataframe thead th {\n",
       "        text-align: right;\n",
       "    }\n",
       "</style>\n",
       "<table border=\"1\" class=\"dataframe\">\n",
       "  <thead>\n",
       "    <tr style=\"text-align: right;\">\n",
       "      <th></th>\n",
       "      <th>stars</th>\n",
       "    </tr>\n",
       "  </thead>\n",
       "  <tbody>\n",
       "    <tr>\n",
       "      <th>0</th>\n",
       "      <td>5</td>\n",
       "    </tr>\n",
       "    <tr>\n",
       "      <th>1</th>\n",
       "      <td>5</td>\n",
       "    </tr>\n",
       "    <tr>\n",
       "      <th>2</th>\n",
       "      <td>5</td>\n",
       "    </tr>\n",
       "    <tr>\n",
       "      <th>3</th>\n",
       "      <td>5</td>\n",
       "    </tr>\n",
       "    <tr>\n",
       "      <th>4</th>\n",
       "      <td>5</td>\n",
       "    </tr>\n",
       "  </tbody>\n",
       "</table>\n",
       "</div>"
      ],
      "text/plain": [
       "   stars\n",
       "0      5\n",
       "1      5\n",
       "2      5\n",
       "3      5\n",
       "4      5"
      ]
     },
     "execution_count": 143,
     "metadata": {},
     "output_type": "execute_result"
    }
   ],
   "source": [
    "y.head()"
   ]
  },
  {
   "cell_type": "code",
   "execution_count": 147,
   "id": "e2ab0888-553a-491d-8d79-a3d7606a4d62",
   "metadata": {},
   "outputs": [],
   "source": [
    "from sklearn.tree import DecisionTreeClassifier\n",
    "from sklearn.model_selection import train_test_split\n",
    "from sklearn.metrics import accuracy_score"
   ]
  },
  {
   "cell_type": "code",
   "execution_count": 148,
   "id": "99b54b68-93fa-46e7-8c7c-5e0775923611",
   "metadata": {},
   "outputs": [],
   "source": [
    "def ekkok(text):\n",
    "    words=TextBlob(text).words\n",
    "    return [word.lemmatize() for word in words]"
   ]
  },
  {
   "cell_type": "code",
   "execution_count": 169,
   "id": "59c3c1a8-2666-48f8-8ec1-0c798577a204",
   "metadata": {},
   "outputs": [],
   "source": [
    "vect=CountVectorizer(analyzer=ekkok,stop_words='english',ngram_range=(1,3))"
   ]
  },
  {
   "cell_type": "code",
   "execution_count": 170,
   "id": "f8e26ae1-30b4-425a-8f3b-72856cb8f191",
   "metadata": {},
   "outputs": [
    {
     "name": "stderr",
     "output_type": "stream",
     "text": [
      "C:\\ProgramData\\anaconda3\\Lib\\site-packages\\sklearn\\feature_extraction\\text.py:533: UserWarning: The parameter 'ngram_range' will not be used since 'analyzer' is callable'\n",
      "  warnings.warn(\n",
      "C:\\ProgramData\\anaconda3\\Lib\\site-packages\\sklearn\\feature_extraction\\text.py:539: UserWarning: The parameter 'stop_words' will not be used since 'analyzer' != 'word'\n",
      "  warnings.warn(\n"
     ]
    }
   ],
   "source": [
    "newx=vect.fit_transform(x['text'])"
   ]
  },
  {
   "cell_type": "code",
   "execution_count": 171,
   "id": "a75860e1-5b71-42f5-990e-bf62180fc7b6",
   "metadata": {},
   "outputs": [],
   "source": [
    "tf=pd.DataFrame(vect.fit_transform(x['text']).toarray(),columns=vect.get_feature_names_out())"
   ]
  },
  {
   "cell_type": "code",
   "execution_count": 172,
   "id": "7ada08c0-9636-434e-b2a5-086b3596ef25",
   "metadata": {},
   "outputs": [
    {
     "data": {
      "text/html": [
       "<div>\n",
       "<style scoped>\n",
       "    .dataframe tbody tr th:only-of-type {\n",
       "        vertical-align: middle;\n",
       "    }\n",
       "\n",
       "    .dataframe tbody tr th {\n",
       "        vertical-align: top;\n",
       "    }\n",
       "\n",
       "    .dataframe thead th {\n",
       "        text-align: right;\n",
       "    }\n",
       "</style>\n",
       "<table border=\"1\" class=\"dataframe\">\n",
       "  <thead>\n",
       "    <tr style=\"text-align: right;\">\n",
       "      <th></th>\n",
       "      <th>a</th>\n",
       "      <th>aa</th>\n",
       "      <th>aaa</th>\n",
       "      <th>aaaamazingthey</th>\n",
       "      <th>aaammmazzingits</th>\n",
       "      <th>aaron</th>\n",
       "      <th>aathis</th>\n",
       "      <th>ab</th>\n",
       "      <th>aback</th>\n",
       "      <th>abandoned</th>\n",
       "      <th>...</th>\n",
       "      <th>zuchinni</th>\n",
       "      <th>zumba</th>\n",
       "      <th>zupa</th>\n",
       "      <th>zupas</th>\n",
       "      <th>zuzu</th>\n",
       "      <th>zuzus</th>\n",
       "      <th>zwiebelkräuter</th>\n",
       "      <th>éclairs</th>\n",
       "      <th>école</th>\n",
       "      <th>ém</th>\n",
       "    </tr>\n",
       "  </thead>\n",
       "  <tbody>\n",
       "    <tr>\n",
       "      <th>0</th>\n",
       "      <td>1</td>\n",
       "      <td>0</td>\n",
       "      <td>0</td>\n",
       "      <td>0</td>\n",
       "      <td>0</td>\n",
       "      <td>0</td>\n",
       "      <td>0</td>\n",
       "      <td>0</td>\n",
       "      <td>0</td>\n",
       "      <td>0</td>\n",
       "      <td>...</td>\n",
       "      <td>0</td>\n",
       "      <td>0</td>\n",
       "      <td>0</td>\n",
       "      <td>0</td>\n",
       "      <td>0</td>\n",
       "      <td>0</td>\n",
       "      <td>0</td>\n",
       "      <td>0</td>\n",
       "      <td>0</td>\n",
       "      <td>0</td>\n",
       "    </tr>\n",
       "    <tr>\n",
       "      <th>1</th>\n",
       "      <td>4</td>\n",
       "      <td>0</td>\n",
       "      <td>0</td>\n",
       "      <td>0</td>\n",
       "      <td>0</td>\n",
       "      <td>0</td>\n",
       "      <td>0</td>\n",
       "      <td>0</td>\n",
       "      <td>0</td>\n",
       "      <td>0</td>\n",
       "      <td>...</td>\n",
       "      <td>0</td>\n",
       "      <td>0</td>\n",
       "      <td>0</td>\n",
       "      <td>0</td>\n",
       "      <td>0</td>\n",
       "      <td>0</td>\n",
       "      <td>0</td>\n",
       "      <td>0</td>\n",
       "      <td>0</td>\n",
       "      <td>0</td>\n",
       "    </tr>\n",
       "    <tr>\n",
       "      <th>2</th>\n",
       "      <td>4</td>\n",
       "      <td>0</td>\n",
       "      <td>0</td>\n",
       "      <td>0</td>\n",
       "      <td>0</td>\n",
       "      <td>0</td>\n",
       "      <td>0</td>\n",
       "      <td>0</td>\n",
       "      <td>0</td>\n",
       "      <td>0</td>\n",
       "      <td>...</td>\n",
       "      <td>0</td>\n",
       "      <td>0</td>\n",
       "      <td>0</td>\n",
       "      <td>0</td>\n",
       "      <td>0</td>\n",
       "      <td>0</td>\n",
       "      <td>0</td>\n",
       "      <td>0</td>\n",
       "      <td>0</td>\n",
       "      <td>0</td>\n",
       "    </tr>\n",
       "    <tr>\n",
       "      <th>3</th>\n",
       "      <td>4</td>\n",
       "      <td>0</td>\n",
       "      <td>0</td>\n",
       "      <td>0</td>\n",
       "      <td>0</td>\n",
       "      <td>0</td>\n",
       "      <td>0</td>\n",
       "      <td>0</td>\n",
       "      <td>0</td>\n",
       "      <td>0</td>\n",
       "      <td>...</td>\n",
       "      <td>0</td>\n",
       "      <td>0</td>\n",
       "      <td>0</td>\n",
       "      <td>0</td>\n",
       "      <td>0</td>\n",
       "      <td>0</td>\n",
       "      <td>0</td>\n",
       "      <td>0</td>\n",
       "      <td>0</td>\n",
       "      <td>0</td>\n",
       "    </tr>\n",
       "    <tr>\n",
       "      <th>4</th>\n",
       "      <td>6</td>\n",
       "      <td>0</td>\n",
       "      <td>0</td>\n",
       "      <td>0</td>\n",
       "      <td>0</td>\n",
       "      <td>0</td>\n",
       "      <td>0</td>\n",
       "      <td>0</td>\n",
       "      <td>0</td>\n",
       "      <td>0</td>\n",
       "      <td>...</td>\n",
       "      <td>0</td>\n",
       "      <td>0</td>\n",
       "      <td>0</td>\n",
       "      <td>0</td>\n",
       "      <td>0</td>\n",
       "      <td>0</td>\n",
       "      <td>0</td>\n",
       "      <td>0</td>\n",
       "      <td>0</td>\n",
       "      <td>0</td>\n",
       "    </tr>\n",
       "    <tr>\n",
       "      <th>...</th>\n",
       "      <td>...</td>\n",
       "      <td>...</td>\n",
       "      <td>...</td>\n",
       "      <td>...</td>\n",
       "      <td>...</td>\n",
       "      <td>...</td>\n",
       "      <td>...</td>\n",
       "      <td>...</td>\n",
       "      <td>...</td>\n",
       "      <td>...</td>\n",
       "      <td>...</td>\n",
       "      <td>...</td>\n",
       "      <td>...</td>\n",
       "      <td>...</td>\n",
       "      <td>...</td>\n",
       "      <td>...</td>\n",
       "      <td>...</td>\n",
       "      <td>...</td>\n",
       "      <td>...</td>\n",
       "      <td>...</td>\n",
       "      <td>...</td>\n",
       "    </tr>\n",
       "    <tr>\n",
       "      <th>4081</th>\n",
       "      <td>3</td>\n",
       "      <td>0</td>\n",
       "      <td>0</td>\n",
       "      <td>0</td>\n",
       "      <td>0</td>\n",
       "      <td>0</td>\n",
       "      <td>0</td>\n",
       "      <td>0</td>\n",
       "      <td>0</td>\n",
       "      <td>0</td>\n",
       "      <td>...</td>\n",
       "      <td>0</td>\n",
       "      <td>0</td>\n",
       "      <td>0</td>\n",
       "      <td>0</td>\n",
       "      <td>0</td>\n",
       "      <td>0</td>\n",
       "      <td>0</td>\n",
       "      <td>0</td>\n",
       "      <td>0</td>\n",
       "      <td>0</td>\n",
       "    </tr>\n",
       "    <tr>\n",
       "      <th>4082</th>\n",
       "      <td>9</td>\n",
       "      <td>0</td>\n",
       "      <td>0</td>\n",
       "      <td>0</td>\n",
       "      <td>0</td>\n",
       "      <td>0</td>\n",
       "      <td>0</td>\n",
       "      <td>0</td>\n",
       "      <td>0</td>\n",
       "      <td>0</td>\n",
       "      <td>...</td>\n",
       "      <td>0</td>\n",
       "      <td>0</td>\n",
       "      <td>0</td>\n",
       "      <td>0</td>\n",
       "      <td>0</td>\n",
       "      <td>0</td>\n",
       "      <td>0</td>\n",
       "      <td>0</td>\n",
       "      <td>0</td>\n",
       "      <td>0</td>\n",
       "    </tr>\n",
       "    <tr>\n",
       "      <th>4083</th>\n",
       "      <td>7</td>\n",
       "      <td>0</td>\n",
       "      <td>0</td>\n",
       "      <td>0</td>\n",
       "      <td>0</td>\n",
       "      <td>0</td>\n",
       "      <td>0</td>\n",
       "      <td>0</td>\n",
       "      <td>0</td>\n",
       "      <td>0</td>\n",
       "      <td>...</td>\n",
       "      <td>0</td>\n",
       "      <td>0</td>\n",
       "      <td>0</td>\n",
       "      <td>0</td>\n",
       "      <td>0</td>\n",
       "      <td>0</td>\n",
       "      <td>0</td>\n",
       "      <td>0</td>\n",
       "      <td>0</td>\n",
       "      <td>0</td>\n",
       "    </tr>\n",
       "    <tr>\n",
       "      <th>4084</th>\n",
       "      <td>11</td>\n",
       "      <td>0</td>\n",
       "      <td>0</td>\n",
       "      <td>0</td>\n",
       "      <td>0</td>\n",
       "      <td>0</td>\n",
       "      <td>0</td>\n",
       "      <td>0</td>\n",
       "      <td>0</td>\n",
       "      <td>0</td>\n",
       "      <td>...</td>\n",
       "      <td>0</td>\n",
       "      <td>0</td>\n",
       "      <td>0</td>\n",
       "      <td>0</td>\n",
       "      <td>0</td>\n",
       "      <td>0</td>\n",
       "      <td>0</td>\n",
       "      <td>0</td>\n",
       "      <td>0</td>\n",
       "      <td>0</td>\n",
       "    </tr>\n",
       "    <tr>\n",
       "      <th>4085</th>\n",
       "      <td>2</td>\n",
       "      <td>0</td>\n",
       "      <td>0</td>\n",
       "      <td>0</td>\n",
       "      <td>0</td>\n",
       "      <td>0</td>\n",
       "      <td>0</td>\n",
       "      <td>0</td>\n",
       "      <td>0</td>\n",
       "      <td>0</td>\n",
       "      <td>...</td>\n",
       "      <td>0</td>\n",
       "      <td>0</td>\n",
       "      <td>0</td>\n",
       "      <td>0</td>\n",
       "      <td>0</td>\n",
       "      <td>0</td>\n",
       "      <td>0</td>\n",
       "      <td>0</td>\n",
       "      <td>0</td>\n",
       "      <td>0</td>\n",
       "    </tr>\n",
       "  </tbody>\n",
       "</table>\n",
       "<p>4086 rows × 22548 columns</p>\n",
       "</div>"
      ],
      "text/plain": [
       "       a  aa  aaa  aaaamazingthey  aaammmazzingits  aaron  aathis  ab  aback  \\\n",
       "0      1   0    0               0                0      0       0   0      0   \n",
       "1      4   0    0               0                0      0       0   0      0   \n",
       "2      4   0    0               0                0      0       0   0      0   \n",
       "3      4   0    0               0                0      0       0   0      0   \n",
       "4      6   0    0               0                0      0       0   0      0   \n",
       "...   ..  ..  ...             ...              ...    ...     ...  ..    ...   \n",
       "4081   3   0    0               0                0      0       0   0      0   \n",
       "4082   9   0    0               0                0      0       0   0      0   \n",
       "4083   7   0    0               0                0      0       0   0      0   \n",
       "4084  11   0    0               0                0      0       0   0      0   \n",
       "4085   2   0    0               0                0      0       0   0      0   \n",
       "\n",
       "      abandoned  ...  zuchinni  zumba  zupa  zupas  zuzu  zuzus  \\\n",
       "0             0  ...         0      0     0      0     0      0   \n",
       "1             0  ...         0      0     0      0     0      0   \n",
       "2             0  ...         0      0     0      0     0      0   \n",
       "3             0  ...         0      0     0      0     0      0   \n",
       "4             0  ...         0      0     0      0     0      0   \n",
       "...         ...  ...       ...    ...   ...    ...   ...    ...   \n",
       "4081          0  ...         0      0     0      0     0      0   \n",
       "4082          0  ...         0      0     0      0     0      0   \n",
       "4083          0  ...         0      0     0      0     0      0   \n",
       "4084          0  ...         0      0     0      0     0      0   \n",
       "4085          0  ...         0      0     0      0     0      0   \n",
       "\n",
       "      zwiebelkräuter  éclairs  école  ém  \n",
       "0                  0        0      0   0  \n",
       "1                  0        0      0   0  \n",
       "2                  0        0      0   0  \n",
       "3                  0        0      0   0  \n",
       "4                  0        0      0   0  \n",
       "...              ...      ...    ...  ..  \n",
       "4081               0        0      0   0  \n",
       "4082               0        0      0   0  \n",
       "4083               0        0      0   0  \n",
       "4084               0        0      0   0  \n",
       "4085               0        0      0   0  \n",
       "\n",
       "[4086 rows x 22548 columns]"
      ]
     },
     "execution_count": 172,
     "metadata": {},
     "output_type": "execute_result"
    }
   ],
   "source": [
    "tf"
   ]
  },
  {
   "cell_type": "code",
   "execution_count": 173,
   "id": "10613143-f85a-419c-96bb-49c047ed7d0d",
   "metadata": {},
   "outputs": [
    {
     "data": {
      "text/plain": [
       "(4086, 22548)"
      ]
     },
     "execution_count": 173,
     "metadata": {},
     "output_type": "execute_result"
    }
   ],
   "source": [
    "tf.shape"
   ]
  },
  {
   "cell_type": "code",
   "execution_count": 174,
   "id": "b4231f4a-939d-4dcc-9990-da3703e9c7f4",
   "metadata": {},
   "outputs": [],
   "source": [
    "x_train,x_test, y_train,y_test=train_test_split(newx,y, random_state=42, test_size=.20)"
   ]
  },
  {
   "cell_type": "code",
   "execution_count": 175,
   "id": "bdc3923b-93f5-48e7-bfd6-3d10635efd9d",
   "metadata": {},
   "outputs": [],
   "source": [
    "dt=DecisionTreeClassifier()"
   ]
  },
  {
   "cell_type": "code",
   "execution_count": 176,
   "id": "a37f06ba-dbc1-4cd6-bf62-8836df8d5208",
   "metadata": {},
   "outputs": [],
   "source": [
    "model=dt.fit(x_train,y_train)"
   ]
  },
  {
   "cell_type": "code",
   "execution_count": 177,
   "id": "62ba6205-86b7-49ed-9ce2-a92b922a54d7",
   "metadata": {},
   "outputs": [],
   "source": [
    "tahmin=model.predict(x_test)"
   ]
  },
  {
   "cell_type": "code",
   "execution_count": 178,
   "id": "2d397c2b-07f6-447f-ac9a-e87cdf451111",
   "metadata": {},
   "outputs": [
    {
     "data": {
      "text/plain": [
       "0.8410757946210269"
      ]
     },
     "execution_count": 178,
     "metadata": {},
     "output_type": "execute_result"
    }
   ],
   "source": [
    "accuracy_score(y_test, tahmin)"
   ]
  },
  {
   "cell_type": "code",
   "execution_count": null,
   "id": "baa44348-1e81-49bf-8747-3782f91fbc07",
   "metadata": {},
   "outputs": [],
   "source": [
    "# accuracy_score dusuk geldigi icin GradientBoostingClassifier deneyelim"
   ]
  },
  {
   "cell_type": "code",
   "execution_count": 180,
   "id": "88fccf52-8c05-4a12-95ca-6d6ad9c93597",
   "metadata": {},
   "outputs": [],
   "source": [
    "from sklearn.ensemble import GradientBoostingClassifier"
   ]
  },
  {
   "cell_type": "code",
   "execution_count": 181,
   "id": "58c9a337-3bfc-4779-aba7-4aabbd9ee2a2",
   "metadata": {},
   "outputs": [],
   "source": [
    "g=GradientBoostingClassifier()"
   ]
  },
  {
   "cell_type": "code",
   "execution_count": 182,
   "id": "cb0e142c-ea82-4be2-9530-8aef8e39c197",
   "metadata": {},
   "outputs": [
    {
     "name": "stderr",
     "output_type": "stream",
     "text": [
      "C:\\ProgramData\\anaconda3\\Lib\\site-packages\\sklearn\\preprocessing\\_label.py:110: DataConversionWarning: A column-vector y was passed when a 1d array was expected. Please change the shape of y to (n_samples, ), for example using ravel().\n",
      "  y = column_or_1d(y, warn=True)\n"
     ]
    },
    {
     "data": {
      "text/html": [
       "<style>#sk-container-id-1 {\n",
       "  /* Definition of color scheme common for light and dark mode */\n",
       "  --sklearn-color-text: #000;\n",
       "  --sklearn-color-text-muted: #666;\n",
       "  --sklearn-color-line: gray;\n",
       "  /* Definition of color scheme for unfitted estimators */\n",
       "  --sklearn-color-unfitted-level-0: #fff5e6;\n",
       "  --sklearn-color-unfitted-level-1: #f6e4d2;\n",
       "  --sklearn-color-unfitted-level-2: #ffe0b3;\n",
       "  --sklearn-color-unfitted-level-3: chocolate;\n",
       "  /* Definition of color scheme for fitted estimators */\n",
       "  --sklearn-color-fitted-level-0: #f0f8ff;\n",
       "  --sklearn-color-fitted-level-1: #d4ebff;\n",
       "  --sklearn-color-fitted-level-2: #b3dbfd;\n",
       "  --sklearn-color-fitted-level-3: cornflowerblue;\n",
       "\n",
       "  /* Specific color for light theme */\n",
       "  --sklearn-color-text-on-default-background: var(--sg-text-color, var(--theme-code-foreground, var(--jp-content-font-color1, black)));\n",
       "  --sklearn-color-background: var(--sg-background-color, var(--theme-background, var(--jp-layout-color0, white)));\n",
       "  --sklearn-color-border-box: var(--sg-text-color, var(--theme-code-foreground, var(--jp-content-font-color1, black)));\n",
       "  --sklearn-color-icon: #696969;\n",
       "\n",
       "  @media (prefers-color-scheme: dark) {\n",
       "    /* Redefinition of color scheme for dark theme */\n",
       "    --sklearn-color-text-on-default-background: var(--sg-text-color, var(--theme-code-foreground, var(--jp-content-font-color1, white)));\n",
       "    --sklearn-color-background: var(--sg-background-color, var(--theme-background, var(--jp-layout-color0, #111)));\n",
       "    --sklearn-color-border-box: var(--sg-text-color, var(--theme-code-foreground, var(--jp-content-font-color1, white)));\n",
       "    --sklearn-color-icon: #878787;\n",
       "  }\n",
       "}\n",
       "\n",
       "#sk-container-id-1 {\n",
       "  color: var(--sklearn-color-text);\n",
       "}\n",
       "\n",
       "#sk-container-id-1 pre {\n",
       "  padding: 0;\n",
       "}\n",
       "\n",
       "#sk-container-id-1 input.sk-hidden--visually {\n",
       "  border: 0;\n",
       "  clip: rect(1px 1px 1px 1px);\n",
       "  clip: rect(1px, 1px, 1px, 1px);\n",
       "  height: 1px;\n",
       "  margin: -1px;\n",
       "  overflow: hidden;\n",
       "  padding: 0;\n",
       "  position: absolute;\n",
       "  width: 1px;\n",
       "}\n",
       "\n",
       "#sk-container-id-1 div.sk-dashed-wrapped {\n",
       "  border: 1px dashed var(--sklearn-color-line);\n",
       "  margin: 0 0.4em 0.5em 0.4em;\n",
       "  box-sizing: border-box;\n",
       "  padding-bottom: 0.4em;\n",
       "  background-color: var(--sklearn-color-background);\n",
       "}\n",
       "\n",
       "#sk-container-id-1 div.sk-container {\n",
       "  /* jupyter's `normalize.less` sets `[hidden] { display: none; }`\n",
       "     but bootstrap.min.css set `[hidden] { display: none !important; }`\n",
       "     so we also need the `!important` here to be able to override the\n",
       "     default hidden behavior on the sphinx rendered scikit-learn.org.\n",
       "     See: https://github.com/scikit-learn/scikit-learn/issues/21755 */\n",
       "  display: inline-block !important;\n",
       "  position: relative;\n",
       "}\n",
       "\n",
       "#sk-container-id-1 div.sk-text-repr-fallback {\n",
       "  display: none;\n",
       "}\n",
       "\n",
       "div.sk-parallel-item,\n",
       "div.sk-serial,\n",
       "div.sk-item {\n",
       "  /* draw centered vertical line to link estimators */\n",
       "  background-image: linear-gradient(var(--sklearn-color-text-on-default-background), var(--sklearn-color-text-on-default-background));\n",
       "  background-size: 2px 100%;\n",
       "  background-repeat: no-repeat;\n",
       "  background-position: center center;\n",
       "}\n",
       "\n",
       "/* Parallel-specific style estimator block */\n",
       "\n",
       "#sk-container-id-1 div.sk-parallel-item::after {\n",
       "  content: \"\";\n",
       "  width: 100%;\n",
       "  border-bottom: 2px solid var(--sklearn-color-text-on-default-background);\n",
       "  flex-grow: 1;\n",
       "}\n",
       "\n",
       "#sk-container-id-1 div.sk-parallel {\n",
       "  display: flex;\n",
       "  align-items: stretch;\n",
       "  justify-content: center;\n",
       "  background-color: var(--sklearn-color-background);\n",
       "  position: relative;\n",
       "}\n",
       "\n",
       "#sk-container-id-1 div.sk-parallel-item {\n",
       "  display: flex;\n",
       "  flex-direction: column;\n",
       "}\n",
       "\n",
       "#sk-container-id-1 div.sk-parallel-item:first-child::after {\n",
       "  align-self: flex-end;\n",
       "  width: 50%;\n",
       "}\n",
       "\n",
       "#sk-container-id-1 div.sk-parallel-item:last-child::after {\n",
       "  align-self: flex-start;\n",
       "  width: 50%;\n",
       "}\n",
       "\n",
       "#sk-container-id-1 div.sk-parallel-item:only-child::after {\n",
       "  width: 0;\n",
       "}\n",
       "\n",
       "/* Serial-specific style estimator block */\n",
       "\n",
       "#sk-container-id-1 div.sk-serial {\n",
       "  display: flex;\n",
       "  flex-direction: column;\n",
       "  align-items: center;\n",
       "  background-color: var(--sklearn-color-background);\n",
       "  padding-right: 1em;\n",
       "  padding-left: 1em;\n",
       "}\n",
       "\n",
       "\n",
       "/* Toggleable style: style used for estimator/Pipeline/ColumnTransformer box that is\n",
       "clickable and can be expanded/collapsed.\n",
       "- Pipeline and ColumnTransformer use this feature and define the default style\n",
       "- Estimators will overwrite some part of the style using the `sk-estimator` class\n",
       "*/\n",
       "\n",
       "/* Pipeline and ColumnTransformer style (default) */\n",
       "\n",
       "#sk-container-id-1 div.sk-toggleable {\n",
       "  /* Default theme specific background. It is overwritten whether we have a\n",
       "  specific estimator or a Pipeline/ColumnTransformer */\n",
       "  background-color: var(--sklearn-color-background);\n",
       "}\n",
       "\n",
       "/* Toggleable label */\n",
       "#sk-container-id-1 label.sk-toggleable__label {\n",
       "  cursor: pointer;\n",
       "  display: flex;\n",
       "  width: 100%;\n",
       "  margin-bottom: 0;\n",
       "  padding: 0.5em;\n",
       "  box-sizing: border-box;\n",
       "  text-align: center;\n",
       "  align-items: start;\n",
       "  justify-content: space-between;\n",
       "  gap: 0.5em;\n",
       "}\n",
       "\n",
       "#sk-container-id-1 label.sk-toggleable__label .caption {\n",
       "  font-size: 0.6rem;\n",
       "  font-weight: lighter;\n",
       "  color: var(--sklearn-color-text-muted);\n",
       "}\n",
       "\n",
       "#sk-container-id-1 label.sk-toggleable__label-arrow:before {\n",
       "  /* Arrow on the left of the label */\n",
       "  content: \"▸\";\n",
       "  float: left;\n",
       "  margin-right: 0.25em;\n",
       "  color: var(--sklearn-color-icon);\n",
       "}\n",
       "\n",
       "#sk-container-id-1 label.sk-toggleable__label-arrow:hover:before {\n",
       "  color: var(--sklearn-color-text);\n",
       "}\n",
       "\n",
       "/* Toggleable content - dropdown */\n",
       "\n",
       "#sk-container-id-1 div.sk-toggleable__content {\n",
       "  max-height: 0;\n",
       "  max-width: 0;\n",
       "  overflow: hidden;\n",
       "  text-align: left;\n",
       "  /* unfitted */\n",
       "  background-color: var(--sklearn-color-unfitted-level-0);\n",
       "}\n",
       "\n",
       "#sk-container-id-1 div.sk-toggleable__content.fitted {\n",
       "  /* fitted */\n",
       "  background-color: var(--sklearn-color-fitted-level-0);\n",
       "}\n",
       "\n",
       "#sk-container-id-1 div.sk-toggleable__content pre {\n",
       "  margin: 0.2em;\n",
       "  border-radius: 0.25em;\n",
       "  color: var(--sklearn-color-text);\n",
       "  /* unfitted */\n",
       "  background-color: var(--sklearn-color-unfitted-level-0);\n",
       "}\n",
       "\n",
       "#sk-container-id-1 div.sk-toggleable__content.fitted pre {\n",
       "  /* unfitted */\n",
       "  background-color: var(--sklearn-color-fitted-level-0);\n",
       "}\n",
       "\n",
       "#sk-container-id-1 input.sk-toggleable__control:checked~div.sk-toggleable__content {\n",
       "  /* Expand drop-down */\n",
       "  max-height: 200px;\n",
       "  max-width: 100%;\n",
       "  overflow: auto;\n",
       "}\n",
       "\n",
       "#sk-container-id-1 input.sk-toggleable__control:checked~label.sk-toggleable__label-arrow:before {\n",
       "  content: \"▾\";\n",
       "}\n",
       "\n",
       "/* Pipeline/ColumnTransformer-specific style */\n",
       "\n",
       "#sk-container-id-1 div.sk-label input.sk-toggleable__control:checked~label.sk-toggleable__label {\n",
       "  color: var(--sklearn-color-text);\n",
       "  background-color: var(--sklearn-color-unfitted-level-2);\n",
       "}\n",
       "\n",
       "#sk-container-id-1 div.sk-label.fitted input.sk-toggleable__control:checked~label.sk-toggleable__label {\n",
       "  background-color: var(--sklearn-color-fitted-level-2);\n",
       "}\n",
       "\n",
       "/* Estimator-specific style */\n",
       "\n",
       "/* Colorize estimator box */\n",
       "#sk-container-id-1 div.sk-estimator input.sk-toggleable__control:checked~label.sk-toggleable__label {\n",
       "  /* unfitted */\n",
       "  background-color: var(--sklearn-color-unfitted-level-2);\n",
       "}\n",
       "\n",
       "#sk-container-id-1 div.sk-estimator.fitted input.sk-toggleable__control:checked~label.sk-toggleable__label {\n",
       "  /* fitted */\n",
       "  background-color: var(--sklearn-color-fitted-level-2);\n",
       "}\n",
       "\n",
       "#sk-container-id-1 div.sk-label label.sk-toggleable__label,\n",
       "#sk-container-id-1 div.sk-label label {\n",
       "  /* The background is the default theme color */\n",
       "  color: var(--sklearn-color-text-on-default-background);\n",
       "}\n",
       "\n",
       "/* On hover, darken the color of the background */\n",
       "#sk-container-id-1 div.sk-label:hover label.sk-toggleable__label {\n",
       "  color: var(--sklearn-color-text);\n",
       "  background-color: var(--sklearn-color-unfitted-level-2);\n",
       "}\n",
       "\n",
       "/* Label box, darken color on hover, fitted */\n",
       "#sk-container-id-1 div.sk-label.fitted:hover label.sk-toggleable__label.fitted {\n",
       "  color: var(--sklearn-color-text);\n",
       "  background-color: var(--sklearn-color-fitted-level-2);\n",
       "}\n",
       "\n",
       "/* Estimator label */\n",
       "\n",
       "#sk-container-id-1 div.sk-label label {\n",
       "  font-family: monospace;\n",
       "  font-weight: bold;\n",
       "  display: inline-block;\n",
       "  line-height: 1.2em;\n",
       "}\n",
       "\n",
       "#sk-container-id-1 div.sk-label-container {\n",
       "  text-align: center;\n",
       "}\n",
       "\n",
       "/* Estimator-specific */\n",
       "#sk-container-id-1 div.sk-estimator {\n",
       "  font-family: monospace;\n",
       "  border: 1px dotted var(--sklearn-color-border-box);\n",
       "  border-radius: 0.25em;\n",
       "  box-sizing: border-box;\n",
       "  margin-bottom: 0.5em;\n",
       "  /* unfitted */\n",
       "  background-color: var(--sklearn-color-unfitted-level-0);\n",
       "}\n",
       "\n",
       "#sk-container-id-1 div.sk-estimator.fitted {\n",
       "  /* fitted */\n",
       "  background-color: var(--sklearn-color-fitted-level-0);\n",
       "}\n",
       "\n",
       "/* on hover */\n",
       "#sk-container-id-1 div.sk-estimator:hover {\n",
       "  /* unfitted */\n",
       "  background-color: var(--sklearn-color-unfitted-level-2);\n",
       "}\n",
       "\n",
       "#sk-container-id-1 div.sk-estimator.fitted:hover {\n",
       "  /* fitted */\n",
       "  background-color: var(--sklearn-color-fitted-level-2);\n",
       "}\n",
       "\n",
       "/* Specification for estimator info (e.g. \"i\" and \"?\") */\n",
       "\n",
       "/* Common style for \"i\" and \"?\" */\n",
       "\n",
       ".sk-estimator-doc-link,\n",
       "a:link.sk-estimator-doc-link,\n",
       "a:visited.sk-estimator-doc-link {\n",
       "  float: right;\n",
       "  font-size: smaller;\n",
       "  line-height: 1em;\n",
       "  font-family: monospace;\n",
       "  background-color: var(--sklearn-color-background);\n",
       "  border-radius: 1em;\n",
       "  height: 1em;\n",
       "  width: 1em;\n",
       "  text-decoration: none !important;\n",
       "  margin-left: 0.5em;\n",
       "  text-align: center;\n",
       "  /* unfitted */\n",
       "  border: var(--sklearn-color-unfitted-level-1) 1pt solid;\n",
       "  color: var(--sklearn-color-unfitted-level-1);\n",
       "}\n",
       "\n",
       ".sk-estimator-doc-link.fitted,\n",
       "a:link.sk-estimator-doc-link.fitted,\n",
       "a:visited.sk-estimator-doc-link.fitted {\n",
       "  /* fitted */\n",
       "  border: var(--sklearn-color-fitted-level-1) 1pt solid;\n",
       "  color: var(--sklearn-color-fitted-level-1);\n",
       "}\n",
       "\n",
       "/* On hover */\n",
       "div.sk-estimator:hover .sk-estimator-doc-link:hover,\n",
       ".sk-estimator-doc-link:hover,\n",
       "div.sk-label-container:hover .sk-estimator-doc-link:hover,\n",
       ".sk-estimator-doc-link:hover {\n",
       "  /* unfitted */\n",
       "  background-color: var(--sklearn-color-unfitted-level-3);\n",
       "  color: var(--sklearn-color-background);\n",
       "  text-decoration: none;\n",
       "}\n",
       "\n",
       "div.sk-estimator.fitted:hover .sk-estimator-doc-link.fitted:hover,\n",
       ".sk-estimator-doc-link.fitted:hover,\n",
       "div.sk-label-container:hover .sk-estimator-doc-link.fitted:hover,\n",
       ".sk-estimator-doc-link.fitted:hover {\n",
       "  /* fitted */\n",
       "  background-color: var(--sklearn-color-fitted-level-3);\n",
       "  color: var(--sklearn-color-background);\n",
       "  text-decoration: none;\n",
       "}\n",
       "\n",
       "/* Span, style for the box shown on hovering the info icon */\n",
       ".sk-estimator-doc-link span {\n",
       "  display: none;\n",
       "  z-index: 9999;\n",
       "  position: relative;\n",
       "  font-weight: normal;\n",
       "  right: .2ex;\n",
       "  padding: .5ex;\n",
       "  margin: .5ex;\n",
       "  width: min-content;\n",
       "  min-width: 20ex;\n",
       "  max-width: 50ex;\n",
       "  color: var(--sklearn-color-text);\n",
       "  box-shadow: 2pt 2pt 4pt #999;\n",
       "  /* unfitted */\n",
       "  background: var(--sklearn-color-unfitted-level-0);\n",
       "  border: .5pt solid var(--sklearn-color-unfitted-level-3);\n",
       "}\n",
       "\n",
       ".sk-estimator-doc-link.fitted span {\n",
       "  /* fitted */\n",
       "  background: var(--sklearn-color-fitted-level-0);\n",
       "  border: var(--sklearn-color-fitted-level-3);\n",
       "}\n",
       "\n",
       ".sk-estimator-doc-link:hover span {\n",
       "  display: block;\n",
       "}\n",
       "\n",
       "/* \"?\"-specific style due to the `<a>` HTML tag */\n",
       "\n",
       "#sk-container-id-1 a.estimator_doc_link {\n",
       "  float: right;\n",
       "  font-size: 1rem;\n",
       "  line-height: 1em;\n",
       "  font-family: monospace;\n",
       "  background-color: var(--sklearn-color-background);\n",
       "  border-radius: 1rem;\n",
       "  height: 1rem;\n",
       "  width: 1rem;\n",
       "  text-decoration: none;\n",
       "  /* unfitted */\n",
       "  color: var(--sklearn-color-unfitted-level-1);\n",
       "  border: var(--sklearn-color-unfitted-level-1) 1pt solid;\n",
       "}\n",
       "\n",
       "#sk-container-id-1 a.estimator_doc_link.fitted {\n",
       "  /* fitted */\n",
       "  border: var(--sklearn-color-fitted-level-1) 1pt solid;\n",
       "  color: var(--sklearn-color-fitted-level-1);\n",
       "}\n",
       "\n",
       "/* On hover */\n",
       "#sk-container-id-1 a.estimator_doc_link:hover {\n",
       "  /* unfitted */\n",
       "  background-color: var(--sklearn-color-unfitted-level-3);\n",
       "  color: var(--sklearn-color-background);\n",
       "  text-decoration: none;\n",
       "}\n",
       "\n",
       "#sk-container-id-1 a.estimator_doc_link.fitted:hover {\n",
       "  /* fitted */\n",
       "  background-color: var(--sklearn-color-fitted-level-3);\n",
       "}\n",
       "</style><div id=\"sk-container-id-1\" class=\"sk-top-container\"><div class=\"sk-text-repr-fallback\"><pre>GradientBoostingClassifier()</pre><b>In a Jupyter environment, please rerun this cell to show the HTML representation or trust the notebook. <br />On GitHub, the HTML representation is unable to render, please try loading this page with nbviewer.org.</b></div><div class=\"sk-container\" hidden><div class=\"sk-item\"><div class=\"sk-estimator fitted sk-toggleable\"><input class=\"sk-toggleable__control sk-hidden--visually\" id=\"sk-estimator-id-1\" type=\"checkbox\" checked><label for=\"sk-estimator-id-1\" class=\"sk-toggleable__label fitted sk-toggleable__label-arrow\"><div><div>GradientBoostingClassifier</div></div><div><a class=\"sk-estimator-doc-link fitted\" rel=\"noreferrer\" target=\"_blank\" href=\"https://scikit-learn.org/1.6/modules/generated/sklearn.ensemble.GradientBoostingClassifier.html\">?<span>Documentation for GradientBoostingClassifier</span></a><span class=\"sk-estimator-doc-link fitted\">i<span>Fitted</span></span></div></label><div class=\"sk-toggleable__content fitted\"><pre>GradientBoostingClassifier()</pre></div> </div></div></div></div>"
      ],
      "text/plain": [
       "GradientBoostingClassifier()"
      ]
     },
     "execution_count": 182,
     "metadata": {},
     "output_type": "execute_result"
    }
   ],
   "source": [
    "g.fit(x_train,y_train)"
   ]
  },
  {
   "cell_type": "code",
   "execution_count": 183,
   "id": "c7b66881-ccbc-44f6-9839-71d3e3658d48",
   "metadata": {},
   "outputs": [],
   "source": [
    "gtahmin=g.predict(x_test)"
   ]
  },
  {
   "cell_type": "code",
   "execution_count": 184,
   "id": "80789bcd-f3d6-4826-a9d2-e4e5edf9a892",
   "metadata": {},
   "outputs": [
    {
     "data": {
      "text/plain": [
       "0.8740831295843521"
      ]
     },
     "execution_count": 184,
     "metadata": {},
     "output_type": "execute_result"
    }
   ],
   "source": [
    "accuracy_score(y_test, gtahmin)"
   ]
  },
  {
   "cell_type": "code",
   "execution_count": 193,
   "id": "e45caf3a-7d39-4bfe-8f0e-74010df5edce",
   "metadata": {},
   "outputs": [],
   "source": [
    "from sklearn.linear_model import LogisticRegression\n",
    "from sklearn.neighbors import KNeighborsClassifier\n",
    "from sklearn.tree import DecisionTreeClassifier\n",
    "from sklearn.ensemble import RandomForestClassifier\n",
    "from sklearn.ensemble import AdaBoostClassifier\n",
    "from sklearn.ensemble import GradientBoostingClassifier\n",
    "from sklearn.naive_bayes import MultinomialNB\n",
    "from sklearn.naive_bayes import BernoulliNB\n",
    "\n",
    "from sklearn.metrics import accuracy_score, precision_score, recall_score\n",
    "from sklearn.metrics import f1_score, confusion_matrix, classification_report\n",
    "from sklearn.model_selection import train_test_split\n",
    "\n",
    "b = BernoulliNB()\n",
    "l = LogisticRegression()\n",
    "d = DecisionTreeClassifier()\n",
    "r = RandomForestClassifier()\n",
    "gb= GradientBoostingClassifier()\n",
    "kn= KNeighborsClassifier()\n",
    "ab= AdaBoostClassifier()\n",
    "mn= MultinomialNB()\n",
    "\n",
    "def algo_test(x, y):\n",
    "    modeller=[ b, l, d, r, gb, kn, ab, mn]\n",
    "    isimler=[\"BernoulliNB\", \"LogisticRegression\", \"DecisionTreeClassifier\", \n",
    "             \"RandomForestClassifier\", \"GradientBoostingClassifier\", \"KNeighborsClassifier\",\n",
    "             \"AdaBoostClassifier\", \"MultinomialNB\"]\n",
    "\n",
    "    x_train, x_test, y_train, y_test = train_test_split(x, y, test_size=.20, random_state = 42)\n",
    "    \n",
    "    accuracy = []\n",
    "    precision = []\n",
    "    recall = []\n",
    "    f1 = []\n",
    "    mdl=[]\n",
    "\n",
    "    print(\"Veriler hazır modeller deneniyor\")\n",
    "    for model in modeller:\n",
    "        print(model, \" modeli eğitiliyor!..\")\n",
    "        model=model.fit(x_train,y_train)\n",
    "        tahmin=model.predict(x_test)\n",
    "        mdl.append(model)\n",
    "        accuracy.append(accuracy_score(y_test, tahmin))\n",
    "        precision.append(precision_score(y_test, tahmin, average=\"micro\"))\n",
    "        recall.append(recall_score(y_test, tahmin, average=\"micro\"))\n",
    "        f1.append(f1_score(y_test, tahmin, average=\"micro\"))\n",
    "        print(confusion_matrix(y_test, tahmin))\n",
    "\n",
    "    print(\"Eğitim tamamlandı.\")\n",
    "    \n",
    "    metrics=pd.DataFrame(columns=[\"Accuracy\", \"Precision\", \"Recall\", \"F1\", \"Model\"], index=isimler)\n",
    "    metrics[\"Accuracy\"] = accuracy\n",
    "    metrics[\"Precision\"] = precision  \n",
    "    metrics[\"Recall\"] = recall\n",
    "    metrics[\"F1\"] = f1\n",
    "    metrics[\"Model\"]=mdl\n",
    "\n",
    "    metrics.sort_values(\"F1\", ascending=False, inplace=True)\n",
    "\n",
    "    print(\"En başarılı model: \", metrics.iloc[0].name)\n",
    "    model=metrics.iloc[0,-1]\n",
    "    tahmin=model.predict(np.array(x_test) if model==kn else x_test)\n",
    "    print(\"Confusion Matrix:\")\n",
    "    print(confusion_matrix(y_test, tahmin))\n",
    "    print(\"classification Report:\")\n",
    "    print(classification_report(y_test, tahmin))\n",
    "    print(\"Diğer Modeller:\")\n",
    "    \n",
    "    return metrics.drop(\"Model\", axis=1)"
   ]
  },
  {
   "cell_type": "code",
   "execution_count": 194,
   "id": "84c11da9-0666-4537-a29f-abf806f3db02",
   "metadata": {},
   "outputs": [
    {
     "name": "stdout",
     "output_type": "stream",
     "text": [
      "Veriler hazır modeller deneniyor\n",
      "BernoulliNB()  modeli eğitiliyor!..\n",
      "[[ 59 108]\n",
      " [ 53 598]]\n",
      "LogisticRegression()  modeli eğitiliyor!..\n",
      "[[119  48]\n",
      " [ 17 634]]\n",
      "DecisionTreeClassifier()  modeli eğitiliyor!..\n",
      "[[ 87  80]\n",
      " [ 51 600]]\n",
      "RandomForestClassifier()  modeli eğitiliyor!..\n",
      "[[ 31 136]\n",
      " [  3 648]]\n",
      "GradientBoostingClassifier()  modeli eğitiliyor!..\n",
      "[[ 69  98]\n",
      " [  9 642]]\n",
      "KNeighborsClassifier()  modeli eğitiliyor!..\n",
      "[[ 20 147]\n",
      " [  7 644]]\n",
      "AdaBoostClassifier()  modeli eğitiliyor!..\n",
      "[[ 56 111]\n",
      " [ 16 635]]\n",
      "MultinomialNB()  modeli eğitiliyor!..\n",
      "[[103  64]\n",
      " [ 21 630]]\n",
      "Eğitim tamamlandı.\n",
      "En başarılı model:  LogisticRegression\n",
      "Confusion Matrix:\n",
      "[[119  48]\n",
      " [ 17 634]]\n",
      "classification Report:\n",
      "              precision    recall  f1-score   support\n",
      "\n",
      "           1       0.88      0.71      0.79       167\n",
      "           5       0.93      0.97      0.95       651\n",
      "\n",
      "    accuracy                           0.92       818\n",
      "   macro avg       0.90      0.84      0.87       818\n",
      "weighted avg       0.92      0.92      0.92       818\n",
      "\n",
      "Diğer Modeller:\n"
     ]
    },
    {
     "data": {
      "text/html": [
       "<div>\n",
       "<style scoped>\n",
       "    .dataframe tbody tr th:only-of-type {\n",
       "        vertical-align: middle;\n",
       "    }\n",
       "\n",
       "    .dataframe tbody tr th {\n",
       "        vertical-align: top;\n",
       "    }\n",
       "\n",
       "    .dataframe thead th {\n",
       "        text-align: right;\n",
       "    }\n",
       "</style>\n",
       "<table border=\"1\" class=\"dataframe\">\n",
       "  <thead>\n",
       "    <tr style=\"text-align: right;\">\n",
       "      <th></th>\n",
       "      <th>Accuracy</th>\n",
       "      <th>Precision</th>\n",
       "      <th>Recall</th>\n",
       "      <th>F1</th>\n",
       "    </tr>\n",
       "  </thead>\n",
       "  <tbody>\n",
       "    <tr>\n",
       "      <th>LogisticRegression</th>\n",
       "      <td>0.920538</td>\n",
       "      <td>0.920538</td>\n",
       "      <td>0.920538</td>\n",
       "      <td>0.920538</td>\n",
       "    </tr>\n",
       "    <tr>\n",
       "      <th>MultinomialNB</th>\n",
       "      <td>0.896088</td>\n",
       "      <td>0.896088</td>\n",
       "      <td>0.896088</td>\n",
       "      <td>0.896088</td>\n",
       "    </tr>\n",
       "    <tr>\n",
       "      <th>GradientBoostingClassifier</th>\n",
       "      <td>0.869193</td>\n",
       "      <td>0.869193</td>\n",
       "      <td>0.869193</td>\n",
       "      <td>0.869193</td>\n",
       "    </tr>\n",
       "    <tr>\n",
       "      <th>AdaBoostClassifier</th>\n",
       "      <td>0.844743</td>\n",
       "      <td>0.844743</td>\n",
       "      <td>0.844743</td>\n",
       "      <td>0.844743</td>\n",
       "    </tr>\n",
       "    <tr>\n",
       "      <th>DecisionTreeClassifier</th>\n",
       "      <td>0.839853</td>\n",
       "      <td>0.839853</td>\n",
       "      <td>0.839853</td>\n",
       "      <td>0.839853</td>\n",
       "    </tr>\n",
       "    <tr>\n",
       "      <th>RandomForestClassifier</th>\n",
       "      <td>0.830073</td>\n",
       "      <td>0.830073</td>\n",
       "      <td>0.830073</td>\n",
       "      <td>0.830073</td>\n",
       "    </tr>\n",
       "    <tr>\n",
       "      <th>KNeighborsClassifier</th>\n",
       "      <td>0.811736</td>\n",
       "      <td>0.811736</td>\n",
       "      <td>0.811736</td>\n",
       "      <td>0.811736</td>\n",
       "    </tr>\n",
       "    <tr>\n",
       "      <th>BernoulliNB</th>\n",
       "      <td>0.803178</td>\n",
       "      <td>0.803178</td>\n",
       "      <td>0.803178</td>\n",
       "      <td>0.803178</td>\n",
       "    </tr>\n",
       "  </tbody>\n",
       "</table>\n",
       "</div>"
      ],
      "text/plain": [
       "                            Accuracy  Precision    Recall        F1\n",
       "LogisticRegression          0.920538   0.920538  0.920538  0.920538\n",
       "MultinomialNB               0.896088   0.896088  0.896088  0.896088\n",
       "GradientBoostingClassifier  0.869193   0.869193  0.869193  0.869193\n",
       "AdaBoostClassifier          0.844743   0.844743  0.844743  0.844743\n",
       "DecisionTreeClassifier      0.839853   0.839853  0.839853  0.839853\n",
       "RandomForestClassifier      0.830073   0.830073  0.830073  0.830073\n",
       "KNeighborsClassifier        0.811736   0.811736  0.811736  0.811736\n",
       "BernoulliNB                 0.803178   0.803178  0.803178  0.803178"
      ]
     },
     "execution_count": 194,
     "metadata": {},
     "output_type": "execute_result"
    }
   ],
   "source": [
    "algo_test(newx,y)"
   ]
  },
  {
   "cell_type": "code",
   "execution_count": 195,
   "id": "a5683ea9-a6b4-408f-ab87-160c543726a5",
   "metadata": {},
   "outputs": [],
   "source": [
    "from sklearn.linear_model import LogisticRegression"
   ]
  },
  {
   "cell_type": "code",
   "execution_count": 196,
   "id": "ae6d17af-82ca-4215-9066-33dcc742299c",
   "metadata": {},
   "outputs": [],
   "source": [
    "lr=LogisticRegression()"
   ]
  },
  {
   "cell_type": "code",
   "execution_count": 197,
   "id": "a963884e-73b4-4def-afc0-3cb1162f4437",
   "metadata": {},
   "outputs": [],
   "source": [
    "model=lr.fit(x_train,y_train)"
   ]
  },
  {
   "cell_type": "code",
   "execution_count": 198,
   "id": "aa50fa2e-b085-4702-b438-a05df4e40940",
   "metadata": {},
   "outputs": [],
   "source": [
    "yy='this place sucks i moved to the valley and have yet to find that go to  chinese spot sooo i decided to give this spot a try i called my order in and was assured by the employee that all the food is cooked to order always fresh so i picked up my food and what do you know i got some old azz fried rice with some microwaved shrimp wtf i give this place  thumbs down and i would not eat here if i was hungry as a hostage '"
   ]
  },
  {
   "cell_type": "code",
   "execution_count": 200,
   "id": "258164f5-adf1-4a22-b4f1-96d0dd7d3f46",
   "metadata": {},
   "outputs": [],
   "source": [
    "test=vect.transform([yy])"
   ]
  },
  {
   "cell_type": "code",
   "execution_count": 201,
   "id": "7e1173e0-047c-4754-9afe-eb90ced81f53",
   "metadata": {},
   "outputs": [
    {
     "data": {
      "text/plain": [
       "array([1])"
      ]
     },
     "execution_count": 201,
     "metadata": {},
     "output_type": "execute_result"
    }
   ],
   "source": [
    "model.predict(test)"
   ]
  },
  {
   "cell_type": "code",
   "execution_count": 202,
   "id": "88291600-d031-4d73-b949-b46612968f24",
   "metadata": {},
   "outputs": [],
   "source": [
    "dd='rosie dakota and i love chaparral dog park its very convenient and surrounded by a lot of paths a desert xeriscape baseball fields ballparks and a lake with ducksthe scottsdale park and rec dept does a wonderful job of keeping the park clean and shaded  you can find trash cans and poopypick up mitts located all over the park and pathsthe fenced in area is huge to let the dogs run play and sniff'"
   ]
  },
  {
   "cell_type": "code",
   "execution_count": 203,
   "id": "8c1732bc-6cdf-40b9-9ae9-0b67814fc257",
   "metadata": {},
   "outputs": [],
   "source": [
    "test=vect.transform([dd])"
   ]
  },
  {
   "cell_type": "code",
   "execution_count": 204,
   "id": "81094c59-55a2-45eb-9643-1810b8b21012",
   "metadata": {},
   "outputs": [
    {
     "data": {
      "text/plain": [
       "array([5])"
      ]
     },
     "execution_count": 204,
     "metadata": {},
     "output_type": "execute_result"
    }
   ],
   "source": [
    "model.predict(test)"
   ]
  },
  {
   "cell_type": "code",
   "execution_count": null,
   "id": "aec99081-a170-46b9-8b18-02b8ce59ff67",
   "metadata": {},
   "outputs": [],
   "source": [
    "# olusturulan modeli .pkl olarak kaydedelim"
   ]
  },
  {
   "cell_type": "code",
   "execution_count": 205,
   "id": "1b8230ad-ba98-49a1-ab7f-d8b9c97e1a95",
   "metadata": {},
   "outputs": [],
   "source": [
    "import joblib"
   ]
  },
  {
   "cell_type": "code",
   "execution_count": 206,
   "id": "604e7e83-9952-4309-826f-f274413cebc7",
   "metadata": {},
   "outputs": [
    {
     "data": {
      "text/plain": [
       "['lr_sentiment.pkl']"
      ]
     },
     "execution_count": 206,
     "metadata": {},
     "output_type": "execute_result"
    }
   ],
   "source": [
    "joblib.dump(model,'lr_sentiment.pkl')"
   ]
  },
  {
   "cell_type": "code",
   "execution_count": null,
   "id": "73babdd1-c436-4efd-9891-873e0049b6e1",
   "metadata": {},
   "outputs": [],
   "source": [
    "# olusturdugumuz .pkl dosyasini cagirip tekrar test edelim"
   ]
  },
  {
   "cell_type": "code",
   "execution_count": 209,
   "id": "0ca512d6-ac11-45aa-bac3-46f1630b72fb",
   "metadata": {},
   "outputs": [],
   "source": [
    "smodel=joblib.load('lr_sentiment.pkl')"
   ]
  },
  {
   "cell_type": "code",
   "execution_count": 210,
   "id": "a79b182e-ac65-4fd5-8b63-90be397e15fd",
   "metadata": {},
   "outputs": [
    {
     "data": {
      "text/plain": [
       "array([5])"
      ]
     },
     "execution_count": 210,
     "metadata": {},
     "output_type": "execute_result"
    }
   ],
   "source": [
    "smodel.predict(test)"
   ]
  },
  {
   "cell_type": "code",
   "execution_count": null,
   "id": "cae9a677-276f-4770-97cf-6c6b0be2b98f",
   "metadata": {},
   "outputs": [],
   "source": [
    "# simdi deep learning ile yapalim"
   ]
  },
  {
   "cell_type": "code",
   "execution_count": 227,
   "id": "1b7aba6b-3b71-4f17-b835-7900dfd1542c",
   "metadata": {},
   "outputs": [
    {
     "name": "stdout",
     "output_type": "stream",
     "text": [
      "Epoch 1/10\n",
      "214/214 - 3s - 13ms/step - accuracy: 0.8560 - loss: 0.3248 - val_accuracy: 0.9040 - val_loss: 0.2238\n",
      "Epoch 2/10\n",
      "214/214 - 1s - 3ms/step - accuracy: 0.9649 - loss: 0.0996 - val_accuracy: 0.9104 - val_loss: 0.2769\n",
      "Epoch 3/10\n",
      "214/214 - 1s - 3ms/step - accuracy: 0.9922 - loss: 0.0237 - val_accuracy: 0.9133 - val_loss: 0.3302\n",
      "Epoch 4/10\n",
      "214/214 - 1s - 3ms/step - accuracy: 0.9980 - loss: 0.0068 - val_accuracy: 0.9093 - val_loss: 0.5341\n",
      "Epoch 5/10\n",
      "214/214 - 1s - 3ms/step - accuracy: 0.9996 - loss: 0.0015 - val_accuracy: 0.9052 - val_loss: 0.6165\n",
      "Epoch 6/10\n",
      "214/214 - 1s - 3ms/step - accuracy: 0.9987 - loss: 0.0028 - val_accuracy: 0.9081 - val_loss: 0.6455\n",
      "Epoch 7/10\n",
      "214/214 - 1s - 3ms/step - accuracy: 0.9966 - loss: 0.0080 - val_accuracy: 0.9034 - val_loss: 0.5370\n",
      "Epoch 8/10\n",
      "214/214 - 1s - 3ms/step - accuracy: 0.9974 - loss: 0.0077 - val_accuracy: 0.8999 - val_loss: 0.5882\n",
      "Epoch 9/10\n",
      "214/214 - 1s - 3ms/step - accuracy: 0.9982 - loss: 0.0045 - val_accuracy: 0.8981 - val_loss: 0.5762\n",
      "Epoch 10/10\n",
      "214/214 - 1s - 3ms/step - accuracy: 0.9997 - loss: 8.4230e-04 - val_accuracy: 0.8999 - val_loss: 0.6950\n"
     ]
    }
   ],
   "source": [
    "import pandas as pd\n",
    "from sklearn.model_selection import train_test_split\n",
    "from sklearn.feature_extraction.text import TfidfVectorizer\n",
    "from tensorflow.keras.models import Sequential\n",
    "from tensorflow.keras.layers import Dense\n",
    "from tensorflow.keras.utils import to_categorical\n",
    "import numpy as np\n",
    "\n",
    "# Label (duygu) oluştur\n",
    "# 1-2 yıldız olumsuz (0), 4-5 yıldız olumlu (1)\n",
    "df = df[df['stars'] != 3]  # 3 yıldızlı nötrleri çıkarıyoruz\n",
    "df['label'] = df['stars'].apply(lambda x: 1 if x >= 4 else 0)\n",
    "\n",
    "# Veriyi ayır\n",
    "X_train, X_test, y_train, y_test = train_test_split(df['text'], df['label'], test_size=0.2, random_state=42)\n",
    "\n",
    "# TF-IDF vektörleştirme\n",
    "vectorizer = TfidfVectorizer(max_features=5000)\n",
    "x_train = vectorizer.fit_transform(X_train).toarray()\n",
    "x_test = vectorizer.transform(X_test).toarray()\n",
    "\n",
    "# Label’ları one-hot encode et\n",
    "y_train = to_categorical(y_train)\n",
    "y_test = to_categorical(y_test)\n",
    "\n",
    "# Model\n",
    "model = Sequential()\n",
    "model.add(Dense(80, activation='relu', input_dim=x_train.shape[1]))\n",
    "model.add(Dense(120, activation='relu'))\n",
    "model.add(Dense(64, activation='relu'))\n",
    "model.add(Dense(30, activation='relu'))\n",
    "model.add(Dense(8, activation='relu'))\n",
    "model.add(Dense(2, activation='softmax'))\n",
    "\n",
    "# Derle ve eğit\n",
    "model.compile(loss='categorical_crossentropy', optimizer='adam', metrics=['accuracy'])\n",
    "history = model.fit(x_train, y_train, batch_size=32, validation_data=(x_test, y_test), verbose=2, epochs=10)\n"
   ]
  },
  {
   "cell_type": "code",
   "execution_count": 211,
   "id": "096363f7-7e54-4eda-8957-d125c06af262",
   "metadata": {},
   "outputs": [],
   "source": [
    "from tensorflow.keras.models import Sequential\n",
    "from tensorflow.keras.layers import Dense"
   ]
  },
  {
   "cell_type": "code",
   "execution_count": 221,
   "id": "283e5ccf-27a7-43f1-9741-1ab5e05331d6",
   "metadata": {},
   "outputs": [],
   "source": [
    "model=Sequential()\n",
    "# Dense butun noron butun noron ile baglanacak anlamina gelir, activation relu en iyi calisandir\n",
    "model.add(Dense(80, activation='relu')) # 1. noron hayal urunu 80 tane\n",
    "model.add(Dense(120, activation='relu')) # 2. noron hayal urunu 120 tane\n",
    "model.add(Dense(64, activation='relu')) # 3. noron hayal urunu 64 tane\n",
    "model.add(Dense(30, activation='relu'))\n",
    "model.add(Dense(8, activation='relu'))\n",
    "model.add(Dense(2, activation='softmax')) \n",
    "\n",
    "model.compile(\n",
    "    loss='categorical_crossentropy',\n",
    "    optimizer='adam',\n",
    "    metrics=['accuracy']\n",
    ")"
   ]
  },
  {
   "cell_type": "code",
   "execution_count": null,
   "id": "2f771470-3741-4724-a6e7-e04771dc27fc",
   "metadata": {},
   "outputs": [],
   "source": [
    "history=model.fit(x_train,y_train, batch_size=32, validation_data=(x_test,y_test), verbose=2, epochs=100)"
   ]
  },
  {
   "cell_type": "code",
   "execution_count": null,
   "id": "111a1fef-80a3-4ccb-9958-ad7d0d997a50",
   "metadata": {},
   "outputs": [],
   "source": []
  }
 ],
 "metadata": {
  "kernelspec": {
   "display_name": "Python 3 (ipykernel)",
   "language": "python",
   "name": "python3"
  },
  "language_info": {
   "codemirror_mode": {
    "name": "ipython",
    "version": 3
   },
   "file_extension": ".py",
   "mimetype": "text/x-python",
   "name": "python",
   "nbconvert_exporter": "python",
   "pygments_lexer": "ipython3",
   "version": "3.13.5"
  }
 },
 "nbformat": 4,
 "nbformat_minor": 5
}
