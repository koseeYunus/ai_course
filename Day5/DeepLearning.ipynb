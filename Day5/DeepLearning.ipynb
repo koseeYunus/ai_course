{
 "cells": [
  {
   "cell_type": "markdown",
   "id": "8459a21f-6997-4e75-ae05-8db50e42e265",
   "metadata": {},
   "source": [
    "# Deep Learning - Artificial Neural Networks - Derin Ogrenme Yapay Sinir Aglari"
   ]
  },
  {
   "cell_type": "markdown",
   "id": "706a61a1-10f7-4e52-a660-bb51bf7c0786",
   "metadata": {},
   "source": [
    "Bugun insanin beyninin ogrenme modelini taklit ederekogrenen yapay sinir aglarini derinlemesine ogrenecegiz."
   ]
  },
  {
   "cell_type": "markdown",
   "id": "c4a2e434-6582-4d71-b418-aaddf030cbfc",
   "metadata": {},
   "source": [
    "### Classification"
   ]
  },
  {
   "cell_type": "code",
   "execution_count": 1,
   "id": "fac1b10e-c989-45e2-8697-adbd045cf025",
   "metadata": {},
   "outputs": [],
   "source": [
    "import pandas as pd"
   ]
  },
  {
   "cell_type": "code",
   "execution_count": 2,
   "id": "2b571a57-cd08-4746-b37d-386164ff3c0e",
   "metadata": {},
   "outputs": [],
   "source": [
    "df=pd.read_csv('pima-indians-diabetes.csv')"
   ]
  },
  {
   "cell_type": "code",
   "execution_count": 3,
   "id": "07066856-9207-4790-9601-994758668013",
   "metadata": {},
   "outputs": [
    {
     "data": {
      "text/html": [
       "<div>\n",
       "<style scoped>\n",
       "    .dataframe tbody tr th:only-of-type {\n",
       "        vertical-align: middle;\n",
       "    }\n",
       "\n",
       "    .dataframe tbody tr th {\n",
       "        vertical-align: top;\n",
       "    }\n",
       "\n",
       "    .dataframe thead th {\n",
       "        text-align: right;\n",
       "    }\n",
       "</style>\n",
       "<table border=\"1\" class=\"dataframe\">\n",
       "  <thead>\n",
       "    <tr style=\"text-align: right;\">\n",
       "      <th></th>\n",
       "      <th>Pregnancies</th>\n",
       "      <th>Glucose</th>\n",
       "      <th>BloodPressure</th>\n",
       "      <th>SkinThickness</th>\n",
       "      <th>Insulin</th>\n",
       "      <th>BMI</th>\n",
       "      <th>DiabetesPedigreeFunction</th>\n",
       "      <th>Age</th>\n",
       "      <th>Outcome</th>\n",
       "    </tr>\n",
       "  </thead>\n",
       "  <tbody>\n",
       "    <tr>\n",
       "      <th>0</th>\n",
       "      <td>6</td>\n",
       "      <td>148</td>\n",
       "      <td>72</td>\n",
       "      <td>35</td>\n",
       "      <td>0</td>\n",
       "      <td>33.6</td>\n",
       "      <td>0.627</td>\n",
       "      <td>50</td>\n",
       "      <td>1</td>\n",
       "    </tr>\n",
       "    <tr>\n",
       "      <th>1</th>\n",
       "      <td>1</td>\n",
       "      <td>85</td>\n",
       "      <td>66</td>\n",
       "      <td>29</td>\n",
       "      <td>0</td>\n",
       "      <td>26.6</td>\n",
       "      <td>0.351</td>\n",
       "      <td>31</td>\n",
       "      <td>0</td>\n",
       "    </tr>\n",
       "    <tr>\n",
       "      <th>2</th>\n",
       "      <td>8</td>\n",
       "      <td>183</td>\n",
       "      <td>64</td>\n",
       "      <td>0</td>\n",
       "      <td>0</td>\n",
       "      <td>23.3</td>\n",
       "      <td>0.672</td>\n",
       "      <td>32</td>\n",
       "      <td>1</td>\n",
       "    </tr>\n",
       "    <tr>\n",
       "      <th>3</th>\n",
       "      <td>1</td>\n",
       "      <td>89</td>\n",
       "      <td>66</td>\n",
       "      <td>23</td>\n",
       "      <td>94</td>\n",
       "      <td>28.1</td>\n",
       "      <td>0.167</td>\n",
       "      <td>21</td>\n",
       "      <td>0</td>\n",
       "    </tr>\n",
       "    <tr>\n",
       "      <th>4</th>\n",
       "      <td>0</td>\n",
       "      <td>137</td>\n",
       "      <td>40</td>\n",
       "      <td>35</td>\n",
       "      <td>168</td>\n",
       "      <td>43.1</td>\n",
       "      <td>2.288</td>\n",
       "      <td>33</td>\n",
       "      <td>1</td>\n",
       "    </tr>\n",
       "  </tbody>\n",
       "</table>\n",
       "</div>"
      ],
      "text/plain": [
       "   Pregnancies  Glucose  BloodPressure  SkinThickness  Insulin   BMI  \\\n",
       "0            6      148             72             35        0  33.6   \n",
       "1            1       85             66             29        0  26.6   \n",
       "2            8      183             64              0        0  23.3   \n",
       "3            1       89             66             23       94  28.1   \n",
       "4            0      137             40             35      168  43.1   \n",
       "\n",
       "   DiabetesPedigreeFunction  Age  Outcome  \n",
       "0                     0.627   50        1  \n",
       "1                     0.351   31        0  \n",
       "2                     0.672   32        1  \n",
       "3                     0.167   21        0  \n",
       "4                     2.288   33        1  "
      ]
     },
     "execution_count": 3,
     "metadata": {},
     "output_type": "execute_result"
    }
   ],
   "source": [
    "df.head()"
   ]
  },
  {
   "cell_type": "code",
   "execution_count": 4,
   "id": "62ef7b53-fd70-4caf-81e9-bd0cec247cbe",
   "metadata": {},
   "outputs": [
    {
     "data": {
      "text/plain": [
       "(768, 9)"
      ]
     },
     "execution_count": 4,
     "metadata": {},
     "output_type": "execute_result"
    }
   ],
   "source": [
    "df.shape"
   ]
  },
  {
   "cell_type": "code",
   "execution_count": 5,
   "id": "c78fd218-4c95-4d95-91b6-42db0619c48c",
   "metadata": {},
   "outputs": [
    {
     "data": {
      "text/plain": [
       "Pregnancies                 0\n",
       "Glucose                     0\n",
       "BloodPressure               0\n",
       "SkinThickness               0\n",
       "Insulin                     0\n",
       "BMI                         0\n",
       "DiabetesPedigreeFunction    0\n",
       "Age                         0\n",
       "Outcome                     0\n",
       "dtype: int64"
      ]
     },
     "execution_count": 5,
     "metadata": {},
     "output_type": "execute_result"
    }
   ],
   "source": [
    "df.isnull().sum()"
   ]
  },
  {
   "cell_type": "code",
   "execution_count": 6,
   "id": "84b646d0-1964-42cc-9626-97dbd7acb649",
   "metadata": {},
   "outputs": [],
   "source": [
    "# !pip install tensorflow # cok boyutlu matris"
   ]
  },
  {
   "cell_type": "code",
   "execution_count": 7,
   "id": "728532fe-7442-4d70-8921-8974efce4048",
   "metadata": {},
   "outputs": [
    {
     "data": {
      "text/html": [
       "<div>\n",
       "<style scoped>\n",
       "    .dataframe tbody tr th:only-of-type {\n",
       "        vertical-align: middle;\n",
       "    }\n",
       "\n",
       "    .dataframe tbody tr th {\n",
       "        vertical-align: top;\n",
       "    }\n",
       "\n",
       "    .dataframe thead th {\n",
       "        text-align: right;\n",
       "    }\n",
       "</style>\n",
       "<table border=\"1\" class=\"dataframe\">\n",
       "  <thead>\n",
       "    <tr style=\"text-align: right;\">\n",
       "      <th></th>\n",
       "      <th>Pregnancies</th>\n",
       "      <th>Glucose</th>\n",
       "      <th>BloodPressure</th>\n",
       "      <th>SkinThickness</th>\n",
       "      <th>Insulin</th>\n",
       "      <th>BMI</th>\n",
       "      <th>DiabetesPedigreeFunction</th>\n",
       "      <th>Age</th>\n",
       "      <th>Outcome</th>\n",
       "    </tr>\n",
       "  </thead>\n",
       "  <tbody>\n",
       "    <tr>\n",
       "      <th>763</th>\n",
       "      <td>10</td>\n",
       "      <td>101</td>\n",
       "      <td>76</td>\n",
       "      <td>48</td>\n",
       "      <td>180</td>\n",
       "      <td>32.9</td>\n",
       "      <td>0.171</td>\n",
       "      <td>63</td>\n",
       "      <td>0</td>\n",
       "    </tr>\n",
       "    <tr>\n",
       "      <th>764</th>\n",
       "      <td>2</td>\n",
       "      <td>122</td>\n",
       "      <td>70</td>\n",
       "      <td>27</td>\n",
       "      <td>0</td>\n",
       "      <td>36.8</td>\n",
       "      <td>0.340</td>\n",
       "      <td>27</td>\n",
       "      <td>0</td>\n",
       "    </tr>\n",
       "    <tr>\n",
       "      <th>765</th>\n",
       "      <td>5</td>\n",
       "      <td>121</td>\n",
       "      <td>72</td>\n",
       "      <td>23</td>\n",
       "      <td>112</td>\n",
       "      <td>26.2</td>\n",
       "      <td>0.245</td>\n",
       "      <td>30</td>\n",
       "      <td>0</td>\n",
       "    </tr>\n",
       "    <tr>\n",
       "      <th>766</th>\n",
       "      <td>1</td>\n",
       "      <td>126</td>\n",
       "      <td>60</td>\n",
       "      <td>0</td>\n",
       "      <td>0</td>\n",
       "      <td>30.1</td>\n",
       "      <td>0.349</td>\n",
       "      <td>47</td>\n",
       "      <td>1</td>\n",
       "    </tr>\n",
       "    <tr>\n",
       "      <th>767</th>\n",
       "      <td>1</td>\n",
       "      <td>93</td>\n",
       "      <td>70</td>\n",
       "      <td>31</td>\n",
       "      <td>0</td>\n",
       "      <td>30.4</td>\n",
       "      <td>0.315</td>\n",
       "      <td>23</td>\n",
       "      <td>0</td>\n",
       "    </tr>\n",
       "  </tbody>\n",
       "</table>\n",
       "</div>"
      ],
      "text/plain": [
       "     Pregnancies  Glucose  BloodPressure  SkinThickness  Insulin   BMI  \\\n",
       "763           10      101             76             48      180  32.9   \n",
       "764            2      122             70             27        0  36.8   \n",
       "765            5      121             72             23      112  26.2   \n",
       "766            1      126             60              0        0  30.1   \n",
       "767            1       93             70             31        0  30.4   \n",
       "\n",
       "     DiabetesPedigreeFunction  Age  Outcome  \n",
       "763                     0.171   63        0  \n",
       "764                     0.340   27        0  \n",
       "765                     0.245   30        0  \n",
       "766                     0.349   47        1  \n",
       "767                     0.315   23        0  "
      ]
     },
     "execution_count": 7,
     "metadata": {},
     "output_type": "execute_result"
    }
   ],
   "source": [
    "df.tail()"
   ]
  },
  {
   "cell_type": "code",
   "execution_count": 8,
   "id": "51309bba-ac3b-4810-a251-7ef8b7449f3a",
   "metadata": {},
   "outputs": [
    {
     "data": {
      "text/plain": [
       "Index(['Pregnancies', 'Glucose', 'BloodPressure', 'SkinThickness', 'Insulin',\n",
       "       'BMI', 'DiabetesPedigreeFunction', 'Age', 'Outcome'],\n",
       "      dtype='object')"
      ]
     },
     "execution_count": 8,
     "metadata": {},
     "output_type": "execute_result"
    }
   ],
   "source": [
    "df.columns"
   ]
  },
  {
   "cell_type": "code",
   "execution_count": 18,
   "id": "0a678e6b-167a-4612-9aec-6e1adee12943",
   "metadata": {},
   "outputs": [],
   "source": [
    "# x ve y oluturmak icin birinci yontem\n",
    "x=df[['Pregnancies', 'Glucose', 'BloodPressure', 'SkinThickness', 'Insulin','BMI', 'DiabetesPedigreeFunction', 'Age']]\n",
    "y=df[['Outcome']]"
   ]
  },
  {
   "cell_type": "code",
   "execution_count": 19,
   "id": "246182b7-4a25-459c-b3ef-bfb26a8760c3",
   "metadata": {},
   "outputs": [],
   "source": [
    "# x ve y oluturmak icin ikinci yontem\n",
    "x=df.drop('Outcome',axis=1)\n",
    "y=df[['Outcome']]"
   ]
  },
  {
   "cell_type": "code",
   "execution_count": 20,
   "id": "432de9e8-8bdb-4c31-9453-c1702c130b01",
   "metadata": {},
   "outputs": [],
   "source": [
    "# x ve y oluturmak icin ucuncu yontem\n",
    "x=df.iloc[:,0:8]\n",
    "y=df.iloc[:,8]"
   ]
  },
  {
   "cell_type": "code",
   "execution_count": null,
   "id": "86f38b41-4c84-4dbf-b668-a7e7a83835e6",
   "metadata": {},
   "outputs": [],
   "source": [
    "# Deep learning"
   ]
  },
  {
   "cell_type": "code",
   "execution_count": 21,
   "id": "74acd9d0-dc67-454a-b4d0-e880a8cfd02f",
   "metadata": {},
   "outputs": [],
   "source": [
    "from tensorflow.keras.models import Sequential"
   ]
  },
  {
   "cell_type": "code",
   "execution_count": 22,
   "id": "cb8e9fe2-8972-4e32-a19d-fe99ffa7175e",
   "metadata": {},
   "outputs": [],
   "source": [
    "from tensorflow.keras.layers import Dense"
   ]
  },
  {
   "cell_type": "code",
   "execution_count": 23,
   "id": "4d14e881-aa96-49c0-a3fc-b90113aee799",
   "metadata": {},
   "outputs": [],
   "source": [
    "model=Sequential()\n",
    "# Dense butun noron butun noron ile baglanacak anlamina gelir, activation relu en iyi calisandir\n",
    "model.add(Dense(80, activation='relu')) # 1. noron hayal urunu 80 tane\n",
    "model.add(Dense(120, activation='relu')) # 2. noron hayal urunu 120 tane\n",
    "model.add(Dense(64, activation='relu')) # 3. noron hayal urunu 64 tane\n",
    "model.add(Dense(30, activation='relu'))\n",
    "model.add(Dense(8, activation='relu'))\n",
    "model.add(Dense(1, activation='sigmoid')) # classification son layer sigmoid olacak(sonu 0 veya 1 ise)\n",
    "\n",
    "model.compile(loss='binary_crossentropy', optimizer='adam', metrics=['accuracy'])"
   ]
  },
  {
   "cell_type": "code",
   "execution_count": 25,
   "id": "6d611bb2-81e5-4ffa-96ac-efcfa8853131",
   "metadata": {},
   "outputs": [
    {
     "name": "stdout",
     "output_type": "stream",
     "text": [
      "Epoch 1/10\n",
      "\u001b[1m22/22\u001b[0m \u001b[32m━━━━━━━━━━━━━━━━━━━━\u001b[0m\u001b[37m\u001b[0m \u001b[1m0s\u001b[0m 6ms/step - accuracy: 0.6918 - loss: 0.6615 - val_accuracy: 0.5714 - val_loss: 0.8521\n",
      "Epoch 2/10\n",
      "\u001b[1m22/22\u001b[0m \u001b[32m━━━━━━━━━━━━━━━━━━━━\u001b[0m\u001b[37m\u001b[0m \u001b[1m0s\u001b[0m 4ms/step - accuracy: 0.6657 - loss: 0.6282 - val_accuracy: 0.6364 - val_loss: 0.6656\n",
      "Epoch 3/10\n",
      "\u001b[1m22/22\u001b[0m \u001b[32m━━━━━━━━━━━━━━━━━━━━\u001b[0m\u001b[37m\u001b[0m \u001b[1m0s\u001b[0m 4ms/step - accuracy: 0.6860 - loss: 0.6149 - val_accuracy: 0.5584 - val_loss: 0.6811\n",
      "Epoch 4/10\n",
      "\u001b[1m22/22\u001b[0m \u001b[32m━━━━━━━━━━━━━━━━━━━━\u001b[0m\u001b[37m\u001b[0m \u001b[1m0s\u001b[0m 4ms/step - accuracy: 0.7106 - loss: 0.5873 - val_accuracy: 0.7013 - val_loss: 0.6628\n",
      "Epoch 5/10\n",
      "\u001b[1m22/22\u001b[0m \u001b[32m━━━━━━━━━━━━━━━━━━━━\u001b[0m\u001b[37m\u001b[0m \u001b[1m0s\u001b[0m 4ms/step - accuracy: 0.6889 - loss: 0.5879 - val_accuracy: 0.5974 - val_loss: 0.7009\n",
      "Epoch 6/10\n",
      "\u001b[1m22/22\u001b[0m \u001b[32m━━━━━━━━━━━━━━━━━━━━\u001b[0m\u001b[37m\u001b[0m \u001b[1m0s\u001b[0m 4ms/step - accuracy: 0.7019 - loss: 0.5879 - val_accuracy: 0.6234 - val_loss: 0.6797\n",
      "Epoch 7/10\n",
      "\u001b[1m22/22\u001b[0m \u001b[32m━━━━━━━━━━━━━━━━━━━━\u001b[0m\u001b[37m\u001b[0m \u001b[1m0s\u001b[0m 4ms/step - accuracy: 0.7077 - loss: 0.5652 - val_accuracy: 0.5584 - val_loss: 0.7375\n",
      "Epoch 8/10\n",
      "\u001b[1m22/22\u001b[0m \u001b[32m━━━━━━━━━━━━━━━━━━━━\u001b[0m\u001b[37m\u001b[0m \u001b[1m0s\u001b[0m 4ms/step - accuracy: 0.7192 - loss: 0.5802 - val_accuracy: 0.6494 - val_loss: 0.7112\n",
      "Epoch 9/10\n",
      "\u001b[1m22/22\u001b[0m \u001b[32m━━━━━━━━━━━━━━━━━━━━\u001b[0m\u001b[37m\u001b[0m \u001b[1m0s\u001b[0m 4ms/step - accuracy: 0.6990 - loss: 0.5744 - val_accuracy: 0.7273 - val_loss: 0.6590\n",
      "Epoch 10/10\n",
      "\u001b[1m22/22\u001b[0m \u001b[32m━━━━━━━━━━━━━━━━━━━━\u001b[0m\u001b[37m\u001b[0m \u001b[1m0s\u001b[0m 4ms/step - accuracy: 0.7135 - loss: 0.5645 - val_accuracy: 0.6364 - val_loss: 0.6893\n"
     ]
    }
   ],
   "source": [
    "history=model.fit(x,y, batch_size=32, validation_split=0.10, verbose=1, epochs=10) # validation_split=0.10 ile train test split yapmaya gerek kalmadi"
   ]
  },
  {
   "cell_type": "code",
   "execution_count": 32,
   "id": "94a830da-b744-4834-a36f-2542ccdac9e3",
   "metadata": {},
   "outputs": [],
   "source": [
    "# epochs sokaklar arasi dolasmayi arttirarak accuracy arttirdik ve verbose=0 yaparak altta yazi cikmasini kapattik\n",
    "history=model.fit(x,y, batch_size=32, validation_split=0.10, verbose=0, epochs=100) "
   ]
  },
  {
   "cell_type": "code",
   "execution_count": 33,
   "id": "3c3d7e1d-9b38-4194-979c-9b7f6c51968c",
   "metadata": {},
   "outputs": [
    {
     "data": {
      "text/html": [
       "<pre style=\"white-space:pre;overflow-x:auto;line-height:normal;font-family:Menlo,'DejaVu Sans Mono',consolas,'Courier New',monospace\"><span style=\"font-weight: bold\">Model: \"sequential\"</span>\n",
       "</pre>\n"
      ],
      "text/plain": [
       "\u001b[1mModel: \"sequential\"\u001b[0m\n"
      ]
     },
     "metadata": {},
     "output_type": "display_data"
    },
    {
     "data": {
      "text/html": [
       "<pre style=\"white-space:pre;overflow-x:auto;line-height:normal;font-family:Menlo,'DejaVu Sans Mono',consolas,'Courier New',monospace\">┏━━━━━━━━━━━━━━━━━━━━━━━━━━━━━━━━━┳━━━━━━━━━━━━━━━━━━━━━━━━┳━━━━━━━━━━━━━━━┓\n",
       "┃<span style=\"font-weight: bold\"> Layer (type)                    </span>┃<span style=\"font-weight: bold\"> Output Shape           </span>┃<span style=\"font-weight: bold\">       Param # </span>┃\n",
       "┡━━━━━━━━━━━━━━━━━━━━━━━━━━━━━━━━━╇━━━━━━━━━━━━━━━━━━━━━━━━╇━━━━━━━━━━━━━━━┩\n",
       "│ dense (<span style=\"color: #0087ff; text-decoration-color: #0087ff\">Dense</span>)                   │ (<span style=\"color: #00d7ff; text-decoration-color: #00d7ff\">None</span>, <span style=\"color: #00af00; text-decoration-color: #00af00\">80</span>)             │           <span style=\"color: #00af00; text-decoration-color: #00af00\">720</span> │\n",
       "├─────────────────────────────────┼────────────────────────┼───────────────┤\n",
       "│ dense_1 (<span style=\"color: #0087ff; text-decoration-color: #0087ff\">Dense</span>)                 │ (<span style=\"color: #00d7ff; text-decoration-color: #00d7ff\">None</span>, <span style=\"color: #00af00; text-decoration-color: #00af00\">120</span>)            │         <span style=\"color: #00af00; text-decoration-color: #00af00\">9,720</span> │\n",
       "├─────────────────────────────────┼────────────────────────┼───────────────┤\n",
       "│ dense_2 (<span style=\"color: #0087ff; text-decoration-color: #0087ff\">Dense</span>)                 │ (<span style=\"color: #00d7ff; text-decoration-color: #00d7ff\">None</span>, <span style=\"color: #00af00; text-decoration-color: #00af00\">64</span>)             │         <span style=\"color: #00af00; text-decoration-color: #00af00\">7,744</span> │\n",
       "├─────────────────────────────────┼────────────────────────┼───────────────┤\n",
       "│ dense_3 (<span style=\"color: #0087ff; text-decoration-color: #0087ff\">Dense</span>)                 │ (<span style=\"color: #00d7ff; text-decoration-color: #00d7ff\">None</span>, <span style=\"color: #00af00; text-decoration-color: #00af00\">30</span>)             │         <span style=\"color: #00af00; text-decoration-color: #00af00\">1,950</span> │\n",
       "├─────────────────────────────────┼────────────────────────┼───────────────┤\n",
       "│ dense_4 (<span style=\"color: #0087ff; text-decoration-color: #0087ff\">Dense</span>)                 │ (<span style=\"color: #00d7ff; text-decoration-color: #00d7ff\">None</span>, <span style=\"color: #00af00; text-decoration-color: #00af00\">8</span>)              │           <span style=\"color: #00af00; text-decoration-color: #00af00\">248</span> │\n",
       "├─────────────────────────────────┼────────────────────────┼───────────────┤\n",
       "│ dense_5 (<span style=\"color: #0087ff; text-decoration-color: #0087ff\">Dense</span>)                 │ (<span style=\"color: #00d7ff; text-decoration-color: #00d7ff\">None</span>, <span style=\"color: #00af00; text-decoration-color: #00af00\">1</span>)              │             <span style=\"color: #00af00; text-decoration-color: #00af00\">9</span> │\n",
       "└─────────────────────────────────┴────────────────────────┴───────────────┘\n",
       "</pre>\n"
      ],
      "text/plain": [
       "┏━━━━━━━━━━━━━━━━━━━━━━━━━━━━━━━━━┳━━━━━━━━━━━━━━━━━━━━━━━━┳━━━━━━━━━━━━━━━┓\n",
       "┃\u001b[1m \u001b[0m\u001b[1mLayer (type)                   \u001b[0m\u001b[1m \u001b[0m┃\u001b[1m \u001b[0m\u001b[1mOutput Shape          \u001b[0m\u001b[1m \u001b[0m┃\u001b[1m \u001b[0m\u001b[1m      Param #\u001b[0m\u001b[1m \u001b[0m┃\n",
       "┡━━━━━━━━━━━━━━━━━━━━━━━━━━━━━━━━━╇━━━━━━━━━━━━━━━━━━━━━━━━╇━━━━━━━━━━━━━━━┩\n",
       "│ dense (\u001b[38;5;33mDense\u001b[0m)                   │ (\u001b[38;5;45mNone\u001b[0m, \u001b[38;5;34m80\u001b[0m)             │           \u001b[38;5;34m720\u001b[0m │\n",
       "├─────────────────────────────────┼────────────────────────┼───────────────┤\n",
       "│ dense_1 (\u001b[38;5;33mDense\u001b[0m)                 │ (\u001b[38;5;45mNone\u001b[0m, \u001b[38;5;34m120\u001b[0m)            │         \u001b[38;5;34m9,720\u001b[0m │\n",
       "├─────────────────────────────────┼────────────────────────┼───────────────┤\n",
       "│ dense_2 (\u001b[38;5;33mDense\u001b[0m)                 │ (\u001b[38;5;45mNone\u001b[0m, \u001b[38;5;34m64\u001b[0m)             │         \u001b[38;5;34m7,744\u001b[0m │\n",
       "├─────────────────────────────────┼────────────────────────┼───────────────┤\n",
       "│ dense_3 (\u001b[38;5;33mDense\u001b[0m)                 │ (\u001b[38;5;45mNone\u001b[0m, \u001b[38;5;34m30\u001b[0m)             │         \u001b[38;5;34m1,950\u001b[0m │\n",
       "├─────────────────────────────────┼────────────────────────┼───────────────┤\n",
       "│ dense_4 (\u001b[38;5;33mDense\u001b[0m)                 │ (\u001b[38;5;45mNone\u001b[0m, \u001b[38;5;34m8\u001b[0m)              │           \u001b[38;5;34m248\u001b[0m │\n",
       "├─────────────────────────────────┼────────────────────────┼───────────────┤\n",
       "│ dense_5 (\u001b[38;5;33mDense\u001b[0m)                 │ (\u001b[38;5;45mNone\u001b[0m, \u001b[38;5;34m1\u001b[0m)              │             \u001b[38;5;34m9\u001b[0m │\n",
       "└─────────────────────────────────┴────────────────────────┴───────────────┘\n"
      ]
     },
     "metadata": {},
     "output_type": "display_data"
    },
    {
     "data": {
      "text/html": [
       "<pre style=\"white-space:pre;overflow-x:auto;line-height:normal;font-family:Menlo,'DejaVu Sans Mono',consolas,'Courier New',monospace\"><span style=\"font-weight: bold\"> Total params: </span><span style=\"color: #00af00; text-decoration-color: #00af00\">61,175</span> (238.97 KB)\n",
       "</pre>\n"
      ],
      "text/plain": [
       "\u001b[1m Total params: \u001b[0m\u001b[38;5;34m61,175\u001b[0m (238.97 KB)\n"
      ]
     },
     "metadata": {},
     "output_type": "display_data"
    },
    {
     "data": {
      "text/html": [
       "<pre style=\"white-space:pre;overflow-x:auto;line-height:normal;font-family:Menlo,'DejaVu Sans Mono',consolas,'Courier New',monospace\"><span style=\"font-weight: bold\"> Trainable params: </span><span style=\"color: #00af00; text-decoration-color: #00af00\">20,391</span> (79.65 KB)\n",
       "</pre>\n"
      ],
      "text/plain": [
       "\u001b[1m Trainable params: \u001b[0m\u001b[38;5;34m20,391\u001b[0m (79.65 KB)\n"
      ]
     },
     "metadata": {},
     "output_type": "display_data"
    },
    {
     "data": {
      "text/html": [
       "<pre style=\"white-space:pre;overflow-x:auto;line-height:normal;font-family:Menlo,'DejaVu Sans Mono',consolas,'Courier New',monospace\"><span style=\"font-weight: bold\"> Non-trainable params: </span><span style=\"color: #00af00; text-decoration-color: #00af00\">0</span> (0.00 B)\n",
       "</pre>\n"
      ],
      "text/plain": [
       "\u001b[1m Non-trainable params: \u001b[0m\u001b[38;5;34m0\u001b[0m (0.00 B)\n"
      ]
     },
     "metadata": {},
     "output_type": "display_data"
    },
    {
     "data": {
      "text/html": [
       "<pre style=\"white-space:pre;overflow-x:auto;line-height:normal;font-family:Menlo,'DejaVu Sans Mono',consolas,'Courier New',monospace\"><span style=\"font-weight: bold\"> Optimizer params: </span><span style=\"color: #00af00; text-decoration-color: #00af00\">40,784</span> (159.32 KB)\n",
       "</pre>\n"
      ],
      "text/plain": [
       "\u001b[1m Optimizer params: \u001b[0m\u001b[38;5;34m40,784\u001b[0m (159.32 KB)\n"
      ]
     },
     "metadata": {},
     "output_type": "display_data"
    }
   ],
   "source": [
    "model.summary()"
   ]
  },
  {
   "cell_type": "code",
   "execution_count": 34,
   "id": "d128555a-00f0-44c8-93b3-40c587730dc0",
   "metadata": {},
   "outputs": [
    {
     "name": "stdout",
     "output_type": "stream",
     "text": [
      "\u001b[1m24/24\u001b[0m \u001b[32m━━━━━━━━━━━━━━━━━━━━\u001b[0m\u001b[37m\u001b[0m \u001b[1m0s\u001b[0m 2ms/step - accuracy: 0.9544 - loss: 0.2117 \n"
     ]
    }
   ],
   "source": [
    "loss, accuracy=model.evaluate(x,y)"
   ]
  },
  {
   "cell_type": "code",
   "execution_count": 35,
   "id": "f92966c6-054f-4202-9c66-d85f5d73eddd",
   "metadata": {},
   "outputs": [
    {
     "data": {
      "text/plain": [
       "0.9544270634651184"
      ]
     },
     "execution_count": 35,
     "metadata": {},
     "output_type": "execute_result"
    }
   ],
   "source": [
    "accuracy"
   ]
  },
  {
   "cell_type": "code",
   "execution_count": 36,
   "id": "8549bd51-d87d-4558-b4fb-ed2c684fdbab",
   "metadata": {},
   "outputs": [],
   "source": [
    "# derin ogrenme oncesi normalization yapmamiz gerekiyor"
   ]
  },
  {
   "cell_type": "code",
   "execution_count": 37,
   "id": "084f6b41-a05d-4b13-b025-9dd3c8b46021",
   "metadata": {},
   "outputs": [],
   "source": [
    "from sklearn.preprocessing import StandardScaler"
   ]
  },
  {
   "cell_type": "code",
   "execution_count": 46,
   "id": "7cfe5efe-f6b0-4cc4-9e1e-209219747318",
   "metadata": {},
   "outputs": [],
   "source": [
    "scaler=StandardScaler()"
   ]
  },
  {
   "cell_type": "code",
   "execution_count": 47,
   "id": "ed85efe1-97fc-4ab6-909f-a8010536cd6c",
   "metadata": {},
   "outputs": [],
   "source": [
    "x=scaler.fit_transform(x)"
   ]
  },
  {
   "cell_type": "code",
   "execution_count": 48,
   "id": "bea9a090-f97e-45db-aa1f-ac17b0bef46b",
   "metadata": {},
   "outputs": [],
   "source": [
    "# normalize etmis olduk simdi tekrardan derin ogrenme yapiyoruz (tensorflow data nin normalize edilmis halini istiyor)"
   ]
  },
  {
   "cell_type": "code",
   "execution_count": 49,
   "id": "45ec09c0-70fe-4d0b-a790-84598db5764d",
   "metadata": {},
   "outputs": [],
   "source": [
    "history=model.fit(x,y, batch_size=32, validation_split=0.10, verbose=0, epochs=100) "
   ]
  },
  {
   "cell_type": "code",
   "execution_count": 50,
   "id": "1ecce2fa-30e0-4610-8c19-10e5ff327b67",
   "metadata": {},
   "outputs": [
    {
     "name": "stdout",
     "output_type": "stream",
     "text": [
      "\u001b[1m24/24\u001b[0m \u001b[32m━━━━━━━━━━━━━━━━━━━━\u001b[0m\u001b[37m\u001b[0m \u001b[1m0s\u001b[0m 2ms/step - accuracy: 0.9727 - loss: 0.3040 \n"
     ]
    },
    {
     "data": {
      "text/plain": [
       "0.97265625"
      ]
     },
     "execution_count": 50,
     "metadata": {},
     "output_type": "execute_result"
    }
   ],
   "source": [
    "loss, accuracy=model.evaluate(x,y)\n",
    "accuracy"
   ]
  },
  {
   "cell_type": "code",
   "execution_count": 51,
   "id": "4c99143c-5145-4cbb-970b-fa739c8f70be",
   "metadata": {},
   "outputs": [],
   "source": [
    "# simdi grafigini cizdirelim"
   ]
  },
  {
   "cell_type": "code",
   "execution_count": 52,
   "id": "b2802c13-1a03-4ed9-b816-50ad634c7b42",
   "metadata": {},
   "outputs": [],
   "source": [
    "import matplotlib.pyplot as plt"
   ]
  },
  {
   "cell_type": "code",
   "execution_count": 53,
   "id": "fd423e99-5a22-47e3-95ec-088ee079bab6",
   "metadata": {},
   "outputs": [
    {
     "data": {
      "text/plain": [
       "[<matplotlib.lines.Line2D at 0x1d3084e2350>]"
      ]
     },
     "execution_count": 53,
     "metadata": {},
     "output_type": "execute_result"
    },
    {
     "data": {
      "image/png": "[encoded data removed]",
      "text/plain": [
       "<Figure size 640x480 with 1 Axes>"
      ]
     },
     "metadata": {},
     "output_type": "display_data"
    }
   ],
   "source": [
    "plt.plot(history.history['accuracy']) # gordugu data\n",
    "plt.plot(history.history['val_accuracy']) # gormedigi data"
   ]
  },
  {
   "cell_type": "markdown",
   "id": "43491e08-9346-4886-8976-b651caece564",
   "metadata": {},
   "source": [
    "### Regression"
   ]
  },
  {
   "cell_type": "code",
   "execution_count": 56,
   "id": "18e1216c-c933-46d7-b454-06384240a927",
   "metadata": {},
   "outputs": [],
   "source": [
    "df=pd.read_pickle('kc_house.pkl') # future engine yapilmis islemi data pkl olarak kaydedilmis ve getirilmis oluyor(House)"
   ]
  },
  {
   "cell_type": "code",
   "execution_count": 57,
   "id": "2a9c3d3e-d5a3-4a19-bb79-e710cabd8262",
   "metadata": {},
   "outputs": [
    {
     "data": {
      "text/html": [
       "<div>\n",
       "<style scoped>\n",
       "    .dataframe tbody tr th:only-of-type {\n",
       "        vertical-align: middle;\n",
       "    }\n",
       "\n",
       "    .dataframe tbody tr th {\n",
       "        vertical-align: top;\n",
       "    }\n",
       "\n",
       "    .dataframe thead th {\n",
       "        text-align: right;\n",
       "    }\n",
       "</style>\n",
       "<table border=\"1\" class=\"dataframe\">\n",
       "  <thead>\n",
       "    <tr style=\"text-align: right;\">\n",
       "      <th></th>\n",
       "      <th>bedrooms</th>\n",
       "      <th>bathrooms</th>\n",
       "      <th>sqft_living</th>\n",
       "      <th>grade</th>\n",
       "      <th>view</th>\n",
       "      <th>basement</th>\n",
       "      <th>waterfront</th>\n",
       "      <th>floors</th>\n",
       "      <th>age</th>\n",
       "      <th>renovated</th>\n",
       "      <th>...</th>\n",
       "      <th>zipcode_98146</th>\n",
       "      <th>zipcode_98148</th>\n",
       "      <th>zipcode_98155</th>\n",
       "      <th>zipcode_98166</th>\n",
       "      <th>zipcode_98168</th>\n",
       "      <th>zipcode_98177</th>\n",
       "      <th>zipcode_98178</th>\n",
       "      <th>zipcode_98188</th>\n",
       "      <th>zipcode_98198</th>\n",
       "      <th>zipcode_98199</th>\n",
       "    </tr>\n",
       "  </thead>\n",
       "  <tbody>\n",
       "    <tr>\n",
       "      <th>0</th>\n",
       "      <td>9</td>\n",
       "      <td>1.0000</td>\n",
       "      <td>1180</td>\n",
       "      <td>7</td>\n",
       "      <td>0</td>\n",
       "      <td>0</td>\n",
       "      <td>0</td>\n",
       "      <td>1.0</td>\n",
       "      <td>65</td>\n",
       "      <td>0</td>\n",
       "      <td>...</td>\n",
       "      <td>0</td>\n",
       "      <td>0</td>\n",
       "      <td>0</td>\n",
       "      <td>0</td>\n",
       "      <td>0</td>\n",
       "      <td>0</td>\n",
       "      <td>1</td>\n",
       "      <td>0</td>\n",
       "      <td>0</td>\n",
       "      <td>0</td>\n",
       "    </tr>\n",
       "    <tr>\n",
       "      <th>1</th>\n",
       "      <td>9</td>\n",
       "      <td>5.0625</td>\n",
       "      <td>2570</td>\n",
       "      <td>7</td>\n",
       "      <td>0</td>\n",
       "      <td>1</td>\n",
       "      <td>0</td>\n",
       "      <td>2.0</td>\n",
       "      <td>69</td>\n",
       "      <td>1</td>\n",
       "      <td>...</td>\n",
       "      <td>0</td>\n",
       "      <td>0</td>\n",
       "      <td>0</td>\n",
       "      <td>0</td>\n",
       "      <td>0</td>\n",
       "      <td>0</td>\n",
       "      <td>0</td>\n",
       "      <td>0</td>\n",
       "      <td>0</td>\n",
       "      <td>0</td>\n",
       "    </tr>\n",
       "    <tr>\n",
       "      <th>2</th>\n",
       "      <td>4</td>\n",
       "      <td>1.0000</td>\n",
       "      <td>770</td>\n",
       "      <td>6</td>\n",
       "      <td>0</td>\n",
       "      <td>0</td>\n",
       "      <td>0</td>\n",
       "      <td>1.0</td>\n",
       "      <td>87</td>\n",
       "      <td>0</td>\n",
       "      <td>...</td>\n",
       "      <td>0</td>\n",
       "      <td>0</td>\n",
       "      <td>0</td>\n",
       "      <td>0</td>\n",
       "      <td>0</td>\n",
       "      <td>0</td>\n",
       "      <td>0</td>\n",
       "      <td>0</td>\n",
       "      <td>0</td>\n",
       "      <td>0</td>\n",
       "    </tr>\n",
       "    <tr>\n",
       "      <th>3</th>\n",
       "      <td>16</td>\n",
       "      <td>9.0000</td>\n",
       "      <td>1960</td>\n",
       "      <td>7</td>\n",
       "      <td>0</td>\n",
       "      <td>1</td>\n",
       "      <td>0</td>\n",
       "      <td>1.0</td>\n",
       "      <td>55</td>\n",
       "      <td>0</td>\n",
       "      <td>...</td>\n",
       "      <td>0</td>\n",
       "      <td>0</td>\n",
       "      <td>0</td>\n",
       "      <td>0</td>\n",
       "      <td>0</td>\n",
       "      <td>0</td>\n",
       "      <td>0</td>\n",
       "      <td>0</td>\n",
       "      <td>0</td>\n",
       "      <td>0</td>\n",
       "    </tr>\n",
       "    <tr>\n",
       "      <th>4</th>\n",
       "      <td>9</td>\n",
       "      <td>4.0000</td>\n",
       "      <td>1680</td>\n",
       "      <td>8</td>\n",
       "      <td>0</td>\n",
       "      <td>0</td>\n",
       "      <td>0</td>\n",
       "      <td>1.0</td>\n",
       "      <td>33</td>\n",
       "      <td>0</td>\n",
       "      <td>...</td>\n",
       "      <td>0</td>\n",
       "      <td>0</td>\n",
       "      <td>0</td>\n",
       "      <td>0</td>\n",
       "      <td>0</td>\n",
       "      <td>0</td>\n",
       "      <td>0</td>\n",
       "      <td>0</td>\n",
       "      <td>0</td>\n",
       "      <td>0</td>\n",
       "    </tr>\n",
       "  </tbody>\n",
       "</table>\n",
       "<p>5 rows × 82 columns</p>\n",
       "</div>"
      ],
      "text/plain": [
       "   bedrooms  bathrooms  sqft_living  grade  view  basement  waterfront  \\\n",
       "0         9     1.0000         1180      7     0         0           0   \n",
       "1         9     5.0625         2570      7     0         1           0   \n",
       "2         4     1.0000          770      6     0         0           0   \n",
       "3        16     9.0000         1960      7     0         1           0   \n",
       "4         9     4.0000         1680      8     0         0           0   \n",
       "\n",
       "   floors  age  renovated  ...  zipcode_98146  zipcode_98148  zipcode_98155  \\\n",
       "0     1.0   65          0  ...              0              0              0   \n",
       "1     2.0   69          1  ...              0              0              0   \n",
       "2     1.0   87          0  ...              0              0              0   \n",
       "3     1.0   55          0  ...              0              0              0   \n",
       "4     1.0   33          0  ...              0              0              0   \n",
       "\n",
       "   zipcode_98166  zipcode_98168  zipcode_98177  zipcode_98178  zipcode_98188  \\\n",
       "0              0              0              0              1              0   \n",
       "1              0              0              0              0              0   \n",
       "2              0              0              0              0              0   \n",
       "3              0              0              0              0              0   \n",
       "4              0              0              0              0              0   \n",
       "\n",
       "   zipcode_98198  zipcode_98199  \n",
       "0              0              0  \n",
       "1              0              0  \n",
       "2              0              0  \n",
       "3              0              0  \n",
       "4              0              0  \n",
       "\n",
       "[5 rows x 82 columns]"
      ]
     },
     "execution_count": 57,
     "metadata": {},
     "output_type": "execute_result"
    }
   ],
   "source": [
    "df.head()"
   ]
  },
  {
   "cell_type": "code",
   "execution_count": 58,
   "id": "594d235d-8a97-4f86-9e91-a983b60ef229",
   "metadata": {},
   "outputs": [],
   "source": [
    "x=df.drop('price', axis=1)\n",
    "y=df[['price']]"
   ]
  },
  {
   "cell_type": "code",
   "execution_count": 59,
   "id": "1e8cbfae-c620-49b4-8d7a-e9944abd9220",
   "metadata": {},
   "outputs": [],
   "source": [
    "x=scaler.fit_transform(x)"
   ]
  },
  {
   "cell_type": "code",
   "execution_count": 60,
   "id": "8ac44ee0-3751-412e-92aa-1fbf50db2727",
   "metadata": {},
   "outputs": [],
   "source": [
    "model=Sequential()\n",
    "# Dense butun noron butun noron ile baglanacak anlamina gelir, activation relu en iyi calisandir\n",
    "model.add(Dense(80, activation='relu')) # 1. noron hayal urunu 80 tane\n",
    "model.add(Dense(120, activation='relu')) # 2. noron hayal urunu 120 tane\n",
    "model.add(Dense(64, activation='relu')) # 3. noron hayal urunu 64 tane\n",
    "model.add(Dense(30, activation='relu'))\n",
    "model.add(Dense(8, activation='relu'))\n",
    "model.add(Dense(1)) # Regression oldugundan dolayi sigmoid kaldirdik\n",
    "\n",
    "model.compile(loss='mean_squared_error', optimizer='adam')"
   ]
  },
  {
   "cell_type": "code",
   "execution_count": 64,
   "id": "2f705a43-54c8-4153-9fe4-2f557e3e137f",
   "metadata": {},
   "outputs": [],
   "source": [
    "from sklearn.model_selection import train_test_split"
   ]
  },
  {
   "cell_type": "code",
   "execution_count": 65,
   "id": "d7e89f10-c935-4d17-8ba3-14528e420c81",
   "metadata": {},
   "outputs": [],
   "source": [
    "# bu sefer train test split ayirarak yapalim"
   ]
  },
  {
   "cell_type": "code",
   "execution_count": 66,
   "id": "65cd4c7f-b359-4f8b-8360-d50ec8cd3c6f",
   "metadata": {},
   "outputs": [],
   "source": [
    "x_train,x_test,y_train,y_test=train_test_split(x,y, test_size=.20,random_state=42)"
   ]
  },
  {
   "cell_type": "code",
   "execution_count": null,
   "id": "54499127-9495-4303-b633-43323bfe8dea",
   "metadata": {},
   "outputs": [],
   "source": [
    "history=model.fit(x_train,y_train, validation_data=(x_test,y_test), batch_size=64, verbose=1, epochs=120) "
   ]
  },
  {
   "cell_type": "code",
   "execution_count": 68,
   "id": "cd130ff2-dfe1-45f9-a356-30db71cea0af",
   "metadata": {},
   "outputs": [
    {
     "name": "stdout",
     "output_type": "stream",
     "text": [
      "\u001b[1m119/119\u001b[0m \u001b[32m━━━━━━━━━━━━━━━━━━━━\u001b[0m\u001b[37m\u001b[0m \u001b[1m0s\u001b[0m 1ms/step  \n"
     ]
    }
   ],
   "source": [
    "tahmin=model.predict(x_test)"
   ]
  },
  {
   "cell_type": "code",
   "execution_count": 69,
   "id": "e6144830-537e-41ea-a31b-1208ae3ea59c",
   "metadata": {},
   "outputs": [],
   "source": [
    "from sklearn.metrics import r2_score, mean_squared_error"
   ]
  },
  {
   "cell_type": "code",
   "execution_count": 70,
   "id": "b2e132ef-cd10-440c-aaa1-bd44bb29b718",
   "metadata": {},
   "outputs": [
    {
     "data": {
      "text/plain": [
       "0.8488237261772156"
      ]
     },
     "execution_count": 70,
     "metadata": {},
     "output_type": "execute_result"
    }
   ],
   "source": [
    "r2_score(y_test,tahmin)"
   ]
  },
  {
   "cell_type": "code",
   "execution_count": 71,
   "id": "bfa05718-3735-48c7-8559-73a4847bee02",
   "metadata": {},
   "outputs": [
    {
     "data": {
      "text/plain": [
       "87970.56380403618"
      ]
     },
     "execution_count": 71,
     "metadata": {},
     "output_type": "execute_result"
    }
   ],
   "source": [
    "mean_squared_error(y_test,tahmin)**.5"
   ]
  },
  {
   "cell_type": "code",
   "execution_count": 73,
   "id": "46c7e7b0-4333-4d83-ab09-291a269b1ad2",
   "metadata": {},
   "outputs": [
    {
     "data": {
      "text/plain": [
       "[<matplotlib.lines.Line2D at 0x1d30ada8cd0>]"
      ]
     },
     "execution_count": 73,
     "metadata": {},
     "output_type": "execute_result"
    },
    {
     "data": {
      "image/png": "[encoded data removed]",
      "text/plain": [
       "<Figure size 640x480 with 1 Axes>"
      ]
     },
     "metadata": {},
     "output_type": "display_data"
    }
   ],
   "source": [
    "plt.plot(history.history['loss'])"
   ]
  },
  {
   "cell_type": "markdown",
   "id": "a40439a5-592f-4a0d-a00d-4d58049d2862",
   "metadata": {},
   "source": [
    "### Early Stopping - en optumum durumda durarak en iyi accuricy vs buluyor ve bilgisayari yormuyor"
   ]
  },
  {
   "cell_type": "code",
   "execution_count": 80,
   "id": "0a2f7339-7b3c-40b6-bd06-ca4f88230dba",
   "metadata": {},
   "outputs": [],
   "source": [
    "df=pd.read_excel('cars.xls')"
   ]
  },
  {
   "cell_type": "code",
   "execution_count": 81,
   "id": "5d500fbf-4b93-417c-a333-5db0d7800b05",
   "metadata": {},
   "outputs": [],
   "source": [
    "x=df.drop('Price', axis=1)\n",
    "y=df[['Price']]"
   ]
  },
  {
   "cell_type": "code",
   "execution_count": 82,
   "id": "165fe528-048b-446f-9bc9-d3f35271f36a",
   "metadata": {},
   "outputs": [],
   "source": [
    "x=pd.get_dummies(x,drop_first=True)"
   ]
  },
  {
   "cell_type": "code",
   "execution_count": 83,
   "id": "517a839a-5bf2-4a44-919b-0eaf906c4776",
   "metadata": {},
   "outputs": [],
   "source": [
    "x=scaler.fit_transform(x) # normalizatin yapildi"
   ]
  },
  {
   "cell_type": "code",
   "execution_count": 84,
   "id": "6e1dbd13-3823-4cad-911b-528493bcaf90",
   "metadata": {},
   "outputs": [],
   "source": [
    "model=Sequential()\n",
    "model.add(Dense(80, activation='relu')) \n",
    "model.add(Dense(128, activation='relu')) \n",
    "model.add(Dense(256, activation='relu')) \n",
    "model.add(Dense(149, activation='relu')) \n",
    "model.add(Dense(64, activation='relu')) \n",
    "model.add(Dense(30, activation='relu'))\n",
    "model.add(Dense(8, activation='relu'))\n",
    "model.add(Dense(1)) \n",
    "\n",
    "model.compile(loss='mean_squared_error', optimizer='adam')"
   ]
  },
  {
   "cell_type": "code",
   "execution_count": 85,
   "id": "7f9d3f65-84d7-4ab1-a02c-63180382ce35",
   "metadata": {},
   "outputs": [],
   "source": [
    "from tensorflow.keras.callbacks import EarlyStopping"
   ]
  },
  {
   "cell_type": "code",
   "execution_count": 86,
   "id": "8b5eeaa9-c6aa-499d-b6db-99880fe7e7bf",
   "metadata": {},
   "outputs": [],
   "source": [
    "early_stop=EarlyStopping(monitor='val_loss',patience=10)"
   ]
  },
  {
   "cell_type": "code",
   "execution_count": 87,
   "id": "7e061feb-4edb-4f53-8568-246903fb3b9b",
   "metadata": {},
   "outputs": [
    {
     "name": "stdout",
     "output_type": "stream",
     "text": [
      "Epoch 1/130\n",
      "\u001b[1m476/476\u001b[0m \u001b[32m━━━━━━━━━━━━━━━━━━━━\u001b[0m\u001b[37m\u001b[0m \u001b[1m3s\u001b[0m 2ms/step - loss: 50174504960.0000 - val_loss: 8944253952.0000\n",
      "Epoch 2/130\n",
      "\u001b[1m476/476\u001b[0m \u001b[32m━━━━━━━━━━━━━━━━━━━━\u001b[0m\u001b[37m\u001b[0m \u001b[1m1s\u001b[0m 2ms/step - loss: 8231870464.0000 - val_loss: 8448510464.0000\n",
      "Epoch 3/130\n",
      "\u001b[1m476/476\u001b[0m \u001b[32m━━━━━━━━━━━━━━━━━━━━\u001b[0m\u001b[37m\u001b[0m \u001b[1m1s\u001b[0m 2ms/step - loss: 7927809024.0000 - val_loss: 8139161088.0000\n",
      "Epoch 4/130\n",
      "\u001b[1m476/476\u001b[0m \u001b[32m━━━━━━━━━━━━━━━━━━━━\u001b[0m\u001b[37m\u001b[0m \u001b[1m1s\u001b[0m 2ms/step - loss: 7701215232.0000 - val_loss: 8136261120.0000\n",
      "Epoch 5/130\n",
      "\u001b[1m476/476\u001b[0m \u001b[32m━━━━━━━━━━━━━━━━━━━━\u001b[0m\u001b[37m\u001b[0m \u001b[1m1s\u001b[0m 2ms/step - loss: 7565527040.0000 - val_loss: 9055733760.0000\n",
      "Epoch 6/130\n",
      "\u001b[1m476/476\u001b[0m \u001b[32m━━━━━━━━━━━━━━━━━━━━\u001b[0m\u001b[37m\u001b[0m \u001b[1m1s\u001b[0m 2ms/step - loss: 7439814656.0000 - val_loss: 8022947840.0000\n",
      "Epoch 7/130\n",
      "\u001b[1m476/476\u001b[0m \u001b[32m━━━━━━━━━━━━━━━━━━━━\u001b[0m\u001b[37m\u001b[0m \u001b[1m1s\u001b[0m 2ms/step - loss: 7347943424.0000 - val_loss: 8002884096.0000\n",
      "Epoch 8/130\n",
      "\u001b[1m476/476\u001b[0m \u001b[32m━━━━━━━━━━━━━━━━━━━━\u001b[0m\u001b[37m\u001b[0m \u001b[1m1s\u001b[0m 2ms/step - loss: 7316207104.0000 - val_loss: 8162263552.0000\n",
      "Epoch 9/130\n",
      "\u001b[1m476/476\u001b[0m \u001b[32m━━━━━━━━━━━━━━━━━━━━\u001b[0m\u001b[37m\u001b[0m \u001b[1m1s\u001b[0m 2ms/step - loss: 7225946112.0000 - val_loss: 8296787968.0000\n",
      "Epoch 10/130\n",
      "\u001b[1m476/476\u001b[0m \u001b[32m━━━━━━━━━━━━━━━━━━━━\u001b[0m\u001b[37m\u001b[0m \u001b[1m1s\u001b[0m 2ms/step - loss: 7186383360.0000 - val_loss: 8991421440.0000\n",
      "Epoch 11/130\n",
      "\u001b[1m476/476\u001b[0m \u001b[32m━━━━━━━━━━━━━━━━━━━━\u001b[0m\u001b[37m\u001b[0m \u001b[1m1s\u001b[0m 2ms/step - loss: 7077914624.0000 - val_loss: 8019675648.0000\n",
      "Epoch 12/130\n",
      "\u001b[1m476/476\u001b[0m \u001b[32m━━━━━━━━━━━━━━━━━━━━\u001b[0m\u001b[37m\u001b[0m \u001b[1m1s\u001b[0m 2ms/step - loss: 7036272128.0000 - val_loss: 7922903040.0000\n",
      "Epoch 13/130\n",
      "\u001b[1m476/476\u001b[0m \u001b[32m━━━━━━━━━━━━━━━━━━━━\u001b[0m\u001b[37m\u001b[0m \u001b[1m1s\u001b[0m 2ms/step - loss: 7117260288.0000 - val_loss: 8251526144.0000\n",
      "Epoch 14/130\n",
      "\u001b[1m476/476\u001b[0m \u001b[32m━━━━━━━━━━━━━━━━━━━━\u001b[0m\u001b[37m\u001b[0m \u001b[1m1s\u001b[0m 2ms/step - loss: 6952907776.0000 - val_loss: 7882638848.0000\n",
      "Epoch 15/130\n",
      "\u001b[1m476/476\u001b[0m \u001b[32m━━━━━━━━━━━━━━━━━━━━\u001b[0m\u001b[37m\u001b[0m \u001b[1m1s\u001b[0m 2ms/step - loss: 6859119104.0000 - val_loss: 9098777600.0000\n",
      "Epoch 16/130\n",
      "\u001b[1m476/476\u001b[0m \u001b[32m━━━━━━━━━━━━━━━━━━━━\u001b[0m\u001b[37m\u001b[0m \u001b[1m1s\u001b[0m 2ms/step - loss: 6925985280.0000 - val_loss: 7950704640.0000\n",
      "Epoch 17/130\n",
      "\u001b[1m476/476\u001b[0m \u001b[32m━━━━━━━━━━━━━━━━━━━━\u001b[0m\u001b[37m\u001b[0m \u001b[1m1s\u001b[0m 2ms/step - loss: 6964331520.0000 - val_loss: 7912956928.0000\n",
      "Epoch 18/130\n",
      "\u001b[1m476/476\u001b[0m \u001b[32m━━━━━━━━━━━━━━━━━━━━\u001b[0m\u001b[37m\u001b[0m \u001b[1m1s\u001b[0m 2ms/step - loss: 6822261248.0000 - val_loss: 8548223488.0000\n",
      "Epoch 19/130\n",
      "\u001b[1m476/476\u001b[0m \u001b[32m━━━━━━━━━━━━━━━━━━━━\u001b[0m\u001b[37m\u001b[0m \u001b[1m1s\u001b[0m 2ms/step - loss: 6810366464.0000 - val_loss: 8252003328.0000\n",
      "Epoch 20/130\n",
      "\u001b[1m476/476\u001b[0m \u001b[32m━━━━━━━━━━━━━━━━━━━━\u001b[0m\u001b[37m\u001b[0m \u001b[1m1s\u001b[0m 2ms/step - loss: 6789830144.0000 - val_loss: 8271243264.0000\n",
      "Epoch 21/130\n",
      "\u001b[1m476/476\u001b[0m \u001b[32m━━━━━━━━━━━━━━━━━━━━\u001b[0m\u001b[37m\u001b[0m \u001b[1m1s\u001b[0m 2ms/step - loss: 6736845824.0000 - val_loss: 8051246592.0000\n",
      "Epoch 22/130\n",
      "\u001b[1m476/476\u001b[0m \u001b[32m━━━━━━━━━━━━━━━━━━━━\u001b[0m\u001b[37m\u001b[0m \u001b[1m1s\u001b[0m 2ms/step - loss: 6793342464.0000 - val_loss: 7926073344.0000\n",
      "Epoch 23/130\n",
      "\u001b[1m476/476\u001b[0m \u001b[32m━━━━━━━━━━━━━━━━━━━━\u001b[0m\u001b[37m\u001b[0m \u001b[1m1s\u001b[0m 2ms/step - loss: 6709834240.0000 - val_loss: 7996843008.0000\n",
      "Epoch 24/130\n",
      "\u001b[1m476/476\u001b[0m \u001b[32m━━━━━━━━━━━━━━━━━━━━\u001b[0m\u001b[37m\u001b[0m \u001b[1m1s\u001b[0m 2ms/step - loss: 6672934912.0000 - val_loss: 8688830464.0000\n"
     ]
    }
   ],
   "source": [
    "history=model.fit(x_train,y_train, validation_data=(x_test,y_test), epochs=130,batch_size=32,callbacks=[early_stop],verbose=1)"
   ]
  },
  {
   "cell_type": "code",
   "execution_count": 88,
   "id": "468ae622-afc9-470f-9d04-250be550255c",
   "metadata": {},
   "outputs": [],
   "source": [
    "# 24. adimda durdu"
   ]
  },
  {
   "cell_type": "code",
   "execution_count": 89,
   "id": "6a03776d-9a5c-465d-81bd-4594b642a5f7",
   "metadata": {},
   "outputs": [
    {
     "name": "stdout",
     "output_type": "stream",
     "text": [
      "\u001b[1m119/119\u001b[0m \u001b[32m━━━━━━━━━━━━━━━━━━━━\u001b[0m\u001b[37m\u001b[0m \u001b[1m0s\u001b[0m 2ms/step  \n"
     ]
    }
   ],
   "source": [
    "tahmin=model.predict(x_test)"
   ]
  },
  {
   "cell_type": "code",
   "execution_count": 90,
   "id": "3b083ac7-8f64-499b-8558-80855e9b89c7",
   "metadata": {},
   "outputs": [
    {
     "data": {
      "text/plain": [
       "0.8186345100402832"
      ]
     },
     "execution_count": 90,
     "metadata": {},
     "output_type": "execute_result"
    }
   ],
   "source": [
    "r2_score(tahmin, y_test)"
   ]
  },
  {
   "cell_type": "code",
   "execution_count": 91,
   "id": "bbb6e3b5-b535-451c-917d-b7df5e416c03",
   "metadata": {},
   "outputs": [
    {
     "name": "stdout",
     "output_type": "stream",
     "text": [
      "Defaulting to user installation because normal site-packages is not writeable\n",
      "Collecting torch\n",
      "  Downloading torch-2.9.0-cp313-cp313-win_amd64.whl.metadata (30 kB)\n",
      "Requirement already satisfied: filelock in c:\\programdata\\anaconda3\\lib\\site-packages (from torch) (3.17.0)\n",
      "Requirement already satisfied: typing-extensions>=4.10.0 in c:\\programdata\\anaconda3\\lib\\site-packages (from torch) (4.12.2)\n",
      "Requirement already satisfied: sympy>=1.13.3 in c:\\programdata\\anaconda3\\lib\\site-packages (from torch) (1.13.3)\n",
      "Requirement already satisfied: networkx>=2.5.1 in c:\\programdata\\anaconda3\\lib\\site-packages (from torch) (3.4.2)\n",
      "Requirement already satisfied: jinja2 in c:\\programdata\\anaconda3\\lib\\site-packages (from torch) (3.1.6)\n",
      "Requirement already satisfied: fsspec>=0.8.5 in c:\\programdata\\anaconda3\\lib\\site-packages (from torch) (2025.3.2)\n",
      "Requirement already satisfied: setuptools in c:\\programdata\\anaconda3\\lib\\site-packages (from torch) (72.1.0)\n",
      "Requirement already satisfied: mpmath<1.4,>=1.1.0 in c:\\programdata\\anaconda3\\lib\\site-packages (from sympy>=1.13.3->torch) (1.3.0)\n",
      "Requirement already satisfied: MarkupSafe>=2.0 in c:\\programdata\\anaconda3\\lib\\site-packages (from jinja2->torch) (3.0.2)\n",
      "Downloading torch-2.9.0-cp313-cp313-win_amd64.whl (109.3 MB)\n",
      "   ---------------------------------------- 0.0/109.3 MB ? eta -:--:--\n",
      "   ---------------------------------------- 0.8/109.3 MB 6.0 MB/s eta 0:00:19\n",
      "    --------------------------------------- 1.8/109.3 MB 5.8 MB/s eta 0:00:19\n",
      "   - -------------------------------------- 3.1/109.3 MB 5.9 MB/s eta 0:00:18\n",
      "   - -------------------------------------- 4.5/109.3 MB 5.7 MB/s eta 0:00:19\n",
      "   -- ------------------------------------- 5.8/109.3 MB 5.8 MB/s eta 0:00:18\n",
      "   -- ------------------------------------- 6.8/109.3 MB 5.8 MB/s eta 0:00:18\n",
      "   -- ------------------------------------- 8.1/109.3 MB 5.8 MB/s eta 0:00:18\n",
      "   --- ------------------------------------ 9.4/109.3 MB 5.9 MB/s eta 0:00:18\n",
      "   --- ------------------------------------ 10.5/109.3 MB 5.7 MB/s eta 0:00:18\n",
      "   ---- ----------------------------------- 11.5/109.3 MB 5.7 MB/s eta 0:00:18\n",
      "   ---- ----------------------------------- 12.8/109.3 MB 5.7 MB/s eta 0:00:17\n",
      "   ----- ---------------------------------- 14.2/109.3 MB 5.8 MB/s eta 0:00:17\n",
      "   ----- ---------------------------------- 15.2/109.3 MB 5.7 MB/s eta 0:00:17\n",
      "   ------ --------------------------------- 16.5/109.3 MB 5.8 MB/s eta 0:00:17\n",
      "   ------ --------------------------------- 17.8/109.3 MB 5.8 MB/s eta 0:00:16\n",
      "   ------- -------------------------------- 19.1/109.3 MB 5.8 MB/s eta 0:00:16\n",
      "   ------- -------------------------------- 20.4/109.3 MB 5.8 MB/s eta 0:00:16\n",
      "   ------- -------------------------------- 21.5/109.3 MB 5.8 MB/s eta 0:00:16\n",
      "   -------- ------------------------------- 22.8/109.3 MB 5.8 MB/s eta 0:00:15\n",
      "   -------- ------------------------------- 23.9/109.3 MB 5.7 MB/s eta 0:00:15\n",
      "   --------- ------------------------------ 24.9/109.3 MB 5.7 MB/s eta 0:00:15\n",
      "   --------- ------------------------------ 26.2/109.3 MB 5.7 MB/s eta 0:00:15\n",
      "   ---------- ----------------------------- 27.5/109.3 MB 5.8 MB/s eta 0:00:15\n",
      "   ---------- ----------------------------- 28.8/109.3 MB 5.8 MB/s eta 0:00:14\n",
      "   ----------- ---------------------------- 30.1/109.3 MB 5.8 MB/s eta 0:00:14\n",
      "   ----------- ---------------------------- 31.2/109.3 MB 5.8 MB/s eta 0:00:14\n",
      "   ----------- ---------------------------- 32.5/109.3 MB 5.8 MB/s eta 0:00:14\n",
      "   ------------ --------------------------- 33.8/109.3 MB 5.8 MB/s eta 0:00:14\n",
      "   ------------ --------------------------- 35.1/109.3 MB 5.8 MB/s eta 0:00:13\n",
      "   ------------- -------------------------- 36.2/109.3 MB 5.8 MB/s eta 0:00:13\n",
      "   ------------- -------------------------- 37.5/109.3 MB 5.8 MB/s eta 0:00:13\n",
      "   -------------- ------------------------- 38.8/109.3 MB 5.8 MB/s eta 0:00:13\n",
      "   -------------- ------------------------- 40.1/109.3 MB 5.8 MB/s eta 0:00:12\n",
      "   --------------- ------------------------ 41.2/109.3 MB 5.8 MB/s eta 0:00:12\n",
      "   --------------- ------------------------ 42.5/109.3 MB 5.8 MB/s eta 0:00:12\n",
      "   ---------------- ----------------------- 43.8/109.3 MB 5.8 MB/s eta 0:00:12\n",
      "   ---------------- ----------------------- 44.8/109.3 MB 5.8 MB/s eta 0:00:12\n",
      "   ---------------- ----------------------- 46.1/109.3 MB 5.8 MB/s eta 0:00:11\n",
      "   ----------------- ---------------------- 47.4/109.3 MB 5.8 MB/s eta 0:00:11\n",
      "   ----------------- ---------------------- 48.8/109.3 MB 5.8 MB/s eta 0:00:11\n",
      "   ------------------ --------------------- 50.1/109.3 MB 5.8 MB/s eta 0:00:11\n",
      "   ------------------ --------------------- 51.1/109.3 MB 5.8 MB/s eta 0:00:11\n",
      "   ------------------- -------------------- 52.4/109.3 MB 5.8 MB/s eta 0:00:10\n",
      "   ------------------- -------------------- 53.7/109.3 MB 5.8 MB/s eta 0:00:10\n",
      "   -------------------- ------------------- 55.1/109.3 MB 5.8 MB/s eta 0:00:10\n",
      "   -------------------- ------------------- 56.1/109.3 MB 5.8 MB/s eta 0:00:10\n",
      "   --------------------- ------------------ 57.4/109.3 MB 5.8 MB/s eta 0:00:09\n",
      "   --------------------- ------------------ 58.7/109.3 MB 5.8 MB/s eta 0:00:09\n",
      "   --------------------- ------------------ 60.0/109.3 MB 5.8 MB/s eta 0:00:09\n",
      "   ---------------------- ----------------- 61.1/109.3 MB 5.8 MB/s eta 0:00:09\n",
      "   ---------------------- ----------------- 62.4/109.3 MB 5.8 MB/s eta 0:00:09\n",
      "   ----------------------- ---------------- 63.7/109.3 MB 5.8 MB/s eta 0:00:08\n",
      "   ----------------------- ---------------- 65.0/109.3 MB 5.8 MB/s eta 0:00:08\n",
      "   ------------------------ --------------- 66.1/109.3 MB 5.8 MB/s eta 0:00:08\n",
      "   ------------------------ --------------- 67.4/109.3 MB 5.8 MB/s eta 0:00:08\n",
      "   ------------------------- -------------- 68.7/109.3 MB 5.8 MB/s eta 0:00:07\n",
      "   ------------------------- -------------- 70.0/109.3 MB 5.8 MB/s eta 0:00:07\n",
      "   -------------------------- ------------- 71.3/109.3 MB 5.8 MB/s eta 0:00:07\n",
      "   -------------------------- ------------- 72.4/109.3 MB 5.8 MB/s eta 0:00:07\n",
      "   -------------------------- ------------- 73.7/109.3 MB 5.8 MB/s eta 0:00:07\n",
      "   --------------------------- ------------ 75.0/109.3 MB 5.8 MB/s eta 0:00:06\n",
      "   --------------------------- ------------ 75.8/109.3 MB 5.8 MB/s eta 0:00:06\n",
      "   ---------------------------- ----------- 77.1/109.3 MB 5.8 MB/s eta 0:00:06\n",
      "   ---------------------------- ----------- 78.4/109.3 MB 5.8 MB/s eta 0:00:06\n",
      "   ----------------------------- ---------- 79.7/109.3 MB 5.8 MB/s eta 0:00:06\n",
      "   ----------------------------- ---------- 80.7/109.3 MB 5.8 MB/s eta 0:00:05\n",
      "   ----------------------------- ---------- 81.8/109.3 MB 5.8 MB/s eta 0:00:05\n",
      "   ------------------------------ --------- 83.1/109.3 MB 5.8 MB/s eta 0:00:05\n",
      "   ------------------------------ --------- 84.1/109.3 MB 5.8 MB/s eta 0:00:05\n",
      "   ------------------------------- -------- 85.5/109.3 MB 5.8 MB/s eta 0:00:05\n",
      "   ------------------------------- -------- 86.5/109.3 MB 5.8 MB/s eta 0:00:04\n",
      "   -------------------------------- ------- 87.8/109.3 MB 5.8 MB/s eta 0:00:04\n",
      "   -------------------------------- ------- 88.9/109.3 MB 5.8 MB/s eta 0:00:04\n",
      "   --------------------------------- ------ 90.2/109.3 MB 5.8 MB/s eta 0:00:04\n",
      "   --------------------------------- ------ 91.2/109.3 MB 5.7 MB/s eta 0:00:04\n",
      "   --------------------------------- ------ 92.3/109.3 MB 5.7 MB/s eta 0:00:03\n",
      "   ---------------------------------- ----- 93.1/109.3 MB 5.7 MB/s eta 0:00:03\n",
      "   ---------------------------------- ----- 93.8/109.3 MB 5.7 MB/s eta 0:00:03\n",
      "   ---------------------------------- ----- 94.9/109.3 MB 5.7 MB/s eta 0:00:03\n",
      "   ----------------------------------- ---- 95.9/109.3 MB 5.7 MB/s eta 0:00:03\n",
      "   ----------------------------------- ---- 97.0/109.3 MB 5.7 MB/s eta 0:00:03\n",
      "   ----------------------------------- ---- 98.0/109.3 MB 5.7 MB/s eta 0:00:02\n",
      "   ------------------------------------ --- 99.1/109.3 MB 5.6 MB/s eta 0:00:02\n",
      "   ------------------------------------ --- 99.9/109.3 MB 5.6 MB/s eta 0:00:02\n",
      "   ------------------------------------ --- 100.9/109.3 MB 5.6 MB/s eta 0:00:02\n",
      "   ------------------------------------- -- 101.7/109.3 MB 5.6 MB/s eta 0:00:02\n",
      "   ------------------------------------- -- 102.5/109.3 MB 5.6 MB/s eta 0:00:02\n",
      "   ------------------------------------- -- 103.3/109.3 MB 5.6 MB/s eta 0:00:02\n",
      "   -------------------------------------- - 104.1/109.3 MB 5.5 MB/s eta 0:00:01\n",
      "   -------------------------------------- - 104.9/109.3 MB 5.5 MB/s eta 0:00:01\n",
      "   -------------------------------------- - 105.9/109.3 MB 5.5 MB/s eta 0:00:01\n",
      "   ---------------------------------------  106.7/109.3 MB 5.5 MB/s eta 0:00:01\n",
      "   ---------------------------------------  107.7/109.3 MB 5.5 MB/s eta 0:00:01\n",
      "   ---------------------------------------  108.5/109.3 MB 5.5 MB/s eta 0:00:01\n",
      "   ---------------------------------------  109.1/109.3 MB 5.5 MB/s eta 0:00:01\n",
      "   ---------------------------------------- 109.3/109.3 MB 5.4 MB/s eta 0:00:00\n",
      "Installing collected packages: torch\n",
      "Successfully installed torch-2.9.0\n",
      "Note: you may need to restart the kernel to use updated packages.\n"
     ]
    },
    {
     "name": "stderr",
     "output_type": "stream",
     "text": [
      "  WARNING: The scripts torchfrtrace.exe and torchrun.exe are installed in 'C:\\Users\\kosey\\AppData\\Roaming\\Python\\Python313\\Scripts' which is not on PATH.\n",
      "  Consider adding this directory to PATH or, if you prefer to suppress this warning, use --no-warn-script-location.\n"
     ]
    }
   ],
   "source": [
    "pip install torch"
   ]
  },
  {
   "cell_type": "code",
   "execution_count": 93,
   "id": "6b1b607a-4ef0-4f01-b252-fce9a04b06a1",
   "metadata": {},
   "outputs": [
    {
     "name": "stdout",
     "output_type": "stream",
     "text": [
      "Mileage               0\n",
      "Cylinder              0\n",
      "Liter                 0\n",
      "Doors                 0\n",
      "Cruise                0\n",
      "                     ..\n",
      "Trim_Sportwagon 4D    0\n",
      "Type_Coupe            0\n",
      "Type_Hatchback        0\n",
      "Type_Sedan            0\n",
      "Type_Wagon            0\n",
      "Length: 93, dtype: int64\n",
      "Price    0\n",
      "dtype: int64\n",
      "Epoch 0, Loss: 500403712.0\n",
      "Epoch 10, Loss: 227042304.0\n",
      "Epoch 20, Loss: 226957440.0\n",
      "Epoch 30, Loss: 229300608.0\n",
      "Epoch 40, Loss: 231284144.0\n",
      "Epoch 50, Loss: 233001552.0\n",
      "Epoch 60, Loss: 233371440.0\n",
      "Epoch 70, Loss: 232064944.0\n",
      "Epoch 80, Loss: 228076496.0\n",
      "Epoch 90, Loss: 217016528.0\n",
      "Epoch 100, Loss: 189391312.0\n",
      "Epoch 110, Loss: 64959644.0\n",
      "Epoch 120, Loss: 25714158.0\n",
      "Test Loss: 28813086.0\n"
     ]
    }
   ],
   "source": [
    "import pandas as pd\n",
    "import torch\n",
    "import torch.nn as nn\n",
    "import torch.optim as optim\n",
    "from sklearn.model_selection import train_test_split\n",
    "from sklearn.preprocessing import OneHotEncoder\n",
    "from sklearn.metrics import mean_squared_error\n",
    "\n",
    "# Veri hazırlığı\n",
    "x = df.drop('Price', axis=1)\n",
    "y = df[['Price']]\n",
    "\n",
    "# One-Hot Encoding\n",
    "x = pd.get_dummies(x, drop_first=True)\n",
    "\n",
    "# Veri tiplerini kontrol et ve dönüştür\n",
    "x = x.astype(float)\n",
    "y = y.astype(float)\n",
    "\n",
    "# Train-test split\n",
    "x_train, x_test, y_train, y_test = train_test_split(x, y, test_size=0.2, random_state=42)\n",
    "\n",
    "# Eksik değer kontrolü (isteğe bağlı)\n",
    "print(x_train.isnull().sum())\n",
    "print(y_train.isnull().sum())\n",
    "\n",
    "# PyTorch tensörlerine dönüştürme\n",
    "x_train_tensor = torch.tensor(x_train.values, dtype=torch.float32)\n",
    "y_train_tensor = torch.tensor(y_train.values, dtype=torch.float32)\n",
    "x_test_tensor = torch.tensor(x_test.values, dtype=torch.float32)\n",
    "y_test_tensor = torch.tensor(y_test.values, dtype=torch.float32)\n",
    "\n",
    "# Model tanımı\n",
    "class NeuralNetwork(nn.Module):\n",
    "    def __init__(self):\n",
    "        super(NeuralNetwork, self).__init__()\n",
    "        self.fc1 = nn.Linear(x_train.shape[1], 64)\n",
    "        self.fc2 = nn.Linear(64, 128)\n",
    "        self.fc3 = nn.Linear(128, 256)\n",
    "        self.fc4 = nn.Linear(256, 128)\n",
    "        self.fc5 = nn.Linear(128, 64)\n",
    "        self.fc6 = nn.Linear(64, 32)\n",
    "        self.fc7 = nn.Linear(32, 1)\n",
    "\n",
    "    def forward(self, x):\n",
    "        x = nn.ReLU()(self.fc1(x))\n",
    "        x = nn.ReLU()(self.fc2(x))\n",
    "        x = nn.ReLU()(self.fc3(x))\n",
    "        x = nn.ReLU()(self.fc4(x))\n",
    "        x = nn.ReLU()(self.fc5(x))\n",
    "        x = nn.ReLU()(self.fc6(x))\n",
    "        x = self.fc7(x)\n",
    "        return x\n",
    "\n",
    "# Modeli oluşturma\n",
    "model = NeuralNetwork()\n",
    "criterion = nn.MSELoss()\n",
    "optimizer = optim.Adam(model.parameters())\n",
    "\n",
    "# Eğitim döngüsü\n",
    "epochs = 130\n",
    "batch_size = 32\n",
    "for epoch in range(epochs):\n",
    "    model.train()\n",
    "    \n",
    "    # Mini-batch'ler oluşturma\n",
    "    for i in range(0, len(x_train_tensor), batch_size):\n",
    "        x_batch = x_train_tensor[i:i+batch_size]\n",
    "        y_batch = y_train_tensor[i:i+batch_size]\n",
    "        \n",
    "        optimizer.zero_grad()\n",
    "        outputs = model(x_batch)\n",
    "        loss = criterion(outputs, y_batch)\n",
    "        loss.backward()\n",
    "        optimizer.step()\n",
    "\n",
    "    # Her 10 epoch'ta bir kaybı yazdırma\n",
    "    if epoch % 10 == 0:\n",
    "        print(f'Epoch {epoch}, Loss: {loss.item()}')\n",
    "\n",
    "# Modeli test etme\n",
    "model.eval()\n",
    "with torch.no_grad():\n",
    "    test_outputs = model(x_test_tensor)\n",
    "    test_loss = mean_squared_error(y_test_tensor.numpy(), test_outputs.numpy())\n",
    "    print(f'Test Loss: {test_loss}')"
   ]
  },
  {
   "cell_type": "code",
   "execution_count": null,
   "id": "25eb2ccb-e340-467e-ad0c-5c85693806ad",
   "metadata": {},
   "outputs": [],
   "source": []
  }
 ],
 "metadata": {
  "kernelspec": {
   "display_name": "Python 3 (ipykernel)",
   "language": "python",
   "name": "python3"
  },
  "language_info": {
   "codemirror_mode": {
    "name": "ipython",
    "version": 3
   },
   "file_extension": ".py",
   "mimetype": "text/x-python",
   "name": "python",
   "nbconvert_exporter": "python",
   "pygments_lexer": "ipython3",
   "version": "3.13.5"
  }
 },
 "nbformat": 4,
 "nbformat_minor": 5
}
